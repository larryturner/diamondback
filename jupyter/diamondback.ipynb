{
 "cells": [
  {
   "cell_type": "code",
   "execution_count": 1,
   "source": [
    "\"\"\" **Description**\r\n",
    "    Diamondback is package which provides Digital Signal Processing ( DSP )\r\n",
    "    solutions, organized in the form of commons, filters, interfaces, models, and\r\n",
    "    transforms.\r\n",
    "\r\n",
    "    Diamondback complements Artificial Intelligence ( AI ) frameworks, by\r\n",
    "    defining components which analyze, filter, extract, model, and transform\r\n",
    "    data into forms which are useful in applications including pattern\r\n",
    "    recognition, feature extraction, and optimization.\r\n",
    "\r\n",
    "    Diamondback also facilitates classical signal processing solutions\r\n",
    "    including communications, modeling, signal identification and extraction,\r\n",
    "    and noise cancellation.\r\n",
    "    \r\n",
    "    **License**\r\n",
    "        `BSD-3C.  <https://github.com/larryturner/diamondback/blob/master/license>`_\r\n",
    "        © 2018 - 2021 Larry Turner, Schneider Electric Industries SAS. All rights reserved.\r\n",
    "    \r\n",
    "    **Author**\r\n",
    "        Larry Turner, Schneider Electric, Analytics & AI, 2018-01-23.\r\n",
    "\"\"\"\r\n",
    "\r\n",
    "from diamondback import Log\r\n",
    "from diamondback import FirFilter, IirFilter, ComplexBandPassFilter, ComplexExponentialFilter\r\n",
    "from diamondback import ComplexFrequencyFilter, DerivativeFilter, GoertzelFilter, IntegralFilter\r\n",
    "from diamondback import PolynomialRateFilter, PolyphaseRateFilter, WindowFilter\r\n",
    "from diamondback import DiversityModel, PrincipalComponentModel\r\n",
    "from diamondback import ComplexTransform, FourierTransform, PowerSpectrumTransform, WaveletTransform\r\n",
    "from PIL import Image\r\n",
    "from typing import Any\r\n",
    "import IPython\r\n",
    "import ipywidgets\r\n",
    "import math\r\n",
    "import matplotlib    \r\n",
    "import matplotlib.pyplot\r\n",
    "import numpy\r\n",
    "\r\n",
    "def label( axes : Any, title : str = '', x : str = '', y : str = '', grid : bool = True ) -> None :\r\n",
    "\r\n",
    "    \"\"\" Label plot title and axes, autoscale, and show grid.\r\n",
    "        \r\n",
    "        Arguments :\r\n",
    "            axes : Any.\r\n",
    "            title : str.\r\n",
    "            x : str - x label.\r\n",
    "            y : str - y label.\r\n",
    "            grid : bool.\r\n",
    "    \"\"\"\r\n",
    "\r\n",
    "    axes.set_xlabel( x )\r\n",
    "    axes.set_ylabel( y )\r\n",
    "    axes.set_title( title )\r\n",
    "    axes.grid( grid )\r\n",
    "    axes.autoscale( enable = True, axis = 'both', tight = True )\r\n",
    "    "
   ],
   "outputs": [],
   "metadata": {}
  },
  {
   "cell_type": "code",
   "execution_count": 2,
   "source": [
    "@ipywidgets.interact( )\r\n",
    "def interface( style = ipywidgets.Dropdown( description = 'Style', value = 'Hann', options = [ 'Blackman', 'Hamming', 'Hann', 'Kaiser' ], layout = { 'width' : '340px' } ),\r\n",
    "               frequency = ipywidgets.FloatSlider( description = 'Frequency', value = 0.1, min = 0.001, max = 0.999, step = 0.001, readout_format = '0.3f', layout = { 'width' : '420px' } ),\r\n",
    "               order = ipywidgets.IntSlider( description = 'Order', value = 64, min = 1, max = 4096, step = 1, layout = { 'width' : '420px' } ),\r\n",
    "               count = ipywidgets.IntSlider( description = 'Count', value = 1, min = 1, max = 16, step = 1, layout = { 'width' : '420px' } ),\r\n",
    "               complement = ipywidgets.IntSlider( description = 'Complement', value = False, min = False, max = True, layout = { 'width' : '420px' } ) ) :\r\n",
    "    \r\n",
    "    \"\"\" Finite Impulse Response Filter.\r\n",
    "        \r\n",
    "        Arguments :\r\n",
    "            style : str - in ( 'Blackman', 'Hamming', 'Hann', 'Kaiser' ).\r\n",
    "            frequency : float - relative to Nyquist in ( 0.0, 1.0 ).\r\n",
    "            order : int.\r\n",
    "            count : int.\r\n",
    "            complement : bool.\r\n",
    "    \"\"\"\r\n",
    "\r\n",
    "    try :\r\n",
    "        firfilter = FirFilter( style = style, frequency = frequency, order = order, count = count, complement = complement )\r\n",
    "    except Exception as ex :\r\n",
    "        Log.write( 'ERROR', ex )\r\n",
    "        return\r\n",
    "    widget = [ ipywidgets.Dropdown( description = r'$\\vec{b_{n}}$', value = str( firfilter.b[ 0 ] ), options = [ str( x ) for x in firfilter.b ], layout = { 'width' : '340px' } ) ]\r\n",
    "    display( ipywidgets.VBox( children = widget, layout = ipywidgets.Layout( display = 'flex', flex_flow = 'row' ) ) )\r\n",
    "    axes = matplotlib.pyplot.subplots( 2, 2, sharex = False, sharey = False, figsize = ( 18, 18 ) )[ 1 ]\r\n",
    "    \r\n",
    "    # Coefficients\r\n",
    "    \r\n",
    "    length = 1024\r\n",
    "    n = numpy.linspace( 0.0, order, order + 1 )\r\n",
    "    axes[ 0, 0 ].plot( n, numpy.zeros( order + 1 ), color = [ 0.0, 0.0, 0.0 ], linewidth = 2.0 )\r\n",
    "    axes[ 0, 0 ].plot( n, firfilter.b, color = [ 0.2, 0.2, 0.8 ], linewidth = 2.0 )\r\n",
    "    label( axes[ 0, 0 ], r'$Coefficients$', r'$n$', r'$\\vec{b_{n}}$' )\r\n",
    "    \r\n",
    "    # Roots\r\n",
    "    \r\n",
    "    plot = [ ]\r\n",
    "    p, z = firfilter.roots( count )\r\n",
    "    ii = numpy.where( z.real > 10.0 )[ 0 ]\r\n",
    "    z[ ii ] = 10.0 * numpy.sign( z[ ii ].real )\r\n",
    "    v = numpy.exp( 1j * math.pi * numpy.linspace( 0, 2.0 * math.pi, length ) )\r\n",
    "    axes[ 0, 1 ].plot( [ -1.0, 1.0 ], [ 0.0, 0.0 ], color = [ 0.0, 0.0, 0.0 ], linewidth = 2.0 )\r\n",
    "    axes[ 0, 1 ].plot( [ 0.0, 0.0 ], [ -1.0, 1.0 ], color = [ 0.0, 0.0, 0.0 ], linewidth = 2.0 )\r\n",
    "    axes[ 0, 1 ].plot( v.real, v.imag, color = [ 0.0, 0.0, 0.0 ], linewidth = 2.0 )\r\n",
    "    plot.append( axes[ 0, 1 ].plot( p.real, p.imag, linestyle = 'None', marker = '+', markeredgecolor = [ 0.8, 0.2, 0.2 ], markeredgewidth = 2.0, markerfacecolor = [ 1.0, 1.0, 1.0 ], markersize = 8.0 )[ 0 ] )\r\n",
    "    plot.append( axes[ 0, 1 ].plot( z.real, z.imag, linestyle = 'None', marker = 'o', markeredgecolor = [ 0.2, 0.2, 0.8 ], markeredgewidth = 2.0, markerfacecolor = [ 1.0, 1.0, 1.0 ], markersize = 8.0 )[ 0 ] )\r\n",
    "    axes[ 0, 1 ].legend( plot, ( r'$\\vec{p_{n}}$', r'$\\vec{z_{n}}$' ), loc = 'upper right' )\r\n",
    "    label( axes[ 0, 1 ], r'$Roots$', r'$real$', r'$imag$' )\r\n",
    "    \r\n",
    "    # Response\r\n",
    "    \r\n",
    "    h, f = firfilter.response( count = count )\r\n",
    "    h = 20.0 * numpy.log10( numpy.maximum( abs( h ), numpy.finfo( float ).eps ) )\r\n",
    "    ii, jj, = int( numpy.round( len( h ) // 2 * ( 1.0 - frequency ) ) ), int( numpy.round( len( h ) // 2 * ( 1.0 + frequency ) ) )\r\n",
    "    axes[ 1, 0 ].plot( f, -3.0 * numpy.ones( len( h ) ), color = [ 0.0, 0.0, 0.0 ], linewidth = 2.0 )\r\n",
    "    axes[ 1, 0 ].plot( f, h, color = [ 0.2, 0.2, 0.8 ], linewidth = 2.0 )\r\n",
    "    axes[ 1, 0 ].plot( -frequency, h[ ii ], linestyle = 'None', marker = 'o', markeredgecolor = [ 0.8, 0.2, 0.2 ], markeredgewidth = 2.0, markerfacecolor = 'None', markersize = 8.0 )\r\n",
    "    axes[ 1, 0 ].plot( frequency, h[ jj ], linestyle = 'None', marker = 'o', markeredgecolor = [ 0.8, 0.2, 0.2 ], markeredgewidth = 2.0, markerfacecolor = 'None', markersize = 8.0 )\r\n",
    "    label( axes[ 1, 0 ], r'$Response$', r'$f$', r'$H_{f}\\ dB$' )\r\n",
    "    \r\n",
    "    # Delay\r\n",
    "    \r\n",
    "    d, f = firfilter.delay( count = count )\r\n",
    "    d = numpy.round( d * 10.0 ) / 10.0  \r\n",
    "    axes[ 1, 1 ].plot( -frequency, d[ ii ], linestyle = 'None', marker = 'o', markeredgecolor = [ 0.8, 0.2, 0.2 ], markeredgewidth = 2.0, markerfacecolor = 'None', markersize = 8.0 )\r\n",
    "    axes[ 1, 1 ].plot( frequency, d[ jj ], linestyle = 'None', marker = 'o', markeredgecolor = [ 0.8, 0.2, 0.2 ], markeredgewidth = 2.0, markerfacecolor = 'None', markersize = 8.0 )\r\n",
    "    axes[ 1, 1 ].plot( f, d, color = [ 0.2, 0.2, 0.8 ], linewidth = 2.0 )\r\n",
    "    label( axes[ 1, 1 ], r'$Delay$', r'$f$', r'$\\tau_{f}\\ n$' )\r\n",
    "    matplotlib.pyplot.show( )\r\n",
    "    "
   ],
   "outputs": [
    {
     "output_type": "display_data",
     "data": {
      "application/vnd.jupyter.widget-view+json": {
       "version_major": 2,
       "version_minor": 0,
       "model_id": "138bc5a598594e1c81b3e7e5d8586f1e"
      },
      "text/plain": [
       "interactive(children=(Dropdown(description='Style', index=2, layout=Layout(width='340px'), options=('Blackman'…"
      ]
     },
     "metadata": {}
    },
    {
     "output_type": "display_data",
     "data": {
      "application/vnd.jupyter.widget-view+json": {
       "version_major": 2,
       "version_minor": 0,
       "model_id": "9e827f9da7ac4a559612468db6f8d07c"
      },
      "text/plain": [
       "VBox(children=(Dropdown(description='$\\\\vec{b_{n}}$', layout=Layout(width='340px'), options=('-0.0', '-2.46727…"
      ]
     },
     "metadata": {}
    }
   ],
   "metadata": {
    "scrolled": false
   }
  },
  {
   "cell_type": "code",
   "execution_count": 3,
   "source": [
    "@ipywidgets.interact( )\r\n",
    "def interface( style = ipywidgets.Dropdown( description = 'Style', value = 'Butterworth', options = [ 'Bessel', 'Butterworth', 'Chebyshev' ], layout = { 'width' : '340px' } ),\r\n",
    "               frequency = ipywidgets.FloatSlider( description = 'Frequency', value = 0.1, min = 0.001, max = 0.999, step = 0.001, readout_format = '0.3f', layout = { 'width' : '420px' } ),\r\n",
    "               order = ipywidgets.IntSlider( description = 'Order', value = 6, min = 1, max = 16, step = 1, layout = { 'width' : '420px' } ),\r\n",
    "               count = ipywidgets.IntSlider( description = 'Count', value = 1, min = 1, max = 16, step = 1, layout = { 'width' : '420px' } ),\r\n",
    "               complement = ipywidgets.IntSlider( description = 'Complement', value = False, min = False, max = True, layout = { 'width' : '420px' } ) ) :\r\n",
    "    \r\n",
    "    \"\"\" Infinite Impulse Response Filter.\r\n",
    "        \r\n",
    "        Arguments :\r\n",
    "            style : str - in ( 'Bessel', 'Butterworth', 'Chebyshev' ).\r\n",
    "            frequency : float - relative to Nyquist in ( 0.0, 1.0 ).\r\n",
    "            order : int.\r\n",
    "            count : int.\r\n",
    "            complement : bool.\r\n",
    "    \"\"\"\r\n",
    "    \r\n",
    "    iirfilter = IirFilter( style = style, frequency = frequency, order = order, count = count, complement = complement )\r\n",
    "    widget = [ ipywidgets.Dropdown( description = r'$\\vec{a_{n}}$', value = str( iirfilter.a[ 0 ] ), options = [ str( x ) for x in iirfilter.a ], layout = { 'width' : '340px' } ),\r\n",
    "               ipywidgets.Dropdown( description = r'$\\vec{b_{n}}$', value = str( iirfilter.b[ 0 ] ), options = [ str( x ) for x in iirfilter.b ], layout = { 'width' : '340px' } ) ]\r\n",
    "    display( ipywidgets.VBox( children = widget, layout = ipywidgets.Layout( display = 'flex', flex_flow = 'row' ) ) )\r\n",
    "    axes = matplotlib.pyplot.subplots( 2, 2, sharex = False, sharey = False, figsize = ( 18, 18 ) )[ 1 ]\r\n",
    "    \r\n",
    "    # Coefficients\r\n",
    "\r\n",
    "    plot = [ ]\r\n",
    "    length = 1024\r\n",
    "    n = numpy.linspace( 0.0, order, order + 1 )    \r\n",
    "    axes[ 0, 0 ].plot( n, numpy.zeros( order + 1 ), color = [ 0.0, 0.0, 0.0 ], linewidth = 2.0 )\r\n",
    "    axes[ 0, 0 ].bar( n, iirfilter.a, color = [ 0.8, 0.2, 0.2 ], width = 0.006 * ( order + 1 ) )\r\n",
    "    axes[ 0, 0 ].bar( n, iirfilter.b, color = [ 0.2, 0.2, 0.8 ], width = 0.006 * ( order + 1 ) )\r\n",
    "    plot.append( axes[ 0, 0 ].plot( n, iirfilter.a, linestyle = 'None', marker = 'o', markeredgecolor = [ 0.8, 0.2, 0.2 ], markeredgewidth = 2.0, markerfacecolor = [ 1.0, 1.0, 1.0 ], markersize = 8.0 )[ 0 ] )\r\n",
    "    plot.append( axes[ 0, 0 ].plot( n, iirfilter.b, linestyle = 'None', marker = 'o', markeredgecolor = [ 0.2, 0.2, 0.8 ], markeredgewidth = 2.0, markerfacecolor = [ 1.0, 1.0, 1.0 ], markersize = 8.0 )[ 0 ] )\r\n",
    "    axes[ 0, 0 ].legend( plot, ( r'$\\vec{a_{n}}$', r'$\\vec{b_{n}}$' ), loc = 'upper right' )\r\n",
    "    label( axes[ 0, 0 ], r'$Coefficients$', r'$n$' )\r\n",
    "    \r\n",
    "    # Roots\r\n",
    "\r\n",
    "    plot = [ ]\r\n",
    "    p, z = iirfilter.roots( count )\r\n",
    "    ii = numpy.where( z.real > 10.0 )[ 0 ]\r\n",
    "    z[ ii ] = 10.0 * numpy.sign( z[ ii ].real )\r\n",
    "    v = numpy.exp( 1j * math.pi * numpy.linspace( 0, 2.0 * math.pi, length ) )\r\n",
    "    axes[ 0, 1 ].plot( [ -1.0, 1.0 ], [ 0.0, 0.0 ], color = [ 0.0, 0.0, 0.0 ], linewidth = 2.0 )\r\n",
    "    axes[ 0, 1 ].plot( [ 0.0, 0.0 ], [ -1.0, 1.0 ], color = [ 0.0, 0.0, 0.0 ], linewidth = 2.0 )\r\n",
    "    axes[ 0, 1 ].plot( v.real, v.imag, color = [ 0.0, 0.0, 0.0 ], linewidth = 2.0 )\r\n",
    "    plot.append( axes[ 0, 1 ].plot( p.real, p.imag, linestyle = 'None', marker = '+', markeredgecolor = [ 0.8, 0.2, 0.2 ], markeredgewidth = 2.0, markerfacecolor = [ 1.0, 1.0, 1.0 ], markersize = 8.0 )[ 0 ] )\r\n",
    "    plot.append( axes[ 0, 1 ].plot( z.real, z.imag, linestyle = 'None', marker = 'o', markeredgecolor = [ 0.2, 0.2, 0.8 ], markeredgewidth = 2.0, markerfacecolor = [ 1.0, 1.0, 1.0 ], markersize = 8.0 )[ 0 ] )\r\n",
    "    axes[ 0, 1 ].legend( plot, ( r'$\\vec{p_{n}}$', r'$\\vec{z_{n}}$' ), loc = 'upper right' )\r\n",
    "    label( axes[ 0, 1 ], r'$Roots$', r'$real$', r'$imag$' )\r\n",
    "    \r\n",
    "    # Response\r\n",
    "    \r\n",
    "    h, f = iirfilter.response( count = count )\r\n",
    "    h = 20.0 * numpy.log10( numpy.maximum( abs( h ), numpy.finfo( float ).eps ) )\r\n",
    "    ii, jj, = int( numpy.round( len( h ) // 2 * ( 1.0 - frequency ) ) ), int( numpy.round( len( h ) // 2 * ( 1.0 + frequency ) ) )\r\n",
    "    axes[ 1, 0 ].plot( f, -3.0 * numpy.ones( len( h ) ), color = [ 0.0, 0.0, 0.0 ], linewidth = 2.0 )\r\n",
    "    axes[ 1, 0 ].plot( f, h, color = [ 0.2, 0.2, 0.8 ], linewidth = 2.0 )\r\n",
    "    axes[ 1, 0 ].plot( -frequency, h[ ii ], linestyle = 'None', marker = 'o', markeredgecolor = [ 0.8, 0.2, 0.2 ], markeredgewidth = 2.0, markerfacecolor = 'None', markersize = 8.0 )\r\n",
    "    axes[ 1, 0 ].plot( frequency, h[ jj ], linestyle = 'None', marker = 'o', markeredgecolor = [ 0.8, 0.2, 0.2 ], markeredgewidth = 2.0, markerfacecolor = 'None', markersize = 8.0 )\r\n",
    "    label( axes[ 1, 0 ], r'$Response$', r'$f$', r'$H_{f}\\ dB$' )\r\n",
    "\r\n",
    "    # Delay\r\n",
    "    \r\n",
    "    d, f = iirfilter.delay( count = count )\r\n",
    "    d = numpy.round( d * 10.0 ) / 10.0  \r\n",
    "    axes[ 1, 1 ].plot( -frequency, d[ ii ], linestyle = 'None', marker = 'o', markeredgecolor = [ 0.8, 0.2, 0.2 ], markeredgewidth = 2.0, markerfacecolor = 'None', markersize = 8.0 )\r\n",
    "    axes[ 1, 1 ].plot( frequency, d[ jj ], linestyle = 'None', marker = 'o', markeredgecolor = [ 0.8, 0.2, 0.2 ], markeredgewidth = 2.0, markerfacecolor = 'None', markersize = 8.0 )\r\n",
    "    axes[ 1, 1 ].plot( f, d, color = [ 0.2, 0.2, 0.8 ], linewidth = 2.0 )\r\n",
    "    label( axes[ 1, 1 ], r'$Delay$', r'$f$', r'$\\tau_{f}\\ n$' )\r\n",
    "    matplotlib.pyplot.show( )\r\n",
    "    "
   ],
   "outputs": [
    {
     "output_type": "display_data",
     "data": {
      "application/vnd.jupyter.widget-view+json": {
       "version_major": 2,
       "version_minor": 0,
       "model_id": "52050271b48c40c7a6267cc4d0238300"
      },
      "text/plain": [
       "interactive(children=(Dropdown(description='Style', index=1, layout=Layout(width='340px'), options=('Bessel', …"
      ]
     },
     "metadata": {}
    },
    {
     "output_type": "display_data",
     "data": {
      "application/vnd.jupyter.widget-view+json": {
       "version_major": 2,
       "version_minor": 0,
       "model_id": "60e12d4e8b31477da0ecca7fecbd25b1"
      },
      "text/plain": [
       "VBox(children=(Dropdown(description='$\\\\vec{a_{n}}$', layout=Layout(width='340px'), options=('0.0', '4.7871354…"
      ]
     },
     "metadata": {}
    }
   ],
   "metadata": {
    "scrolled": false
   }
  },
  {
   "cell_type": "code",
   "execution_count": 4,
   "source": [
    "@ipywidgets.interact( )\r\n",
    "def interface( incident = ipywidgets.FloatRangeSlider( description = 'Incident', value = [ -0.05, 0.1 ], min = -1.0, max = 0.99, step = 0.01, layout = { 'width' : '420px' } ),\r\n",
    "               noise = ipywidgets.FloatSlider( description = 'Noise', value = 0.0, min = 0.0, max = 0.5, step = 0.01, layout = { 'width' : '420px' } ),               \r\n",
    "               derivative = ipywidgets.IntSlider( description = 'Derivative', value = 1, min = 1, max = 3, step = 1, layout = { 'width' : '420px' } ),\r\n",
    "               order = ipywidgets.IntSlider( description = 'Order', value = 2, min = 0, max = 8, step = 2, layout = { 'width' : '420px' } ) ) :\r\n",
    "    \r\n",
    "    \"\"\" Derivative Filter.    \r\n",
    "        \r\n",
    "        Arguments :\r\n",
    "            incident : float - incident signal frequency [ epoch, terminus ] relative to Nyquist in [ -1.0, 1.0 ).\r\n",
    "            noise : float - incident signal deviation.\r\n",
    "            derivative : int.\r\n",
    "            order : int.\r\n",
    "    \"\"\"\r\n",
    "    \r\n",
    "    order = int( max( min( order, 2.0 ** ( derivative + 1 ) ), 2.0 ** ( derivative - 1 ) ) )\r\n",
    "    derivativefilter = DerivativeFilter( derivative, order )\r\n",
    "    widget = [ ipywidgets.Dropdown( description = r'$\\vec{b_{n}}$', value = str( derivativefilter.b[ 0 ] ), options = [ str( x ) for x in derivativefilter.b ], layout = { 'width' : '340px' } ) ]\r\n",
    "    display( ipywidgets.VBox( children = widget, layout = ipywidgets.Layout( display = 'flex', flex_flow = 'row' ) ) )\r\n",
    "    axes = matplotlib.pyplot.subplots( 2, 2, sharex = False, sharey = False, figsize = ( 18, 18 ) )[ 1 ]\r\n",
    "\r\n",
    "    # Coefficients\r\n",
    "    \r\n",
    "    phase, length = numpy.random.rand( 1 )[ 0 ] - 0.5, 1024\r\n",
    "    n = numpy.linspace( 0.0, order, order + 1 )\r\n",
    "    axes[ 0, 0 ].plot( n, numpy.zeros( order + 1 ), color = [ 0.0, 0.0, 0.0 ], linewidth = 2.0 )\r\n",
    "    axes[ 0, 0 ].bar( n, derivativefilter.b, color = [ 0.2, 0.2, 0.8 ], width = 0.006 * ( order + 1 ) )\r\n",
    "    axes[ 0, 0 ].plot( n, derivativefilter.b, linestyle = 'None', marker = 'o', markeredgecolor = [ 0.2, 0.2, 0.8 ], markeredgewidth = 2.0, markerfacecolor = [ 1.0, 1.0, 1.0 ], markersize = 8.0 )\r\n",
    "    label( axes[ 0, 0 ], r'$Coefficients$', r'$n$', r'$\\vec{b_{n}}$' )\r\n",
    "    \r\n",
    "    # Roots\r\n",
    "    \r\n",
    "    plot = [ ]\r\n",
    "    p, z = derivativefilter.roots( )\r\n",
    "    v = numpy.exp( 1j * math.pi * numpy.linspace( 0, 2.0 * math.pi, length ) )\r\n",
    "    axes[ 0, 1 ].plot( [ -1.0, 1.0 ], [ 0.0, 0.0 ], color = [ 0.0, 0.0, 0.0 ], linewidth = 2.0 )\r\n",
    "    axes[ 0, 1 ].plot( [ 0.0, 0.0 ], [ -1.0, 1.0 ], color = [ 0.0, 0.0, 0.0 ], linewidth = 2.0 )\r\n",
    "    axes[ 0, 1 ].plot( v.real, v.imag, color = [ 0.0, 0.0, 0.0 ], linewidth = 2.0 )\r\n",
    "    plot.append( axes[ 0, 1 ].plot( p.real, p.imag, linestyle = 'None', marker = '+', markeredgecolor = [ 0.8, 0.2, 0.2 ], markeredgewidth = 2.0, markerfacecolor = [ 1.0, 1.0, 1.0 ], markersize = 8.0 )[ 0 ] )\r\n",
    "    plot.append( axes[ 0, 1 ].plot( z.real, z.imag, linestyle = 'None', marker = 'o', markeredgecolor = [ 0.2, 0.2, 0.8 ], markeredgewidth = 2.0, markerfacecolor = [ 1.0, 1.0, 1.0 ], markersize = 8.0 )[ 0 ] )\r\n",
    "    axes[ 0, 1 ].legend( plot, ( r'$\\vec{p_{n}}$', r'$\\vec{z_{n}}$' ), loc = 'upper right' )\r\n",
    "    label( axes[ 0, 1 ], r'$Roots$', r'$real$', r'$imag$' )\r\n",
    "    \r\n",
    "    # Response\r\n",
    "    \r\n",
    "    h, f = derivativefilter.response( )\r\n",
    "    h = 20.0 * numpy.log10( numpy.maximum( abs( h ), numpy.finfo( float ).eps ) )\r\n",
    "    axes[ 1, 0 ].plot( f, -3.0 * numpy.ones( len( h ) ), color = [ 0.0, 0.0, 0.0 ], linewidth = 2.0 )\r\n",
    "    axes[ 1, 0 ].plot( f, h, color = [ 0.2, 0.2, 0.8 ], linewidth = 2.0 )\r\n",
    "    axes[ 1, 0 ].plot( numpy.linspace( incident[ 0 ], incident[ 1 ], length ), numpy.zeros( length ), color = [ 0.0, 0.0, 0.0 ], linewidth = 8.0 )\r\n",
    "    label( axes[ 1, 0 ], r'$Response$', r'$f$', r'$H_{f}\\ dB$' )\r\n",
    "    \r\n",
    "    # Filter\r\n",
    "    \r\n",
    "    plot = [ ]\r\n",
    "    length = 1024\r\n",
    "    x = ComplexExponentialFilter( phase ).filter( numpy.linspace( incident[ 0 ], incident[ 1 ], length ) ).real\r\n",
    "    q = numpy.random.rand( len( x ) ) - 0.5\r\n",
    "    x += q * noise / q.std( )\r\n",
    "    y = derivativefilter.filter( x )\r\n",
    "    n = numpy.linspace( 0, length - 1, length )\r\n",
    "    plot.append( axes[ 1, 1 ].plot( n, x, color = [ 0.0, 0.0, 0.0 ], linewidth = 1.0 )[ 0 ] )\r\n",
    "    plot.append( axes[ 1, 1 ].plot( n, y, color = [ 0.2, 0.2, 0.8 ], linewidth = 1.0 )[ 0 ] )\r\n",
    "    axes[ 1, 1 ].legend( plot, ( r'$x_{n}$', r'$y_{n}$' ), loc = 'upper right' )\r\n",
    "    label( axes[ 1, 1 ], r'$Filter$', r'$n$' )\r\n",
    "    matplotlib.pyplot.show( )\r\n",
    "    "
   ],
   "outputs": [
    {
     "output_type": "display_data",
     "data": {
      "application/vnd.jupyter.widget-view+json": {
       "version_major": 2,
       "version_minor": 0,
       "model_id": "343d18753a4b41a7a1caf69f6dd8a410"
      },
      "text/plain": [
       "interactive(children=(FloatRangeSlider(value=(-0.05, 0.1), description='Incident', layout=Layout(width='420px'…"
      ]
     },
     "metadata": {}
    }
   ],
   "metadata": {}
  },
  {
   "cell_type": "code",
   "execution_count": 5,
   "source": [
    "@ipywidgets.interact( )\r\n",
    "def interface( incident = ipywidgets.FloatRangeSlider( description = 'Incident', value = [ -0.05, 0.1 ], min = -1.0, max = 0.99, step = 0.01, layout = { 'width' : '420px' } ),\r\n",
    "               noise = ipywidgets.FloatSlider( description = 'Noise', value = 0.0, min = 0.0, max = 0.5, step = 0.01, layout = { 'width' : '420px' } ),\r\n",
    "               order = ipywidgets.IntSlider( description = 'Order', value = 1, min = 0, max = 4, step = 1, layout = { 'width' : '420px' } ) ) :\r\n",
    "    \r\n",
    "    \"\"\" Integral Filter.    \r\n",
    "        \r\n",
    "        Arguments :\r\n",
    "            incident : float - incident signal frequency [ epoch, terminus ] relative to Nyquist in [ -1.0, 1.0 ).\r\n",
    "            noise : float - incident signal deviation.\r\n",
    "            order : int.\r\n",
    "    \"\"\"\r\n",
    "    \r\n",
    "    integralfilter = IntegralFilter( order )\r\n",
    "    widget = [ ipywidgets.Dropdown( description = r'$\\vec{a_{n}}$', value = str( integralfilter.a[ 0 ] ), options = [ str( x ) for x in integralfilter.a ], layout = { 'width' : '340px' } ),\r\n",
    "               ipywidgets.Dropdown( description = r'$\\vec{b_{n}}$', value = str( integralfilter.b[ 0 ] ), options = [ str( x ) for x in integralfilter.b ], layout = { 'width' : '340px' } ) ]\r\n",
    "    display( ipywidgets.VBox( children = widget, layout = ipywidgets.Layout( display = 'flex', flex_flow = 'row' ) ) )\r\n",
    "    axes = matplotlib.pyplot.subplots( 2, 2, sharex = False, sharey = False, figsize = ( 18, 18 ) )[ 1 ]\r\n",
    "    \r\n",
    "    # Coefficients\r\n",
    "    \r\n",
    "    plot = [ ]\r\n",
    "    phase, length = numpy.random.rand( 1 )[ 0 ] - 0.5, 1024\r\n",
    "    n = numpy.linspace( 0.0, max( order, 1 ), max( order, 1 ) + 1 )\r\n",
    "    axes[ 0, 0 ].plot( n, numpy.zeros( order + 1 ), color = [ 0.0, 0.0, 0.0 ], linewidth = 2.0 )\r\n",
    "    axes[ 0, 0 ].bar( n, integralfilter.a, color = [ 0.8, 0.2, 0.2 ], width = 0.006 * ( order + 1 ) )\r\n",
    "    axes[ 0, 0 ].bar( n, integralfilter.b, color = [ 0.2, 0.2, 0.8 ], width = 0.006 * ( order + 1 ) )\r\n",
    "    plot.append( axes[ 0, 0 ].plot( n, integralfilter.a, linestyle = 'None', marker = 'o', markeredgecolor = [ 0.8, 0.2, 0.2 ], markeredgewidth = 2.0, markerfacecolor = [ 1.0, 1.0, 1.0 ], markersize = 8.0 )[ 0 ] )\r\n",
    "    plot.append( axes[ 0, 0 ].plot( n, integralfilter.b, linestyle = 'None', marker = 'o', markeredgecolor = [ 0.2, 0.2, 0.8 ], markeredgewidth = 2.0, markerfacecolor = [ 1.0, 1.0, 1.0 ], markersize = 8.0 )[ 0 ] )\r\n",
    "    axes[ 0, 0 ].legend( plot, ( r'$\\vec{a_{n}}$', r'$\\vec{b_{n}}$' ), loc = 'upper right' )\r\n",
    "    label( axes[ 0, 0 ], r'$Coefficients$', r'$n$' )\r\n",
    "\r\n",
    "    # Roots\r\n",
    "    \r\n",
    "    plot = [ ]\r\n",
    "    p, z = integralfilter.roots( )\r\n",
    "    v = numpy.exp( 1j * math.pi * numpy.linspace( 0, 2.0 * math.pi, length ) )\r\n",
    "    axes[ 0, 1 ].plot( [ -1.0, 1.0 ], [ 0.0, 0.0 ], color = [ 0.0, 0.0, 0.0 ], linewidth = 2.0 )\r\n",
    "    axes[ 0, 1 ].plot( [ 0.0, 0.0 ], [ -1.0, 1.0 ], color = [ 0.0, 0.0, 0.0 ], linewidth = 2.0 )\r\n",
    "    axes[ 0, 1 ].plot( v.real, v.imag, color = [ 0.0, 0.0, 0.0 ], linewidth = 2.0 )\r\n",
    "    plot.append( axes[ 0, 1 ].plot( p.real, p.imag, linestyle = 'None', marker = '+', markeredgecolor = [ 0.8, 0.2, 0.2 ], markeredgewidth = 2.0, markerfacecolor = [ 1.0, 1.0, 1.0 ], markersize = 8.0 )[ 0 ] )\r\n",
    "    plot.append( axes[ 0, 1 ].plot( z.real, z.imag, linestyle = 'None', marker = 'o', markeredgecolor = [ 0.2, 0.2, 0.8 ], markeredgewidth = 2.0, markerfacecolor = [ 1.0, 1.0, 1.0 ], markersize = 8.0 )[ 0 ] )\r\n",
    "    axes[ 0, 1 ].legend( plot, ( r'$\\vec{p_{n}}$', r'$\\vec{z_{n}}$' ), loc = 'upper right' )\r\n",
    "    label( axes[ 0, 1 ], r'$Roots$', r'$real$', r'$imag$' )\r\n",
    "        \r\n",
    "    # Response\r\n",
    "    \r\n",
    "    h, f = integralfilter.response( )\r\n",
    "    h = 20.0 * numpy.log10( numpy.maximum( abs( h ), numpy.finfo( float ).eps ) )\r\n",
    "    axes[ 1, 0 ].plot( f, -3.0 * numpy.ones( len( h ) ), color = [ 0.0, 0.0, 0.0 ], linewidth = 2.0 )\r\n",
    "    axes[ 1, 0 ].plot( f, h, color = [ 0.2, 0.2, 0.8 ], linewidth = 2.0 )\r\n",
    "    axes[ 1, 0 ].plot( numpy.linspace( incident[ 0 ], incident[ 1 ], length ), numpy.zeros( length ), color = [ 0.0, 0.0, 0.0 ], linewidth = 8.0 )\r\n",
    "    label( axes[ 1, 0 ], r'$Response$', r'$f$', r'$H_{f}\\ dB$' )\r\n",
    "    \r\n",
    "    # Filter\r\n",
    "\r\n",
    "    plot = [ ]\r\n",
    "    length = 1024\r\n",
    "    x = ComplexExponentialFilter( phase ).filter( numpy.linspace( incident[ 0 ], incident[ 1 ], length ) ).real\r\n",
    "    q = numpy.random.rand( len( x ) ) - 0.5\r\n",
    "    x += q * noise / q.std( )\r\n",
    "    y = integralfilter.filter( x )\r\n",
    "    n = numpy.linspace( 0, length - 1, length )\r\n",
    "    plot.append( axes[ 1, 1 ].plot( n, x, color = [ 0.0, 0.0, 0.0 ], linewidth = 1.0 )[ 0 ] )\r\n",
    "    plot.append( axes[ 1, 1 ].plot( n, y, color = [ 0.2, 0.2, 0.8 ], linewidth = 1.0 )[ 0 ] )\r\n",
    "    axes[ 1, 1 ].legend( plot, ( r'$x_{n}$', r'$y_{n}$' ), loc = 'upper right' )\r\n",
    "    label( axes[ 1, 1 ], r'$Filter$', r'$n$' )\r\n",
    "    matplotlib.pyplot.show( )\r\n",
    "    "
   ],
   "outputs": [
    {
     "output_type": "display_data",
     "data": {
      "application/vnd.jupyter.widget-view+json": {
       "version_major": 2,
       "version_minor": 0,
       "model_id": "07c91d78acd94acf8fb6e4a1e0664306"
      },
      "text/plain": [
       "interactive(children=(FloatRangeSlider(value=(-0.05, 0.1), description='Incident', layout=Layout(width='420px'…"
      ]
     },
     "metadata": {}
    },
    {
     "output_type": "display_data",
     "data": {
      "application/vnd.jupyter.widget-view+json": {
       "version_major": 2,
       "version_minor": 0,
       "model_id": "80b09bd6ce1f4d7ab1fa1d776206a10f"
      },
      "text/plain": [
       "VBox(children=(Dropdown(description='$\\\\vec{a_{n}}$', layout=Layout(width='340px'), options=('0.0', '1.0'), va…"
      ]
     },
     "metadata": {}
    }
   ],
   "metadata": {}
  },
  {
   "cell_type": "code",
   "execution_count": 6,
   "source": [
    "@ipywidgets.interact( )\r\n",
    "def interface( incident = ipywidgets.FloatRangeSlider( description = 'Incident', value = [ 0.0, 0.1 ], min = -1.0, max = 0.99, step = 0.01, readout_format = '0.2f', layout = { 'width' : '420px' } ),\r\n",
    "               noise = ipywidgets.FloatSlider( description = 'Noise', value = 0.0, min = 0.0, max = 0.5, step = 0.01, layout = { 'width' : '420px' } ),               \r\n",
    "               rate = ipywidgets.FloatSlider( description = 'Rate', value = 1.0, min = 0.01, max = 256.0, step = 0.01, layout = { 'width' : '420px' } ) ) :\r\n",
    "\r\n",
    "    \"\"\" Polynomial Rate Filter.    \r\n",
    "        \r\n",
    "        Arguments :\r\n",
    "            incident : float - incident signal frequency [ epoch, terminus ] relative to Nyquist in [ -1.0, 1.0 ).\r\n",
    "            noise : float - noise deviation of incident signal.\r\n",
    "            rate : float - ratio of effective frequency in [ 1.0, inf ).\r\n",
    "    \"\"\"\r\n",
    "    \r\n",
    "    axes = matplotlib.pyplot.subplots( 1, 2, sharex = False, sharey = False, figsize = ( 36, 9 ) )[ 1 ]\r\n",
    "\r\n",
    "    # Filter\r\n",
    "    \r\n",
    "    plot = [ ]\r\n",
    "    ratefilter = PolynomialRateFilter( rate )\r\n",
    "    phase, length = numpy.random.rand( 1 )[ 0 ] - 0.5, 1024\r\n",
    "    x = ComplexExponentialFilter( phase ).filter( numpy.linspace( incident[ 0 ], incident[ 1 ], length ) ).real\r\n",
    "    q = numpy.random.rand( len( x ) ) - 0.5\r\n",
    "    x += q * noise / q.std( )\r\n",
    "    y = ratefilter.filter( x )\r\n",
    "    plot.append( axes[ 0 ].plot( numpy.linspace( 0, len( x ) - 1, len( x ) ), x, color = [ 0.0, 0.0, 0.0 ], linewidth = 1.0 )[ 0 ] )\r\n",
    "    plot.append( axes[ 0 ].plot( numpy.linspace( 0, len( y ) - 1, len( y ) ), y, color = [ 0.2, 0.2, 0.8 ], linewidth = 1.0 )[ 0 ] )\r\n",
    "    axes[ 0 ].legend( plot, ( r'$x_{n}$', r'$y_{n}$' ), loc = 'upper right' )\r\n",
    "    label( axes[ 0 ], r'$Filter$', r'$n$' )\r\n",
    "    axes[ 1 ].set_visible( False )\r\n",
    "    matplotlib.pyplot.show( )\r\n",
    "    "
   ],
   "outputs": [
    {
     "output_type": "display_data",
     "data": {
      "application/vnd.jupyter.widget-view+json": {
       "version_major": 2,
       "version_minor": 0,
       "model_id": "8cf6bd09b4c7463cb0958a3843d28127"
      },
      "text/plain": [
       "interactive(children=(FloatRangeSlider(value=(0.0, 0.1), description='Incident', layout=Layout(width='420px'),…"
      ]
     },
     "metadata": {}
    }
   ],
   "metadata": {}
  },
  {
   "cell_type": "code",
   "execution_count": 7,
   "source": [
    "@ipywidgets.interact( )\r\n",
    "def interface( incident = ipywidgets.FloatRangeSlider( description = 'Incident', value = [ 0.0, 0.1 ], min = -1.0, max = 0.99, step = 0.01, readout_format = '0.2f', layout = { 'width' : '420px' } ),\r\n",
    "               noise = ipywidgets.FloatSlider( description = 'Noise', value = 0.0, min = 0.0, max = 0.5, step = 0.01, layout = { 'width' : '420px' } ),               \r\n",
    "               rate = ipywidgets.FloatSlider( description = 'Rate', value = 1.0, min = 0.01, max = 256.0, step = 0.01, layout = { 'width' : '420px' } ) ) :\r\n",
    "\r\n",
    "    \"\"\" Polyphase Rate Filter.    \r\n",
    "        \r\n",
    "        Arguments :\r\n",
    "            incident : float - incident signal frequency [ epoch, terminus ] relative to Nyquist in [ -1.0, 1.0 ).\r\n",
    "            noise : float - incident signal deviation.\r\n",
    "            rate : float - ratio of effective frequency in ( 0.0, 256.0 ].\r\n",
    "    \"\"\"\r\n",
    "    \r\n",
    "    ratefilter = PolyphaseRateFilter( rate )\r\n",
    "    widget = [ ipywidgets.Dropdown( description = 'Index', value = str( ratefilter.b.shape[ 0 ] / rate ), options = [ str( ratefilter.b.shape[ 0 ] / rate ) ], layout = { 'width' : '340px' } ),\r\n",
    "               ipywidgets.Dropdown( description = 'Order', value = str( ratefilter.b.shape[ 0 ] ), options = [ str( ratefilter.b.shape[ 0 ] ), str( ratefilter.b.shape[ 1 ] ) ], layout = { 'width' : '340px' } ) ]\r\n",
    "    display( ipywidgets.VBox( children = widget, layout = ipywidgets.Layout( display = 'flex', flex_flow = 'row' ) ) )\r\n",
    "    axes = matplotlib.pyplot.subplots( 2, 2, sharex = False, sharey = False, figsize = ( 18, 18 ) )[ 1 ]\r\n",
    "\r\n",
    "    # Coefficients\r\n",
    "    \r\n",
    "    frequency, phase, length = 0.85, numpy.random.rand( 1 )[ 0 ] - 0.5, 1024\r\n",
    "    n = numpy.linspace( 0.0, ratefilter.b.shape[ 1 ] - 1, ratefilter.b.shape[ 1 ] )\r\n",
    "    axes[ 0, 0 ].plot( n, numpy.zeros( ratefilter.b.shape[ 1 ] ), color = [ 0.0, 0.0, 0.0 ], linewidth = 0.5 )\r\n",
    "    for ii in range( 0, ratefilter.b.shape[ 0 ], 4 ) :\r\n",
    "        axes[ 0, 0 ].plot( n, ratefilter.b[ ii, : ], color = [ 0.2, 0.2, 0.8 ], linewidth = 0.25 )\r\n",
    "    label( axes[ 0, 0 ], r'$Coefficients$', r'$n$', r'$\\vec{b_{n}}$' )\r\n",
    "    \r\n",
    "    # Filter\r\n",
    "    \r\n",
    "    plot = [ ]\r\n",
    "    x = ComplexExponentialFilter( phase ).filter( numpy.linspace( incident[ 0 ], incident[ 1 ], length ) ).real\r\n",
    "    q = numpy.random.rand( len( x ) ) - 0.5\r\n",
    "    x += q * noise / q.std( )\r\n",
    "    y = ratefilter.filter( x )\r\n",
    "    plot.append( axes[ 0, 1 ].plot( numpy.linspace( 0, len( x ) - 1, len( x ) ), x, color = [ 0.0, 0.0, 0.0 ], linewidth = 1.0 )[ 0 ] )\r\n",
    "    plot.append( axes[ 0, 1 ].plot( numpy.linspace( 0, len( y ) - 1, len( y ) ), y, color = [ 0.2, 0.2, 0.8 ], linewidth = 1.0 )[ 0 ] )\r\n",
    "    axes[ 0, 1 ].legend( plot, ( r'$x_{n}$', r'$y_{n}$' ), loc = 'upper right' )\r\n",
    "    label( axes[ 0, 1 ], r'$Filter$', r'$n$' )\r\n",
    "    for ii in range( 0, ratefilter.b.shape[ 0 ], 2 ) :\r\n",
    "        firfilter = FirFilter( b = ratefilter.b[ ii, : ] )\r\n",
    "        h, f = firfilter.response( )\r\n",
    "        h = 20.0 * numpy.log10( numpy.maximum( abs( h ), numpy.finfo( float ).eps ) )\r\n",
    "        ii, jj, = int( numpy.round( len( h ) // 2 * ( 1.0 - frequency ) ) ), int( numpy.round( len( h ) // 2 * ( 1.0 + frequency ) ) )\r\n",
    "        axes[ 1, 0 ].plot( f, h, color = [ 0.2, 0.2, 0.8 ], linewidth = 0.25 )\r\n",
    "        d, f = firfilter.delay( )\r\n",
    "        d = numpy.maximum( numpy.minimum( d, ratefilter.b.shape[ 1 ] // 2 + 0.6 ), ratefilter.b.shape[ 1 ] // 2 - 0.6 )\r\n",
    "        axes[ 1, 1 ].plot( f, d, 'b', linewidth = 0.25 )        \r\n",
    "    axes[ 1, 0 ].plot( f, -3.0 * numpy.ones( len( h ) ), color = [ 0.0, 0.0, 0.0 ], linewidth = 2.0 )\r\n",
    "    axes[ 1, 0 ].plot( -frequency, h[ ii ], linestyle = 'None', marker = 'o', markeredgecolor = [ 0.8, 0.2, 0.2 ], markeredgewidth = 2.0, markerfacecolor = 'None', markersize = 8.0 )\r\n",
    "    axes[ 1, 0 ].plot( frequency, h[ jj ], linestyle = 'None', marker = 'o', markeredgecolor = [ 0.8, 0.2, 0.2 ], markeredgewidth = 2.0, markerfacecolor = 'None', markersize = 8.0 )\r\n",
    "    axes[ 1, 0 ].plot( numpy.linspace( incident[ 0 ], incident[ 1 ], length ), numpy.zeros( length ), color = [ 0.0, 0.0, 0.0 ], linewidth = 8.0 )\r\n",
    "    label( axes[ 1, 0 ], r'$Response$', r'$f$', r'$H_{f}\\ dB$' )\r\n",
    "    label( axes[ 1, 1 ], r'$Delay$', r'$f$', r'$\\tau_{f}\\ n$' )\r\n",
    "    matplotlib.pyplot.show( )\r\n",
    "    "
   ],
   "outputs": [
    {
     "output_type": "display_data",
     "data": {
      "application/vnd.jupyter.widget-view+json": {
       "version_major": 2,
       "version_minor": 0,
       "model_id": "7b6ac6ab27eb4436b3ce53921896ab83"
      },
      "text/plain": [
       "interactive(children=(FloatRangeSlider(value=(0.0, 0.1), description='Incident', layout=Layout(width='420px'),…"
      ]
     },
     "metadata": {}
    },
    {
     "output_type": "display_data",
     "data": {
      "application/vnd.jupyter.widget-view+json": {
       "version_major": 2,
       "version_minor": 0,
       "model_id": "87697b7f2c004726b046008a967368d1"
      },
      "text/plain": [
       "VBox(children=(Dropdown(description='Index', layout=Layout(width='340px'), options=('256.0',), value='256.0'),…"
      ]
     },
     "metadata": {}
    }
   ],
   "metadata": {
    "scrolled": false
   }
  },
  {
   "cell_type": "code",
   "execution_count": 8,
   "source": [
    "@ipywidgets.interact( )\r\n",
    "def interface( incident = ipywidgets.FloatRangeSlider( description = 'Incident', value = [ -0.05, 0.05 ], min = -1.0, max = 0.99, step = 0.01, layout = { 'width' : '420px' } ),\r\n",
    "               noise = ipywidgets.FloatSlider( description = 'Noise', value = 0.0, min = 0.0, max = 0.5, step = 0.01, layout = { 'width' : '420px' } ),\r\n",
    "               neutral = ipywidgets.IntSlider( description = 'Neutral', value = True, min = False, max = True, layout = { 'width' : '420px' } ),\r\n",
    "               inverse = ipywidgets.IntSlider( description = 'Inverse', value = False, min = False, max = True, layout = { 'width' : '420px' } ) ) :\r\n",
    "\r\n",
    "    \"\"\" Complex Transform.    \r\n",
    "        \r\n",
    "        Arguments :\r\n",
    "            incident : float - incident signal frequency [ epoch, terminus ] relative to Nyquist in [ -1.0, 1.0 ).\r\n",
    "            noise : float - incident signal deviation.\r\n",
    "            neutral : bool.\r\n",
    "            inverse : bool.\r\n",
    "    \"\"\"\r\n",
    "    \r\n",
    "    axes = matplotlib.pyplot.subplots( 1, 2, sharex = False, sharey = False, figsize = ( 18, 9 ) )[ 1 ]\r\n",
    "\r\n",
    "    # Incident, Transform\r\n",
    "    \r\n",
    "    plot = [ ]\r\n",
    "    phase, length = numpy.random.rand( 1 )[ 0 ] - 0.5, 1024\r\n",
    "    x = ComplexExponentialFilter( phase ).filter( numpy.linspace( incident[ 0 ], incident[ 1 ], length ) )\r\n",
    "    q = numpy.random.rand( len( x ) ) - 0.5 + 1j * ( numpy.random.rand( len( x ) ) - 0.5 )\r\n",
    "    x += q * noise / q.std( )\r\n",
    "    n = numpy.linspace( 0.0, length - 1, length )\r\n",
    "    v = ComplexTransform.transform( x, neutral )\r\n",
    "    epoch, terminus, ii, jj = r'$Incident$', r'$Transform$', 0, 1\r\n",
    "    if ( inverse ) :\r\n",
    "        x = ComplexTransform.transform( v, neutral )\r\n",
    "        epoch, terminus, ii, jj = r'$Transform$', r'$Incident$', 1, 0\r\n",
    "    plot.append( axes[ ii ].plot( n, v[ 0, : ], color = [ 0.0, 0.0, 0.0 ], linewidth = 1.0 )[ 0 ] )\r\n",
    "    plot.append( axes[ ii ].plot( n, v[ 1, : ], color = [ 0.2, 0.2, 0.8 ], linewidth = 1.0 )[ 0 ] )\r\n",
    "    plot.append( axes[ ii ].plot( n, v[ 2, : ], color = [ 0.8, 0.2, 0.2 ], linewidth = 1.0 )[ 0 ] )\r\n",
    "    axes[ ii ].legend( plot, ( r'$x_{0,n}$', r'$x_{1,n}$', r'$x_{2,n}$' ), loc = 'upper right' )\r\n",
    "    label( axes[ ii ], epoch, r'$n$' )\r\n",
    "    plot = [ ]\r\n",
    "    v = numpy.exp( 1j * math.pi * numpy.linspace( 0, 2.0 * math.pi, length ) )\r\n",
    "    axes[ jj ].plot( [ -1.0, 1.0 ], [ 0.0, 0.0 ], color = [ 0.0, 0.0, 0.0 ], linewidth = 2.0 )\r\n",
    "    axes[ jj ].plot( [ 0.0, 0.0 ], [ -1.0, 1.0 ], color = [ 0.0, 0.0, 0.0 ], linewidth = 2.0 )\r\n",
    "    axes[ jj ].plot( v.real, v.imag, color = [ 0.0, 0.0, 0.0 ], linewidth = 2.0 )\r\n",
    "    axes[ jj ].plot( x.real, x.imag, color = [ 0.2, 0.2, 0.8 ], linewidth = 2.0 )\r\n",
    "    plot.append( axes[ jj ].plot( x[ 0 ].real, x[ 0 ].imag, linestyle = 'None', marker = 'o', markeredgecolor = [ 0.8, 0.2, 0.2 ], markeredgewidth = 2.0, markerfacecolor = [ 1.0, 1.0, 1.0 ], markersize = 8.0 )[ 0 ] )\r\n",
    "    plot.append( axes[ jj ].plot( x[ -1 ].real, x[ -1 ].imag, linestyle = 'None', marker = 'o', markeredgecolor = [ 0.0, 0.0, 0.0 ], markeredgewidth = 2.0, markerfacecolor = [ 1.0, 1.0, 1.0 ], markersize = 8.0 )[ 0 ] )\r\n",
    "    axes[ jj ].legend( plot, ( r'$x_{0}$', r'$x_{N-1}$' ), loc = 'upper right' )\r\n",
    "    label( axes[ jj ], terminus, r'$real$', r'$imag$' )\r\n",
    "    matplotlib.pyplot.show( )\r\n",
    "    "
   ],
   "outputs": [
    {
     "output_type": "display_data",
     "data": {
      "application/vnd.jupyter.widget-view+json": {
       "version_major": 2,
       "version_minor": 0,
       "model_id": "d49c19ce472447388d9224a7865aa995"
      },
      "text/plain": [
       "interactive(children=(FloatRangeSlider(value=(-0.05, 0.05), description='Incident', layout=Layout(width='420px…"
      ]
     },
     "metadata": {}
    }
   ],
   "metadata": {}
  },
  {
   "cell_type": "code",
   "execution_count": 9,
   "source": [
    "@ipywidgets.interact( )\r\n",
    "def interface( incident = ipywidgets.FloatRangeSlider( description = 'Incident', value = [ 0.1, 0.1 ], min = -1.0, max = 0.99, step = 0.01, layout = { 'width' : '420px' } ),\r\n",
    "               noise = ipywidgets.FloatSlider( description = 'Noise', value = 0.0, min = 0.0, max = 0.5, step = 0.01, layout = { 'width' : '420px' } ),\r\n",
    "               frequency = ipywidgets.FloatSlider( description = 'Frequency', value = 0.1, min = -1.0, max = 0.999, step = 0.001, readout_format = '0.3f', layout = { 'width' : '420px' } ),\r\n",
    "               rate = ipywidgets.FloatSlider( description = 'Rate', value = 0.01, min = 0.0001, max = 1.0, step = 0.0001, readout_format = '0.4f', layout = { 'width' : '420px' } ) ) :\r\n",
    "\r\n",
    "    \"\"\" Complex Bandpass Filter.\r\n",
    "        \r\n",
    "        Arguments :\r\n",
    "            incident : float - incident signal frequency [ epoch, terminus ] relative to Nyquist in [ -1.0, 1.0 ).\r\n",
    "            noise : float - incident signal deviation.\r\n",
    "            frequency : float - relative to Nyquist in [ -1.0, 1.0 ).\r\n",
    "            rate : float.\r\n",
    "    \"\"\"\r\n",
    "    \r\n",
    "    axes = matplotlib.pyplot.subplots( 2, 2, sharex = False, sharey = False, figsize = ( 18, 18 ) )[ 1 ]\r\n",
    "\r\n",
    "    # Coefficients\r\n",
    "    \r\n",
    "    complexbandpassfilter = ComplexBandPassFilter( frequency, rate )\r\n",
    "    phase, count, length = numpy.random.rand( 1 )[ 0 ] - 0.5, 128, 1024\r\n",
    "    x = ComplexExponentialFilter( phase ).filter( numpy.linspace( incident[ 0 ], incident[ 1 ], length ) )\r\n",
    "    q = numpy.random.rand( len( x ) ) - 0.5 + 1j * ( numpy.random.rand( len( x ) ) - 0.5 )\r\n",
    "    x += q * noise / q.std( )\r\n",
    "    y, e, b = complexbandpassfilter.filter( x )\r\n",
    "    n = numpy.linspace( 0.0, length - 1, length )\r\n",
    "    axes[ 0, 0 ].plot( n, numpy.zeros( length ), color = [ 0.0, 0.0, 0.0 ], linewidth = 2.0 )\r\n",
    "    axes[ 0, 0 ].plot( n, b.real, color = [ 0.2, 0.2, 0.8 ], linewidth = 1.0 )\r\n",
    "    axes[ 0, 0 ].plot( n, b.imag, color = [ 0.2, 0.2, 0.8 ], linewidth = 1.0 )\r\n",
    "    axes[ 0, 0 ].plot( n, abs( b ), color = [ 0.2, 0.2, 0.8 ], linewidth = 2.0 )\r\n",
    "    label( axes[ 0, 0 ], r'$Coefficients$', r'$n$', r'$b_{n}$' )\r\n",
    "\r\n",
    "    # Coefficients\r\n",
    "    \r\n",
    "    plot = [ ]\r\n",
    "    v = numpy.exp( 1j * math.pi * numpy.linspace( 0, 2.0 * math.pi, length ) )\r\n",
    "    axes[ 0, 1 ].plot( [ -1.0, 1.0 ], [ 0.0, 0.0 ], color = [ 0.0, 0.0, 0.0 ], linewidth = 2.0 )\r\n",
    "    axes[ 0, 1 ].plot( [ 0.0, 0.0 ], [ -1.0, 1.0 ], color = [ 0.0, 0.0, 0.0 ], linewidth = 2.0 )\r\n",
    "    axes[ 0, 1 ].plot( v.real, v.imag, color = [ 0.0, 0.0, 0.0 ], linewidth = 2.0 )\r\n",
    "    axes[ 0, 1 ].plot( b.real, b.imag, linestyle = 'None', marker = 'o', markeredgecolor = 'None', markeredgewidth = 2.0, markerfacecolor = [ 0.2, 0.2, 0.8 ], markersize = 4.0 )\r\n",
    "    plot.append( axes[ 0, 1 ].plot( b[ 0 ].real, b[ 0 ].imag, linestyle = 'None', marker = 'o', markeredgecolor = [ 0.2, 0.2, 0.8 ], markeredgewidth = 2.0, markerfacecolor = [ 1.0, 1.0, 1.0 ], markersize = 8.0 )[ 0 ] )\r\n",
    "    plot.append( axes[ 0, 1 ].plot( b[ -1 ].real, b[ -1 ].imag, linestyle = 'None', marker = 'o', markeredgecolor = [ 0.0, 0.0, 0.0 ], markeredgewidth = 2.0, markerfacecolor = [ 1.0, 1.0, 1.0 ], markersize = 8.0 )[ 0 ] )\r\n",
    "    axes[ 0, 1 ].legend( plot, ( r'$b_{0}$', r'$b_{N-1}$' ), loc = 'upper right' )    \r\n",
    "    label( axes[ 0, 1 ], r'$Coefficients$', r'$real$', r'$imag$' )\r\n",
    "    \r\n",
    "    # Response\r\n",
    "    \r\n",
    "    plot = [ ]\r\n",
    "    h, f = numpy.zeros( count ), numpy.linspace( max( incident[ 0 ] - 0.05, -1.0 ), min( incident[ 1 ] + 0.05, 1.0 - 2.0 / count ), count )\r\n",
    "    for ii in range( 0, len( f ) ) :\r\n",
    "        u = ComplexExponentialFilter( phase ).filter( numpy.ones( length ) * f[ ii ] )\r\n",
    "        complexbandpassfilter.reset( 0.0 )\r\n",
    "        v = complexbandpassfilter.filter( u )[ 0 ]\r\n",
    "        h[ ii ] = min( numpy.mean( abs( v[ -32 : -1 ] ) ), 1.0 )\r\n",
    "    h, k = 20.0 * numpy.log10( numpy.maximum( abs( h ), numpy.finfo( float ).eps ) ), 20.0 * numpy.log10( numpy.maximum( abs( 1.0 - h ), numpy.finfo( float ).eps ) )\r\n",
    "    axes[ 1, 0 ].plot( f, -3.0 * numpy.ones( len( h ) ), color = [ 0.0, 0.0, 0.0 ], linewidth = 2.0 )\r\n",
    "    plot.append( axes[ 1, 0 ].plot( f, h, color = [ 0.2, 0.2, 0.8 ], linewidth = 2.0 )[ 0 ] )\r\n",
    "    plot.append( axes[ 1, 0 ].plot( f, k, color = [ 0.8, 0.2, 0.2 ], linewidth = 2.0 )[ 0 ] )\r\n",
    "    axes[ 1, 0 ].plot( numpy.linspace( incident[ 0 ], incident[ 1 ], length ), numpy.zeros( length ), color = [ 0.0, 0.0, 0.0 ], linewidth = 8.0 )    \r\n",
    "    axes[ 1, 0 ].legend( plot, ( r'$y_{f}$', r'$e_{f}$' ), loc = 'upper right' )\r\n",
    "    label( axes[ 1, 0 ], r'$Response$', r'$f$', r'$H_{f}\\ dB$' )\r\n",
    "    \r\n",
    "    # Filter\r\n",
    "    \r\n",
    "    plot = [ ]\r\n",
    "    axes[ 1, 1 ].plot( n, x.real, color = [ 0.0, 0.0, 0.0 ], linewidth = 1.0 )\r\n",
    "    axes[ 1, 1 ].plot( n, y.real, color = [ 0.2, 0.2, 0.8 ], linewidth = 1.0 )\r\n",
    "    axes[ 1, 1 ].plot( n, e.real, color = [ 0.8, 0.2, 0.2 ], linewidth = 1.0 )\r\n",
    "    plot.append( axes[ 1, 1 ].plot( n, abs( x ), color = [ 0.0, 0.0, 0.0 ], linewidth = 2.0 )[ 0 ] )\r\n",
    "    plot.append( axes[ 1, 1 ].plot( n, abs( y ), color = [ 0.2, 0.2, 0.8 ], linewidth = 2.0 )[ 0 ] )\r\n",
    "    plot.append( axes[ 1, 1 ].plot( n, abs( e ), color = [ 0.8, 0.2, 0.2 ], linewidth = 2.0 )[ 0 ] )\r\n",
    "    axes[ 1, 1 ].legend( plot, ( r'$H_{x,f}$', r'$H_{y,f}$', r'$H_{e,f}$' ), loc = 'upper right' )\r\n",
    "    label( axes[ 1, 1 ], r'$Filter$', r'$n$' )\r\n",
    "    matplotlib.pyplot.show( )\r\n",
    "    "
   ],
   "outputs": [
    {
     "output_type": "display_data",
     "data": {
      "application/vnd.jupyter.widget-view+json": {
       "version_major": 2,
       "version_minor": 0,
       "model_id": "5827e80bdba8485988446d176eddbd9e"
      },
      "text/plain": [
       "interactive(children=(FloatRangeSlider(value=(0.1, 0.1), description='Incident', layout=Layout(width='420px'),…"
      ]
     },
     "metadata": {}
    }
   ],
   "metadata": {
    "scrolled": false
   }
  },
  {
   "cell_type": "code",
   "execution_count": 10,
   "source": [
    "@ipywidgets.interact( )\r\n",
    "def interface( incident = ipywidgets.FloatRangeSlider( description = 'Incident', value = [ -0.25, 0.75 ], min = -1.0, max = 0.99, step = 0.01, layout = { 'width' : '420px' } ),\r\n",
    "               noise = ipywidgets.FloatSlider( description = 'Noise', value = 0.0, min = 0.0, max = 0.5, step = 0.01, layout = { 'width' : '420px' } ),               \r\n",
    "               frequency = ipywidgets.FloatSlider( description = 'Frequency', value = 0.0, min = -1.0, max = 0.999, step = 0.001, readout_format = '0.3f', layout = { 'width' : '420px' } ),\r\n",
    "               rate = ipywidgets.FloatSlider( description = 'Rate', value = 0.25, min = 0.001, max = 1.0, step = 0.001, readout_format = '0.3f', layout = { 'width' : '420px' } ) ) :\r\n",
    "\r\n",
    "    \"\"\" Complex Frequency Filter.    \r\n",
    "        \r\n",
    "        Arguments :\r\n",
    "            incident : float - incident signal frequency [ epoch, terminus ] relative to Nyquist in [ -1.0, 1.0 ).\r\n",
    "            noise : float - incident signal deviation.\r\n",
    "            frequency : float - relative to Nyquist in [ -1.0, 1.0 ).\r\n",
    "            rate : float.\r\n",
    "    \"\"\"\r\n",
    "   \r\n",
    "    axes = matplotlib.pyplot.subplots( 1, 2, sharex = False, sharey = False, figsize = ( 18, 9 ) )[ 1 ]\r\n",
    "\r\n",
    "    # Coefficients\r\n",
    " \r\n",
    "    plot = [ ]\r\n",
    "    complexfrequencyfilter = ComplexFrequencyFilter( frequency, rate )\r\n",
    "    phase, length = numpy.random.rand( 1 )[ 0 ] - 0.5, 1024\r\n",
    "    f = numpy.linspace( incident[ 0 ], incident[ 1 ], length )\r\n",
    "    x = ComplexExponentialFilter( phase ).filter( f )\r\n",
    "    q = numpy.random.rand( len( x ) ) - 0.5 + 1j * ( numpy.random.rand( len( x ) ) - 0.5 )\r\n",
    "    x += q * noise / q.std( )\r\n",
    "    y, e, b = complexfrequencyfilter.filter( x )\r\n",
    "    n = numpy.linspace( 0.0, length - 1, length )\r\n",
    "    v = numpy.exp( 1j * math.pi * numpy.linspace( 0, 2.0 * math.pi, length ) )\r\n",
    "    axes[ 0 ].plot( [ -1.0, 1.0 ], [ 0.0, 0.0 ], color = [ 0.0, 0.0, 0.0 ], linewidth = 2.0 )\r\n",
    "    axes[ 0 ].plot( [ 0.0, 0.0 ], [ -1.0, 1.0 ], color = [ 0.0, 0.0, 0.0 ], linewidth = 2.0 )\r\n",
    "    axes[ 0 ].plot( v.real, v.imag, color = [ 0.0, 0.0, 0.0 ], linewidth = 0.5 )\r\n",
    "    axes[ 0 ].plot( b.real, b.imag, linestyle = 'None', marker = 'o', markeredgecolor = 'None', markeredgewidth = 2.0, markerfacecolor = [ 0.2, 0.2, 0.8 ], markersize = 4.0 )\r\n",
    "    plot.append( axes[ 0 ].plot( b[ 0 ].real, b[ 0 ].imag, linestyle = 'None', marker = 'o', markeredgecolor = [ 0.0, 0.0, 0.0 ], markerfacecolor = [ 1.0, 1.0, 1.0 ], markersize = 8.0 )[ 0 ] )\r\n",
    "    plot.append( axes[ 0 ].plot( b[ -1 ].real, b[ -1 ].imag, linestyle = 'None', marker = 'o', markeredgecolor = [ 0.0, 0.0, 0.0 ], markerfacecolor = [ 1.0, 1.0, 1.0 ], markersize = 8.0 )[ 0 ] )\r\n",
    "    axes[ 0 ].legend( plot, ( r'$b_0$', r'$b_{N-1}$' ), loc = 'upper right' )\r\n",
    "    label( axes[ 0 ], r'$Coefficients$', r'$real$', r'$imag$' )\r\n",
    "    \r\n",
    "    # Filter\r\n",
    "    \r\n",
    "    plot = [ ]\r\n",
    "    axes[ 1 ].plot( n, numpy.maximum( numpy.minimum( e.real, 1.0 ), -1.0 ), color = [ 0.8, 0.2, 0.2 ], linewidth = 1.0 )\r\n",
    "    plot.append( axes[ 1 ].plot( n, f, color = [ 0.0, 0.0, 0.0 ], linewidth = 2.0 )[ 0 ] )\r\n",
    "    plot.append( axes[ 1 ].plot( n, y, color = [ 0.2, 0.2, 0.8 ], linewidth = 2.0 )[ 0 ] )\r\n",
    "    plot.append( axes[ 1 ].plot( n, abs( e ), color = [ 0.8, 0.2, 0.2 ], linewidth = 2.0 )[ 0 ] )\r\n",
    "    axes[ 1 ].legend( plot, ( r'$f_{x,n}$', r'$y_n$', r'$e_n$' ), loc = 'upper right' )\r\n",
    "    label( axes[ 1 ], r'$Filter$', r'$n$', r'$f_n$' )\r\n",
    "    matplotlib.pyplot.show( )\r\n",
    "    "
   ],
   "outputs": [
    {
     "output_type": "display_data",
     "data": {
      "application/vnd.jupyter.widget-view+json": {
       "version_major": 2,
       "version_minor": 0,
       "model_id": "ef89c47008c5433e82a09661194856ef"
      },
      "text/plain": [
       "interactive(children=(FloatRangeSlider(value=(-0.25, 0.75), description='Incident', layout=Layout(width='420px…"
      ]
     },
     "metadata": {}
    }
   ],
   "metadata": {}
  },
  {
   "cell_type": "code",
   "execution_count": 11,
   "source": [
    "@ipywidgets.interact( )\r\n",
    "def interface( incident = ipywidgets.FloatRangeSlider( description = 'Incident', value = [ 0.1, 0.1 ], min = -1.0, max = 0.99, step = 0.01, layout = { 'width' : '420px' } ),\r\n",
    "               noise = ipywidgets.FloatSlider( description = 'Noise', value = 0.01, min = 0.0, max = 0.5, step = 0.01, layout = { 'width' : '420px' } ),\r\n",
    "               style = ipywidgets.Dropdown( description = 'Style', value = 'Hann', options = [ 'Blackman', 'Hamming', 'Hann', 'Kaiser' ], layout = { 'width' : '340px' } ),\r\n",
    "               order = ipywidgets.IntSlider( description = 'Order', value = 1023, min = 1, max = 4096, step = 1, layout = { 'width' : '420px' } ),\r\n",
    "               normal = ipywidgets.IntSlider( description = 'Normal', value = True, min = False, max = True, layout = { 'width' : '420px' } ),              \r\n",
    "               index = ipywidgets.IntSlider( description = 'Index', value = 64, min = 1, max = 4096, step = 1, layout = { 'width' : '420px' } ) ) :\r\n",
    "\r\n",
    "    \"\"\" Fourier Transform, Power Spectrum Transform, Window Filter.    \r\n",
    "        \r\n",
    "        Arguments :\r\n",
    "            incident : float - incident signal frequency [ epoch, terminus ] relative to Nyquist in [ -1.0, 1.0 ).\r\n",
    "            noise : float - incident signal deviation.\r\n",
    "            style : str - in ( 'Blackman', 'Hamming', 'Hann', 'Kaiser' ).\r\n",
    "            normal : bool.\r\n",
    "            index : int.\r\n",
    "    \"\"\"\r\n",
    "    \r\n",
    "    index = int( min( index, order + 1 ) )\r\n",
    "    windowfilter = WindowFilter( style, order, normal )\r\n",
    "    indexfilter = WindowFilter( style, order // 2, normal )\r\n",
    "    widget = [ ipywidgets.Dropdown( description = r'$\\vec{b_{n}}$', value = str( windowfilter.b[ 0 ] ), options = [ str( x ) for x in windowfilter.b ], layout = { 'width' : '340px' } ) ]\r\n",
    "    display( ipywidgets.VBox( children = widget, layout = ipywidgets.Layout( display = 'flex', flex_flow = 'row' ) ) )\r\n",
    "    axes = matplotlib.pyplot.subplots( 1, 2, sharex = False, sharey = False, figsize = ( 18, 9 ) )[ 1 ]\r\n",
    "\r\n",
    "    # Filter\r\n",
    "\r\n",
    "    plot = [ ]\r\n",
    "    phase, length = numpy.random.rand( 1 )[ 0 ] - 0.5, order + 1\r\n",
    "    x = ComplexExponentialFilter( phase ).filter( numpy.linspace( incident[ 0 ], incident[ 1 ], length ) )\r\n",
    "    q = numpy.random.rand( len( x ) ) - 0.5 + 1j * ( numpy.random.rand( len( x ) ) - 0.5 )\r\n",
    "    x += q * noise / q.std( )\r\n",
    "    n = numpy.linspace( 0.0, length - 1, length )\r\n",
    "    h, f = FourierTransform.transform( x, windowfilter.b, False )\r\n",
    "    k, g = PowerSpectrumTransform.transform( x, indexfilter.b, index )\r\n",
    "    h, k = 20.0 * numpy.log10( numpy.maximum( abs( h ), numpy.finfo( float ).eps ) ), 20.0 * numpy.log10( numpy.maximum( abs( k ), numpy.finfo( float ).eps ) )\r\n",
    "    axes[ 0 ].plot( n, numpy.zeros( order + 1 ), color = [ 0.0, 0.0, 0.0 ], linewidth = 2.0 )\r\n",
    "    plot.append( axes[ 0 ].plot( n, windowfilter.b, color = [ 0.2, 0.2, 0.8 ], linewidth = 2.0 )[ 0 ] ) \r\n",
    "    plot.append( axes[ 0 ].plot( n, ( windowfilter.b * x ).real, color = [ 0.2, 0.2, 0.8 ], linewidth = 1.0 )[ 0 ] ) \r\n",
    "    axes[ 0 ].plot( n, ( windowfilter.b * x ).imag, color = [ 0.2, 0.2, 0.8 ], linewidth = 1.0 ) \r\n",
    "    axes[ 0 ].legend( plot, ( r'$\\vec{b_{n}}$', r'$x_{n}$' ), loc = 'upper right' )\r\n",
    "    label( axes[ 0 ], r'$Filter$', r'$n$' )\r\n",
    "\r\n",
    "    # Transform\r\n",
    "    \r\n",
    "    plot = [ ]\r\n",
    "    axes[ 1 ].plot( f, -3.0 * numpy.ones( len( h ) ), 'k' )\r\n",
    "    plot.append( axes[ 1 ].plot( f, h, color = [ 0.2, 0.2, 0.8 ], linewidth = 2.0 )[ 0 ] )\r\n",
    "    plot.append( axes[ 1 ].plot( g, k, color = [ 0.8, 0.2, 0.2 ], linewidth = 2.0 )[ 0 ] )\r\n",
    "    axes[ 1 ].plot( numpy.linspace( incident[ 0 ], incident[ 1 ], length ), numpy.zeros( length ), color = [ 0.0, 0.0, 0.0 ], linewidth = 8.0 )    \r\n",
    "    axes[ 1 ].legend( plot, ( r'$H^{F}_{x,f}$', r'$H^{P}_{x,f}$' ), loc = 'upper right' )\r\n",
    "    label( axes[ 1 ], r'$Transform$', r'$f$', r'$H_{f}\\ dB$' )\r\n",
    "    matplotlib.pyplot.show( )\r\n",
    "    "
   ],
   "outputs": [
    {
     "output_type": "display_data",
     "data": {
      "application/vnd.jupyter.widget-view+json": {
       "version_major": 2,
       "version_minor": 0,
       "model_id": "50ff315890e0415d8a5e50b32f8566ca"
      },
      "text/plain": [
       "interactive(children=(FloatRangeSlider(value=(0.1, 0.1), description='Incident', layout=Layout(width='420px'),…"
      ]
     },
     "metadata": {}
    },
    {
     "output_type": "display_data",
     "data": {
      "application/vnd.jupyter.widget-view+json": {
       "version_major": 2,
       "version_minor": 0,
       "model_id": "5a164a9668044f30b5489c64caeca98b"
      },
      "text/plain": [
       "VBox(children=(Dropdown(description='$\\\\vec{b_{n}}$', layout=Layout(width='340px'), options=('0.0', '1.8879975…"
      ]
     },
     "metadata": {}
    }
   ],
   "metadata": {}
  },
  {
   "cell_type": "code",
   "execution_count": 12,
   "source": [
    "@ipywidgets.interact( )\r\n",
    "def interface( incident = ipywidgets.FloatRangeSlider( description = 'Incident', value = [ -0.1, 0.15 ], min = -1.0, max = 0.99, step = 0.01, layout = { 'width' : '420px' } ),\r\n",
    "               noise = ipywidgets.FloatSlider( description = 'Noise', value = 0.0, min = 0.0, max = 0.5, step = 0.01, layout = { 'width' : '420px' } ),\r\n",
    "               style = ipywidgets.Dropdown( description = 'Style', value = 'Hann', options = [ 'Blackman', 'Hamming', 'Hann', 'Kaiser' ], layout = { 'width' : '340px' } ),\r\n",
    "               order = ipywidgets.IntSlider( description = 'Order', value = 1023, min = 1, max = 4096, step = 1, layout = { 'width' : '420px' } ),\r\n",
    "               normal = ipywidgets.IntSlider( description = 'Normal', value = True, min = False, max = True, layout = { 'width' : '420px' } ),\r\n",
    "               frequency = ipywidgets.FloatSlider( description = 'Frequency', value = 0.1, min = -1.0, max = 0.999, step = 0.001, readout_format = '0.3f', layout = { 'width' : '420px' } ) ) :\r\n",
    "\r\n",
    "    \"\"\" Goertzel Filter, Window Filter.\r\n",
    "        \r\n",
    "        Arguments :        \r\n",
    "            incident : float - incident signal frequency [ epoch, terminus ] relative to Nyquist in [ -1.0, 1.0 ).\r\n",
    "            noise : float - incident signal deviation.\r\n",
    "            order : int.\r\n",
    "            normal : bool.\r\n",
    "            frequency : float - relative to Nyquist in [ -1.0, 1.0 ).\r\n",
    "    \"\"\"\r\n",
    "    \r\n",
    "    windowfilter = WindowFilter( style, order, normal )\r\n",
    "    goertzelfilter = GoertzelFilter( windowfilter.b, frequency )\r\n",
    "    widget = [ ipywidgets.Dropdown( description = r'$\\vec{a_{n}}$', value = str( goertzelfilter.a[ 0 ] ), options = [ str( x ) for x in goertzelfilter.a ], layout = { 'width' : '340px' } ),\r\n",
    "               ipywidgets.Dropdown( description = r'$\\vec{b_{n}}$', value = str( goertzelfilter.b[ 0 ] ), options = [ str( x ) for x in goertzelfilter.b ], layout = { 'width' : '340px' } ) ]\r\n",
    "    display( ipywidgets.VBox( children = widget, layout = ipywidgets.Layout( display = 'flex', flex_flow = 'row' ) ) )\r\n",
    "    axes = matplotlib.pyplot.subplots( 1, 2, sharex = False, sharey = False, figsize = ( 18, 9 ) )[ 1 ]\r\n",
    "\r\n",
    "    # Incident\r\n",
    "    \r\n",
    "    plot = [ ]\r\n",
    "    phase, length = numpy.random.rand( 1 )[ 0 ] - 0.5, ( order + 1 ) * 32\r\n",
    "    f = numpy.linspace( incident[ 0 ], incident[ 1 ], length )\r\n",
    "    x = ComplexExponentialFilter( phase ).filter( f )\r\n",
    "    q = numpy.random.rand( len( x ) ) - 0.5 + 1j * ( numpy.random.rand( len( x ) ) - 0.5 )\r\n",
    "    x += q * noise / q.std( )\r\n",
    "    h = goertzelfilter.filter( x )\r\n",
    "    h = 20.0 * numpy.log10( numpy.maximum( abs( h ), numpy.finfo( float ).eps ) )\r\n",
    "    n = numpy.linspace( 0.0, len( h ) - 1, len( h ) )\r\n",
    "    v = numpy.exp( 1j * math.pi * numpy.linspace( 0, 2.0 * math.pi, length ) )\r\n",
    "    axes[ 0 ].plot( [ -1.0, 1.0 ], [ 0.0, 0.0 ], color = [ 0.0, 0.0, 0.0 ], linewidth = 2.0 )\r\n",
    "    axes[ 0 ].plot( [ 0.0, 0.0 ], [ -1.0, 1.0 ], color = [ 0.0, 0.0, 0.0 ], linewidth = 2.0 )\r\n",
    "    axes[ 0 ].plot( v.real, v.imag, color = [ 0.0, 0.0, 0.0 ], linewidth = 1.0 )\r\n",
    "    axes[ 0 ].plot( x.real, x.imag, color = [ 0.2, 0.2, 0.8 ], linewidth = 1.0 )\r\n",
    "    plot.append( axes[ 0 ].plot( x[ 0 ].real, x[ 0 ].imag, linestyle = 'None', marker = 'o', markeredgecolor = [ 0.8, 0.2, 0.2 ], markeredgewidth = 2.0, markerfacecolor = [ 1.0, 1.0, 1.0 ], markersize = 8.0 )[ 0 ] )\r\n",
    "    plot.append( axes[ 0 ].plot( x[ -1 ].real, x[ -1 ].imag, linestyle = 'None', marker = 'o', markeredgecolor = [ 0.0, 0.0, 0.0 ], markeredgewidth = 2.0, markerfacecolor = [ 1.0, 1.0, 1.0 ], markersize = 8.0 )[ 0 ] )\r\n",
    "    axes[ 0 ].legend( plot, ( r'$x_{0}$', r'$x_{N-1}$' ), loc = 'upper right' )\r\n",
    "    label( axes[ 0 ], r'$Incident$', r'$real$', r'$imag$' )\r\n",
    "\r\n",
    "    # Filter\r\n",
    "    \r\n",
    "    axes[ 1 ].plot( n, h, color = [ 0.2, 0.2, 0.8 ], linewidth = 2.0 )\r\n",
    "    label( axes[ 1 ], r'$Filter$', r'$n$', r'$H_{f,n}\\ dB$' )\r\n",
    "    matplotlib.pyplot.show( )\r\n",
    "    "
   ],
   "outputs": [
    {
     "output_type": "display_data",
     "data": {
      "application/vnd.jupyter.widget-view+json": {
       "version_major": 2,
       "version_minor": 0,
       "model_id": "7d37840c1cff4fa6ad1081c31ae383d1"
      },
      "text/plain": [
       "interactive(children=(FloatRangeSlider(value=(-0.1, 0.15), description='Incident', layout=Layout(width='420px'…"
      ]
     },
     "metadata": {}
    },
    {
     "output_type": "display_data",
     "data": {
      "application/vnd.jupyter.widget-view+json": {
       "version_major": 2,
       "version_minor": 0,
       "model_id": "1f9d9b08a7774b16a0726d198ff149e4"
      },
      "text/plain": [
       "VBox(children=(Dropdown(description='$\\\\vec{a_{n}}$', layout=Layout(width='340px'), options=('0j', '(1.9021130…"
      ]
     },
     "metadata": {}
    }
   ],
   "metadata": {}
  },
  {
   "cell_type": "code",
   "execution_count": 13,
   "source": [
    "@ipywidgets.interact( )\r\n",
    "def interface( noise = ipywidgets.FloatSlider( description = 'Noise', value = 0.25, min = 0.0, max = 0.5, step = 0.01, layout = { 'width' : '420px' } ),\r\n",
    "               style = ipywidgets.Dropdown( description = 'Style', value = 'Euclidean', options = [ 'Chebyshev', 'Euclidean', 'Geometric', 'Manhattan' ], layout = { 'width' : '340px' } ),\r\n",
    "               order = ipywidgets.IntSlider( description = 'Order', value = 4, min = 2, max = 64, step = 1, layout = { 'width' : '420px' } ) ) :\r\n",
    "\r\n",
    "    \"\"\" Diversity Model.    \r\n",
    "        \r\n",
    "        Arguments :\r\n",
    "            noise : float - incident signal deviation.\r\n",
    "            style : str - in ( 'Chebyshev', 'Euclidean', 'Geometric', 'Manhattan' ).\r\n",
    "            order : int.\r\n",
    "    \"\"\"\r\n",
    "\r\n",
    "    axes = matplotlib.pyplot.subplots( 1, 2, sharex = False, sharey = False, figsize = ( 18, 9 ) )[ 1 ]\r\n",
    "\r\n",
    "    # Diversity\r\n",
    "    \r\n",
    "    diversitymodel = DiversityModel( style, order )\r\n",
    "    length = 1024\r\n",
    "    n = numpy.linspace( 0.0, length - 1, length )\r\n",
    "    x = numpy.concatenate( ( [ numpy.polyval( numpy.random.rand( 2 ), n ) ], [ numpy.polyval( numpy.random.rand( 3 ), n ) + numpy.random.rand( 1 )[ 0 ] - 0.5 ] ) )\r\n",
    "    x = ( x.T / x.std( 1 ) ).T\r\n",
    "    q = numpy.random.rand( x.shape[ 0 ], x.shape[ 1 ] ) - 0.5\r\n",
    "    x += ( q.T * noise / q.std( 1 ) ).T\r\n",
    "    d = diversitymodel.model( x )\r\n",
    "    p = numpy.polyfit( diversitymodel.s[ 0, : ], diversitymodel.s[ 1, : ], 2 )\r\n",
    "    y = numpy.polyval( p, x[ 0, : ] )\r\n",
    "    axes[ 0 ].plot( n, d, color = [ 0.2, 0.2, 0.8 ], linewidth = 2.0 )\r\n",
    "    label( axes[ 0 ], r'$Diversity$', r'$n$', r'$d_{n}$' )\r\n",
    "    \r\n",
    "    # Model\r\n",
    "    \r\n",
    "    plot = [ ]\r\n",
    "    ii = numpy.argsort( x[ 0, : ] )\r\n",
    "    plot.append( axes[ 1 ].plot( x[ 0, ii ], x[ 1, ii ], linestyle = 'None', marker = 'o', markeredgecolor = 'None', markeredgewidth = 2.0, markerfacecolor = [ 0.2, 0.2, 0.8 ], markersize = 4.0 )[ 0 ] )\r\n",
    "    plot.append( axes[ 1 ].plot( x[ 0, ii ], y[ ii ], linestyle = 'None', marker = 'o', markeredgecolor = 'None', markeredgewidth = 2.0, markerfacecolor = [ 0.8, 0.2, 0.2 ], markersize = 4.0 )[ 0 ] )\r\n",
    "    plot.append( axes[ 1 ].plot( diversitymodel.s[ 0, : ], diversitymodel.s[ 1, : ], linestyle = 'None', marker = 'o', markeredgecolor = [ 0.8, 0.2, 0.2 ], markeredgewidth = 2.0, markerfacecolor = 'None', markersize = 8.0 )[ 0 ] )\r\n",
    "    axes[ 1 ].legend( plot, ( r'$x_{n}$', r'$y_{2,n}$', r'$s_{N-1}$' ), loc = 'upper right' )\r\n",
    "    label( axes[ 1 ], r'$Model$', r'$x_{0,n}$', r'$x_{1,n}$' )\r\n",
    "    matplotlib.pyplot.show( )\r\n",
    "    "
   ],
   "outputs": [
    {
     "output_type": "display_data",
     "data": {
      "application/vnd.jupyter.widget-view+json": {
       "version_major": 2,
       "version_minor": 0,
       "model_id": "fd6814f5c45341f6a206489d8a17355f"
      },
      "text/plain": [
       "interactive(children=(FloatSlider(value=0.25, description='Noise', layout=Layout(width='420px'), max=0.5, step…"
      ]
     },
     "metadata": {}
    }
   ],
   "metadata": {}
  },
  {
   "cell_type": "code",
   "execution_count": 14,
   "source": [
    "@ipywidgets.interact( )\r\n",
    "def interface( noise = ipywidgets.FloatSlider( description = 'Noise', value = 0.05, min = 0.0, max = 0.5, step = 0.01, layout = { 'width' : '420px' } ) ) :\r\n",
    "\r\n",
    "    \"\"\" Principal Component Model.    \r\n",
    "        \r\n",
    "        Arguments :\r\n",
    "            noise : float - incident signal deviation.\r\n",
    "    \"\"\"\r\n",
    "        \r\n",
    "    length, valid = 1024, False\r\n",
    "    while ( not valid ) :\r\n",
    "        principalcomponentmodel = PrincipalComponentModel( )\r\n",
    "        x = numpy.random.rand( 3, length ) - 0.5\r\n",
    "        for _ in range( 0, 2 ) :\r\n",
    "            jj = [ int( numpy.random.rand( ) * length * 0.5 ) ]\r\n",
    "            jj += [ jj[ 0 ] + int( numpy.random.rand( ) * ( length - jj[ 0 ] - 1 ) ) + 1 ]\r\n",
    "            jj = range( jj[ 0 ], jj[ 1 ] )\r\n",
    "            x[ 0, jj ] += ( numpy.random.rand( ) - 0.5 ) * numpy.linspace( 0, len( jj ) - 1, len( jj ) ) * 10.0\r\n",
    "            x[ 2, jj ] += ( numpy.random.rand( ) - 0.5 ) * x[ 0, jj ] + ( numpy.random.rand( ) - 0.5 ) * 10.0\r\n",
    "        x = ( x.T / x.std( 1 ) ).T\r\n",
    "        q = numpy.random.rand( x.shape[ 0 ], x.shape[ 1 ] ) - 0.5\r\n",
    "        x += ( q.T * noise / q.std( 1 ) ).T\r\n",
    "        x = ( x.T * ( numpy.random.rand( 3 ) + 1.0 ) + numpy.random.rand( 3 ) ).T\r\n",
    "        y = principalcomponentmodel.model( x )\r\n",
    "        valid = ( ( numpy.argsort( principalcomponentmodel.e ) == numpy.array( [ 1, 2, 0 ] ) ) ).all( )\r\n",
    "    widget = [ ipywidgets.Dropdown( description = r'$\\vec{\\mu_{n}}$', value = str( principalcomponentmodel.u[ 0 ] ), options = [ str( x ) for x in principalcomponentmodel.u ], layout = { 'width' : '340px' } ),\r\n",
    "               ipywidgets.Dropdown( description = r'$\\vec{\\lambda_{n}}$', value = str( principalcomponentmodel.e[ 0 ] ), options = [ str( x ) for x in principalcomponentmodel.e ], layout = { 'width' : '340px' } ) ]\r\n",
    "    display( ipywidgets.VBox( children = widget, layout = ipywidgets.Layout( display = 'flex', flex_flow = 'row' ) ) )    \r\n",
    "    widget = [ ipywidgets.Dropdown( description = r'$\\vec{\\sigma_{n}}$', value = str( principalcomponentmodel.s[ 0 ] ), options = [ str( x ) for x in principalcomponentmodel.s ], layout = { 'width' : '340px' } ), \r\n",
    "               ipywidgets.Dropdown( description = r'$\\Lambda_{n}$', value = '  '.join( [ f'{x:1.5f}' for x in principalcomponentmodel.v[ 0, : ] ] ), options = [ '  '.join( [ f'{x:1.5f}' for x in principalcomponentmodel.v[ ii, : ] ] ) for ii in range( 0, 3 ) ], layout = { 'width' : '340px' } ) ]\r\n",
    "    display( ipywidgets.VBox( children = widget, layout = ipywidgets.Layout( display = 'flex', flex_flow = 'row' ) ) )\r\n",
    "    axes = matplotlib.pyplot.subplots( 1, 2, sharex = False, sharey = False, figsize = ( 18, 9 ) )[ 1 ]\r\n",
    "    \r\n",
    "    # Incident\r\n",
    "    \r\n",
    "    axes[ 0 ].plot( [ min( x[ 0, : ] ), max( x[ 0, : ] ) ], [ principalcomponentmodel.u[ 2 ], principalcomponentmodel.u[ 2 ] ], color = [ 0.0, 0.0, 0.0 ], linewidth = 2.0 )\r\n",
    "    axes[ 0 ].plot( [ principalcomponentmodel.u[ 0 ], principalcomponentmodel.u[ 0 ] ], [ min( x[ 2, : ] ), max( x[ 2, : ] ) ], color = [ 0.0, 0.0, 0.0 ], linewidth = 2.0 )\r\n",
    "    axes[ 0 ].plot( x[ 0, : ], x[ 2, : ], linestyle = 'None', marker = 'o', markeredgecolor = 'None', markeredgewidth = 2.0, markerfacecolor = [ 0.2, 0.2, 0.8 ], markersize = 4.0 )\r\n",
    "    axes[ 0 ].plot( [ principalcomponentmodel.u[ 0 ], principalcomponentmodel.u[ 0 ] + principalcomponentmodel.v[ 0, 0 ] ], [ principalcomponentmodel.u[ 2 ], principalcomponentmodel.u[ 2 ] + principalcomponentmodel.v[ 0, 2 ] ], color = [ 0.8, 0.2, 0.2 ], linewidth = 2.0 )\r\n",
    "    axes[ 0 ].plot( principalcomponentmodel.u[ 0 ], principalcomponentmodel.u[ 2 ], linestyle = 'None', marker = 'o', markeredgecolor = [ 0.8, 0.2, 0.2 ], markeredgewidth = 2.0, markerfacecolor = [ 1.0, 1.0, 1.0 ], markersize = 8.0 )\r\n",
    "    axes[ 0 ].plot( principalcomponentmodel.u[ 0 ] + principalcomponentmodel.v[ 0, 0 ], principalcomponentmodel.u[ 2 ] + principalcomponentmodel.v[ 0, 2 ], linestyle = 'None', marker = 's', markeredgecolor = [ 0.8, 0.2, 0.2 ], markeredgewidth = 2.0, markerfacecolor = [ 1.0, 1.0, 1.0 ], markersize = 8.0 )\r\n",
    "    label( axes[ 0 ], r'$Incident$', r'$x_{0,n}$', r'$x_{2,n}$' )\r\n",
    "\r\n",
    "    # Model\r\n",
    "    \r\n",
    "    axes[ 1 ].plot( [ 0.0, 0.0 ], [ min( y[ 1, : ] ) * 2.0, max( y[ 1, : ] ) * 2.0 ], color = [ 0.0, 0.0, 0.0 ], linewidth = 2.0 )\r\n",
    "    axes[ 1 ].plot( [ min( y[ 0, : ] ), max( y[ 0, : ] ) ], [ 0.0, 0.0 ], color = [ 0.0, 0.0, 0.0 ], linewidth = 2.0 )\r\n",
    "    axes[ 1 ].plot( [ 0.0, 0.0 ], [ min( y[ 1, : ] ) * 2.0, max( y[ 1, : ] ) * 2.0 ], color = [ 0.0, 0.0, 0.0 ], linewidth = 2.0 )\r\n",
    "    axes[ 1 ].plot( y[ 0, : ], y[ 1, : ], linestyle = 'None', marker = 'o', markeredgecolor = 'None', markeredgewidth = 2.0, markerfacecolor = [ 0.8, 0.2, 0.2 ], markersize = 4.0 )\r\n",
    "    label( axes[ 1 ], r'$Model$', r'$y_{0,i}$', r'$y_{1,n}$' )\r\n",
    "    matplotlib.pyplot.show( )\r\n",
    "    "
   ],
   "outputs": [
    {
     "output_type": "display_data",
     "data": {
      "application/vnd.jupyter.widget-view+json": {
       "version_major": 2,
       "version_minor": 0,
       "model_id": "ebbc1097a595484db9ff55223085deac"
      },
      "text/plain": [
       "interactive(children=(FloatSlider(value=0.05, description='Noise', layout=Layout(width='420px'), max=0.5, step…"
      ]
     },
     "metadata": {}
    },
    {
     "output_type": "display_data",
     "data": {
      "application/vnd.jupyter.widget-view+json": {
       "version_major": 2,
       "version_minor": 0,
       "model_id": "92cecf6e10344645ad71ca71bd3b04d4"
      },
      "text/plain": [
       "VBox(children=(Dropdown(description='$\\\\vec{\\\\mu_{n}}$', layout=Layout(width='340px'), options=('-0.8928041004…"
      ]
     },
     "metadata": {}
    },
    {
     "output_type": "display_data",
     "data": {
      "application/vnd.jupyter.widget-view+json": {
       "version_major": 2,
       "version_minor": 0,
       "model_id": "c65ab195d9874db79fbeea43e26f62d5"
      },
      "text/plain": [
       "VBox(children=(Dropdown(description='$\\\\vec{\\\\sigma_{n}}$', layout=Layout(width='340px'), options=('1.23819344…"
      ]
     },
     "metadata": {}
    }
   ],
   "metadata": {}
  },
  {
   "cell_type": "code",
   "execution_count": 15,
   "source": [
    "@ipywidgets.interact( )\r\n",
    "def interface( incident = ipywidgets.Dropdown( description = 'Incident', value = 'Drac Isere', options = [ 'Burning Eye', 'Drac Isere', 'Kali', 'Lionfish', 'Porsche', 'Riley' ], layout = { 'width' : '340px' } ),\r\n",
    "               style = ipywidgets.Dropdown( description = 'Style', value = 'Haar', options = [ 'Coiflet', 'Daubechies', 'Haar', 'Symmlet' ], layout = { 'width' : '340px' } ),\r\n",
    "               order = ipywidgets.IntSlider( description = 'Order', value = 1, min = 1, max = 29, step = 1, layout = { 'width' : '420px' } ),\r\n",
    "               count = ipywidgets.IntSlider( description = 'Count', value = 2, min = 1, max = 4, step = 1, layout = { 'width' : '420px' } ),\r\n",
    "               inverse = ipywidgets.IntSlider( description = 'Inverse', value = False, min = False, max = True, layout = { 'width' : '420px' } ) ) :\r\n",
    "\r\n",
    "    \"\"\" Wavelet Transform.\r\n",
    "       \r\n",
    "        Arguments :\r\n",
    "            incident : str - incident image in ( 'Burning Eye', Drac Isere', 'Kali', 'Lionfish', Porsche', 'Riley' ).\r\n",
    "            style : str - in ( 'Coiflet', 'Daubechies', 'Haar', 'Symmlet' ).\r\n",
    "            order : int.\r\n",
    "            count : int.\r\n",
    "            inverse : bool.\r\n",
    "    \"\"\"\r\n",
    "    \r\n",
    "    _order = { 'Coiflet' : numpy.array( [ 5, 11, 17, 23, 29 ] ),\r\n",
    "               'Daubechies' : numpy.array( [ 3, 5, 7, 9, 11, 13, 15, 17, 19 ] ),\r\n",
    "               'Haar' : numpy.array( [ 1 ] ),\r\n",
    "               'Symmlet' : numpy.array( [ 7, 9, 11, 13, 15, 17, 19 ] ) }\r\n",
    "    if ( order not in _order[ style ] ) :\r\n",
    "        Log.write( 'ERROR', f'style = {style} Order = {str( _order[ style ] ).replace( \"[\", \"[ \" ).replace( \"]\", \" ]\" )}' )\r\n",
    "        return\r\n",
    "    wavelettransform = WaveletTransform( style, order )\r\n",
    "    b = wavelettransform.b[ inverse ]\r\n",
    "    widget = [ ipywidgets.Dropdown( description = r'$\\vec{b_{L,n}}$', value = str( b[ 0 ][ 0 ] ), options = [ str( x ) for x in b[ 0 ] ], layout = { 'width' : '340px' } ),\r\n",
    "               ipywidgets.Dropdown( description = r'$\\vec{b_{H,n}}$', value = str( b[ 1 ][ 0 ] ), options = [ str( x ) for x in b[ 1 ] ], layout = { 'width' : '340px' } ) ]\r\n",
    "    display( ipywidgets.VBox( children = widget, layout = ipywidgets.Layout( display = 'flex', flex_flow = 'row' ) ) )\r\n",
    "    axes = matplotlib.pyplot.subplots( 2, 2, sharex = False, sharey = False, figsize = ( 18, 18 ) )[ 1 ]\r\n",
    "\r\n",
    "    # Coefficients\r\n",
    "    \r\n",
    "    plot = [ ]\r\n",
    "    x = Image.open( incident + '.png' ).convert( 'F' )\r\n",
    "    cols, rows = x.size\r\n",
    "    if ( ( rows % ( 2 ** count ) ) or ( cols % ( 2 ** count ) ) ) :\r\n",
    "        Log.write( 'ERROR', f'Rows = {rows} Columns = {cols} Count = {count}' )\r\n",
    "        return\r\n",
    "    x = list( x.getdata( ) )\r\n",
    "    x = numpy.array( [ x[ ii : ii + cols ] for ii in range( 0, rows * cols, cols ) ], 'float' )\r\n",
    "    y = wavelettransform.transform( x, count, False )    \r\n",
    "    if ( inverse ) :\r\n",
    "        x, y = y, wavelettransform.transform( y, count, True )\r\n",
    "        u, v = y, x\r\n",
    "    else :\r\n",
    "        u, v = x, y\r\n",
    "    u[ :, : ] = ( u - u.min( ) ) * 255.0 / ( u.max( ) - u.min( ) )\r\n",
    "    cols, rows = x.shape[ 1 ] // ( 2 ** count ), x.shape[ 0 ] // ( 2 ** count )\r\n",
    "    q, v[ :, : ] = v[ : rows, : cols ], ( v - v[ rows :, cols : ].min( ) ) * 255.0 / ( v[ rows :, cols : ].max( ) - v[ rows :, cols : ].min( ) )\r\n",
    "    v[ : rows, : cols ] = ( q - q.min( ) ) * 255.0 / ( q.max( ) - q.min( ) )\r\n",
    "    n = numpy.linspace( 0, order, order + 1 )\r\n",
    "    color = matplotlib.pyplot.get_cmap( 'gray' )\r\n",
    "    axes[ 0, 0 ].plot( n, numpy.zeros( order + 1 ), color = [ 0.0, 0.0, 0.0 ], linewidth = 2.0 )\r\n",
    "    axes[ 0, 0 ].bar( n, b[ 0 ], color = [ 0.2, 0.2, 0.8 ], width = 0.006 * ( order + 1 ) )\r\n",
    "    plot.append( axes[ 0, 0 ].plot( n, b[ 0 ], linestyle = 'None', marker = 'o', markeredgecolor = [ 0.2, 0.2, 0.8 ], markeredgewidth = 2.0, markerfacecolor = [ 1.0, 1.0, 1.0 ], markersize = 8.0 )[ 0 ] )\r\n",
    "    axes[ 0, 0 ].bar( n, b[ 1 ], 0.005 * ( order + 1 ), color = [ 0.8, 0.2, 0.2 ] )\r\n",
    "    plot.append( axes[ 0, 0 ].plot( n, b[ 1 ], linestyle = 'None', marker = 'o', markeredgecolor = [ 0.8, 0.2, 0.2 ], markeredgewidth = 2.0, markerfacecolor = [ 1.0, 1.0, 1.0 ], markersize = 8.0 )[ 0 ] )\r\n",
    "    axes[ 0, 0 ].legend( plot, ( r'$\\vec{b_{L,n}}$', r'$\\vec{b_{H,n}}$' ), loc = 'upper right' )    \r\n",
    "    label( axes[ 0, 0 ], r'$Coefficients$', r'$n$' )\r\n",
    "    \r\n",
    "    # Response\r\n",
    "    \r\n",
    "    plot = [ ]\r\n",
    "    h, f = FirFilter( b = b[ 0 ] ).response( )\r\n",
    "    g, f = FirFilter( b = b[ 1 ] ).response( )    \r\n",
    "    h = 20.0 * numpy.log10( numpy.maximum( abs( h ), numpy.finfo( float ).eps ) )\r\n",
    "    g = 20.0 * numpy.log10( numpy.maximum( abs( g ), numpy.finfo( float ).eps ) )    \r\n",
    "    axes[ 0, 1 ].plot( f, -3.0 * numpy.ones( len( h ) ), color = [ 0.0, 0.0, 0.0 ], linewidth = 2.0 )\r\n",
    "    axes[ 0, 1 ].plot( [ -0.5, 0.5 ], [ -3.0, -3.0 ], linestyle = 'None', marker = 'o', markeredgecolor = [ 0.8, 0.2, 0.2 ], markeredgewidth = 2.0, markerfacecolor = 'None', markersize = 8.0 )\r\n",
    "    plot.append( axes[ 0, 1 ].plot( f, h, color = [ 0.2, 0.2, 0.8 ], linewidth = 2.0 )[ 0 ] )\r\n",
    "    plot.append( axes[ 0, 1 ].plot( f, g, color = [ 0.8, 0.2, 0.2 ], linewidth = 2.0 )[ 0 ] )\r\n",
    "    axes[ 0, 1 ].legend( plot, ( r'$H_{L,f}$', r'$H_{H,f}$' ), loc = 'upper right' )\r\n",
    "    label( axes[ 0, 1 ], r'$Response$', r'$f$', r'$H_f\\ dB$' )\r\n",
    "    \r\n",
    "    # Incident\r\n",
    "    \r\n",
    "    axes[ 1, 0 ].imshow( x, cmap = color )\r\n",
    "    label( axes[ 1, 0 ], r'$Incident$', r'$col$', r'$row$', False )\r\n",
    "\r\n",
    "    # Transform\r\n",
    "    \r\n",
    "    axes[ 1, 1 ].imshow( y, cmap = color )\r\n",
    "    label( axes[ 1, 1 ], r'$Transform$', r'$col$', r'$row$', False )\r\n",
    "    matplotlib.pyplot.show( )\r\n",
    "    "
   ],
   "outputs": [
    {
     "output_type": "display_data",
     "data": {
      "application/vnd.jupyter.widget-view+json": {
       "version_major": 2,
       "version_minor": 0,
       "model_id": "3e9363ecf4e0406794d8ab237d3bc48b"
      },
      "text/plain": [
       "interactive(children=(Dropdown(description='Incident', index=1, layout=Layout(width='340px'), options=('Burnin…"
      ]
     },
     "metadata": {}
    },
    {
     "output_type": "display_data",
     "data": {
      "application/vnd.jupyter.widget-view+json": {
       "version_major": 2,
       "version_minor": 0,
       "model_id": "2d194b111ba5441ba4564bb9a3fa07e9"
      },
      "text/plain": [
       "VBox(children=(Dropdown(description='$\\\\vec{b_{L,n}}$', layout=Layout(width='340px'), options=('0.5', '0.5'), …"
      ]
     },
     "metadata": {}
    }
   ],
   "metadata": {
    "scrolled": false
   }
  }
 ],
 "metadata": {
  "interpreter": {
   "hash": "ad592487fa1b3171a19a96e2180b9f2109de37280faafd2a3d388e90cb6cb929"
  },
  "kernelspec": {
   "name": "python3",
   "display_name": "Python 3.9.6 64-bit ('.venv': venv)"
  },
  "language_info": {
   "codemirror_mode": {
    "name": "ipython",
    "version": 3
   },
   "file_extension": ".py",
   "mimetype": "text/x-python",
   "name": "python",
   "nbconvert_exporter": "python",
   "pygments_lexer": "ipython3",
   "version": "3.9.6"
  }
 },
 "nbformat": 4,
 "nbformat_minor": 2
}