{
 "cells": [
  {
   "cell_type": "code",
   "execution_count": 3,
   "metadata": {},
   "outputs": [],
   "source": [
    "\"\"\" **Description**\n",
    "\n",
    "    Diamondback is package which provides Digital Signal Processing ( DSP )\n",
    "    solutions, organized in the form of commons, filters, interfaces, models, and\n",
    "    transforms.\n",
    "\n",
    "    Diamondback was designed to complement Artificial Intelligence ( AI ) frameworks,\n",
    "    by defining components which analyze, filter, extract, model, and transform data\n",
    "    into forms which are useful in applications including pattern recognition,\n",
    "    feature extraction, and optimization.\n",
    "\n",
    "    Diamondback was also designed to provide utility in the context of classical\n",
    "    signal processing solutions including communications, modeling, signal\n",
    "    identification and extraction, and noise cancellation.\n",
    "\n",
    "    **License**\n",
    "\n",
    "        `BSD-3C. <https://github.com/larryturner/diamondback/blob/master/license>`_\n",
    "\n",
    "        Copyright (c) 2018, Larry Turner, Schneider Electric.  All rights reserved.\n",
    "\n",
    "    **Author**\n",
    "\n",
    "        Larry Turner, Schneider Electric, Analytics & AI, 2018-01-23.\n",
    "\n",
    "    **Definition**\n",
    "\n",
    "\"\"\"\n",
    "\n",
    "%matplotlib inline\n",
    "\n",
    "from diamondback.commons.Log import Log\n",
    "from diamondback.filters.FirFilter import FirFilter\n",
    "from diamondback.filters.IirFilter import IirFilter\n",
    "from diamondback.filters.ComplexBandPassFilter import ComplexBandPassFilter\n",
    "from diamondback.filters.ComplexExponentialFilter import ComplexExponentialFilter\n",
    "from diamondback.filters.ComplexFrequencyFilter import ComplexFrequencyFilter\n",
    "from diamondback.filters.DerivativeFilter import DerivativeFilter\n",
    "from diamondback.filters.GoertzelFilter import GoertzelFilter\n",
    "from diamondback.filters.IntegralFilter import IntegralFilter\n",
    "from diamondback.filters.PidFilter import PidFilter\n",
    "from diamondback.filters.PolynomialRateFilter import PolynomialRateFilter\n",
    "from diamondback.filters.PolyphaseRateFilter import PolyphaseRateFilter\n",
    "from diamondback.filters.RankFilter import RankFilter\n",
    "from diamondback.filters.WindowFilter import WindowFilter\n",
    "from diamondback.models.DiversityModel import DiversityModel\n",
    "from diamondback.models.PrincipalComponentModel import PrincipalComponentModel\n",
    "from diamondback.transforms.ComplexTransform import ComplexTransform\n",
    "from diamondback.transforms.FourierTransform import FourierTransform\n",
    "from diamondback.transforms.PowerSpectrumTransform import PowerSpectrumTransform\n",
    "from diamondback.transforms.WaveletTransform import WaveletTransform\n",
    "from PIL import Image\n",
    "import io\n",
    "import ipywidgets\n",
    "import IPython\n",
    "import math\n",
    "import matplotlib\n",
    "import numpy\n",
    "\n",
    "\n",
    "def label( axis, title = '', x = '', y = '', grid = True ) :\n",
    "\n",
    "    \"\"\" Label plot title and axes, autoscale, and show grid.\n",
    "    \n",
    "        Arguments :\n",
    "        \n",
    "            title = Title ( str ).\n",
    "            \n",
    "            x - X-axis label ( str ).\n",
    "            \n",
    "            y - Y-axis label ( str ).\n",
    "            \n",
    "            grid - Grid condition.  ( bool ).\n",
    "    \"\"\"\n",
    "\n",
    "    axis.set_xlabel( x )\n",
    "\n",
    "    axis.set_ylabel( y )\n",
    "    \n",
    "    axis.set_title( title )\n",
    "    \n",
    "    axis.grid( grid )\n",
    "\n",
    "    axis.autoscale( enable = True, axis = 'both', tight = True )\n",
    "    "
   ]
  },
  {
   "cell_type": "code",
   "execution_count": 4,
   "metadata": {},
   "outputs": [
    {
     "data": {
      "text/latex": [
       "$\\displaystyle \\underline{Finite\\;Impulse\\;Response\\;Filter.} \\\\\\\\\n",
       "                                   \\\\\\begin{align}\n",
       "                                     & y_{n} = \\sum_{i = 0}^{N} b_{i,n} x_{n-i} = \\sum_{i = 1}^{N} b_{i,n} s_{i,n} + b_{0,n} x_{n} \\\\\\\\\n",
       "                                     & s_{1,n+1} = x_{n}\\qquad\\quad s_{i,n+1} = s_{i-1,n} \\\\\\\\\n",
       "                                     & e_{n} = d_{n} - y_{n} \\\\\\\\\n",
       "                                     & b_{i,n+1} = b_{i,n} + \\mu e_{n} s_{i,n}^{*} \\\\\\\\\n",
       "                                     & H_{z,n} = \\sum_{i = 0}^{N} b_{i,n} z^{-i}\n",
       "                                     \\end{align}$"
      ],
      "text/plain": [
       "<IPython.core.display.Math object>"
      ]
     },
     "metadata": {},
     "output_type": "display_data"
    }
   ],
   "source": [
    "display( IPython.display.Math( r\"\"\"\\underline{Finite\\;Impulse\\;Response\\;Filter.} \\\\\\\\\n",
    "                                   \\\\\\begin{align}\n",
    "                                     & y_{n} = \\sum_{i = 0}^{N} b_{i,n} x_{n-i} = \\sum_{i = 1}^{N} b_{i,n} s_{i,n} + b_{0,n} x_{n} \\\\\\\\\n",
    "                                     & s_{1,n+1} = x_{n}\\qquad\\quad s_{i,n+1} = s_{i-1,n} \\\\\\\\\n",
    "                                     & e_{n} = d_{n} - y_{n} \\\\\\\\\n",
    "                                     & b_{i,n+1} = b_{i,n} + \\mu e_{n} s_{i,n}^{*} \\\\\\\\\n",
    "                                     & H_{z,n} = \\sum_{i = 0}^{N} b_{i,n} z^{-i}\n",
    "                                     \\end{align}\"\"\" ) )\n"
   ]
  },
  {
   "cell_type": "code",
   "execution_count": 11,
   "metadata": {
    "scrolled": false
   },
   "outputs": [
    {
     "data": {
      "application/vnd.jupyter.widget-view+json": {
       "model_id": "8ede9bac2af84ac18ee40ce8184e7c7c",
       "version_major": 2,
       "version_minor": 0
      },
      "text/plain": [
       "interactive(children=(Dropdown(description='Classification', index=2, layout=Layout(width='325px'), options=('…"
      ]
     },
     "metadata": {},
     "output_type": "display_data"
    }
   ],
   "source": [
    "@ipywidgets.interact( )\n",
    "\n",
    "def interface( classification = ipywidgets.Dropdown( description = 'Classification', value = 'Hann', options = [ 'Blackman', 'Hamming', 'Hann', 'Kaiser' ], layout = { 'width' : '325px' } ),\n",
    "               frequency = ipywidgets.FloatSlider( description = 'Frequency', value = 0.1, min = 0.001, max = 0.999, step = 0.001, readout_format = '0.3f', layout = { 'width' : '405px' } ),\n",
    "               order = ipywidgets.IntSlider( description = 'Order', value = 64, min = 1, max = 4096, step = 1, layout = { 'width' : '405px' } ),\n",
    "               count = ipywidgets.IntSlider( description = 'Count', value = 1, min = 1, max = 16, step = 1, layout = { 'width' : '405px' } ),\n",
    "               complement = ipywidgets.IntSlider( description = 'Complement', value = False, min = False, max = True, layout = { 'width' : '405px' } ) ) :\n",
    "    \n",
    "    \"\"\" Finite Impulse Response Filter.\n",
    "    \n",
    "        Arguments :\n",
    "        \n",
    "            classification - Classification in ( 'Blackman', 'Hamming', 'Hann', 'Kaiser' ) ( str ).\n",
    "\n",
    "            frequency - Normalized frequency relative to Nyquist in ( 0.0, 1.0 ) ( float ).\n",
    "\n",
    "            order - Order ( int ).\n",
    "\n",
    "            count - Count ( int ).\n",
    "\n",
    "            complement - Complement, or high pass, response condition ( bool ).\n",
    "    \"\"\"\n",
    "\n",
    "    try :\n",
    "        \n",
    "        firfilter = FirFilter.Factory.instance( FirFilter, classification, frequency, order, count, complement )\n",
    "\n",
    "    except Exception as ex :\n",
    "        \n",
    "        Log.write( 'Error', ex )\n",
    "            \n",
    "        return\n",
    "    \n",
    "    widgets = [ ipywidgets.Dropdown( description = r'$\\vec{b_{n}}$', value = str( firfilter.b[ 0 ] ), options = [ str( x ) for x in firfilter.b ], layout = { 'width' : '325px' } ) ]\n",
    "    \n",
    "    display( ipywidgets.VBox( children = widgets, layout = ipywidgets.Layout( display = 'flex', flex_flow = 'row' ) ) )\n",
    "    \n",
    "    length = 1024\n",
    "    \n",
    "    n = numpy.linspace( 0.0, order, order + 1 )\n",
    "    \n",
    "    axis = matplotlib.pyplot.subplots( 2, 2, sharex = False, sharey = False, figsize = ( 18, 18 ) )[ 1 ]\n",
    "        \n",
    "    axis[ 0, 0 ].plot( n, numpy.zeros( order + 1 ), 'k' )\n",
    "        \n",
    "    axis[ 0, 0 ].plot( n, firfilter.b, 'b' )\n",
    "\n",
    "    label( axis[ 0, 0 ], r'$Coefficients$', r'$n$', r'$\\vec{b_{n}}$' )\n",
    "        \n",
    "    p, z = firfilter.roots( count )\n",
    "    \n",
    "    ii = numpy.where( z.real > 10.0 )[ 0 ]\n",
    "    \n",
    "    z[ ii ] = 10.0 * numpy.sign( z[ ii ].real )\n",
    "\n",
    "    v = numpy.exp( 1j * math.pi * numpy.linspace( 0, 2.0 * math.pi, length ) )\n",
    "    \n",
    "    axis[ 0, 1 ].plot( v.real, v.imag, 'k', linewidth = 0.25 )\n",
    "        \n",
    "    p, z = axis[ 0, 1 ].plot( p.real, p.imag, 'r+', z.real, z.imag, 'bo', markerfacecolor = 'white', markersize = 8 )\n",
    "\n",
    "    axis[ 0, 1 ].legend( ( p, z ), ( r'$\\vec{p_{n}}$', r'$\\vec{z_{n}}$' ), loc = 'upper right' )\n",
    "    \n",
    "    label( axis[ 0, 1 ], r'$Roots$', r'$real$', r'$imag$' )\n",
    "        \n",
    "    h, f = firfilter.response( count = count )\n",
    "\n",
    "    h = 20.0 * numpy.log10( numpy.maximum( abs( h ), numpy.finfo( float ).eps ) )\n",
    "\n",
    "    ii, jj, = int( numpy.round( len( h ) // 2 * ( 1.0 - frequency ) ) ), int( numpy.round( len( h ) // 2 * ( 1.0 + frequency ) ) )\n",
    "    \n",
    "    axis[ 1, 0 ].plot( f, -3.0 * numpy.ones( len( h ) ), 'k', f, h, 'b' )\n",
    "\n",
    "    axis[ 1, 0 ].plot( -frequency, h[ ii ], 'ro', frequency, h[ jj ], 'ro', markerfacecolor = 'none', markersize = 8 )\n",
    "\n",
    "    label( axis[ 1, 0 ], r'$Response$', r'$f$', r'$H_{f}\\ dB$' )\n",
    "    \n",
    "    d, f = firfilter.delay( count = count )\n",
    "\n",
    "    d = numpy.round( d * 10.0 ) / 10.0  \n",
    "\n",
    "    axis[ 1, 1 ].plot( -frequency, d[ ii ], 'ro', frequency, d[ jj ], 'ro', markerfacecolor = 'none', markersize = 8 )\n",
    "\n",
    "    axis[ 1, 1 ].plot( f, d, 'b' )\n",
    "\n",
    "    label( axis[ 1, 1 ], r'$Delay$', r'$f$', r'$\\tau_{f}\\ n$' )\n",
    "    \n",
    "    matplotlib.pyplot.show( )\n",
    "    "
   ]
  },
  {
   "cell_type": "code",
   "execution_count": 12,
   "metadata": {},
   "outputs": [
    {
     "data": {
      "text/latex": [
       "$\\displaystyle \\underline{Infinite\\;Impulse\\;Response\\;Filter.} \\\\\\\\\n",
       "                                   \\\\\\begin{align}\n",
       "                                     & y_{n} = \\sum_{i = 1}^{N} a_{i,n} y_{n-i} + \\sum_{i = 0}^{N} b_{i,n} x_{n-i} = \\sum_{i = 1}^{N} (\\ a_{i,n} b_{0,n} + b_{i,n}\\ ) s_{i,n} + b_{0,n} x_{n}\\qquad a_{0,n} = 0 \\\\\\\\\n",
       "                                     & s_{1,n+1} = \\sum_{i = 1}^{N} a_{i,n} s_{i,n} + x_{n}\\qquad\\qquad s_{i,n+1} = s_{i-1,n} \\\\\\\\\n",
       "                                     & e_{n} = d_{n} - y_{n} \\\\\\\\\n",
       "                                     & q_{i,n} = s_{i,n-1} + a_{i,n-1} + q_{i,n-1} \\\\\\\\\n",
       "                                     & a_{i,n+1} = a_{i,n} + \\mu e_{n} ( b_{0,n} s_{i,n} + a_{i,n} q_{i,n} )^{*} \\\\\\\\                                     \n",
       "                                     & b_{i,n+1} = b_{i,n} + \\mu e_{n} s_{i,n}^{*} \\\\\\\\\n",
       "                                     & H_{z,n} = \\frac{\\sum_{i = 0}^{N} b_{i,n} z^{-i}}{{1 - \\sum_{i = 1}^{N} a_{i,n} z^{-i}}}\n",
       "                                     \\end{align}$"
      ],
      "text/plain": [
       "<IPython.core.display.Math object>"
      ]
     },
     "metadata": {},
     "output_type": "display_data"
    }
   ],
   "source": [
    "display( IPython.display.Math( r\"\"\"\\underline{Infinite\\;Impulse\\;Response\\;Filter.} \\\\\\\\\n",
    "                                   \\\\\\begin{align}\n",
    "                                     & y_{n} = \\sum_{i = 1}^{N} a_{i,n} y_{n-i} + \\sum_{i = 0}^{N} b_{i,n} x_{n-i} = \\sum_{i = 1}^{N} (\\ a_{i,n} b_{0,n} + b_{i,n}\\ ) s_{i,n} + b_{0,n} x_{n}\\qquad a_{0,n} = 0 \\\\\\\\\n",
    "                                     & s_{1,n+1} = \\sum_{i = 1}^{N} a_{i,n} s_{i,n} + x_{n}\\qquad\\qquad s_{i,n+1} = s_{i-1,n} \\\\\\\\\n",
    "                                     & e_{n} = d_{n} - y_{n} \\\\\\\\\n",
    "                                     & q_{i,n} = s_{i,n-1} + a_{i,n-1} + q_{i,n-1} \\\\\\\\\n",
    "                                     & a_{i,n+1} = a_{i,n} + \\mu e_{n} ( b_{0,n} s_{i,n} + a_{i,n} q_{i,n} )^{*} \\\\\\\\                                     \n",
    "                                     & b_{i,n+1} = b_{i,n} + \\mu e_{n} s_{i,n}^{*} \\\\\\\\\n",
    "                                     & H_{z,n} = \\frac{\\sum_{i = 0}^{N} b_{i,n} z^{-i}}{{1 - \\sum_{i = 1}^{N} a_{i,n} z^{-i}}}\n",
    "                                     \\end{align}\"\"\" ) )\n"
   ]
  },
  {
   "cell_type": "code",
   "execution_count": 15,
   "metadata": {},
   "outputs": [
    {
     "data": {
      "application/vnd.jupyter.widget-view+json": {
       "model_id": "f0b8ec2c92a64505a4cb85c7246d2102",
       "version_major": 2,
       "version_minor": 0
      },
      "text/plain": [
       "interactive(children=(Dropdown(description='Classification', index=1, layout=Layout(width='325px'), options=('…"
      ]
     },
     "metadata": {},
     "output_type": "display_data"
    }
   ],
   "source": [
    "@ipywidgets.interact( )\n",
    "\n",
    "def interface( classification = ipywidgets.Dropdown( description = 'Classification', value = 'Butterworth', options = [ 'Bessel', 'Butterworth', 'Chebyshev' ], layout = { 'width' : '325px' } ),\n",
    "               frequency = ipywidgets.FloatSlider( description = 'Frequency', value = 0.1, min = 0.001, max = 0.999, step = 0.001, readout_format = '0.3f', layout = { 'width' : '405px' } ),\n",
    "               order = ipywidgets.IntSlider( description = 'Order', value = 6, min = 1, max = 16, step = 1, layout = { 'width' : '405px' } ),\n",
    "               count = ipywidgets.IntSlider( description = 'Count', value = 1, min = 1, max = 16, step = 1, layout = { 'width' : '405px' } ),\n",
    "               complement = ipywidgets.IntSlider( description = 'Complement', value = False, min = False, max = True, layout = { 'width' : '405px' } ) ) :\n",
    "    \n",
    "    \"\"\" Infinite Impulse Response Filter.\n",
    "    \n",
    "        Arguments :\n",
    "        \n",
    "            classification - Classification in ( 'Bessel', 'Butterworth', 'Chebyshev' ) ( str ).\n",
    "\n",
    "            frequency - Normalized frequency relative to Nyquist in ( 0.0, 1.0 ) ( float ).\n",
    "\n",
    "            order - Order ( int ).\n",
    "\n",
    "            count - Count ( int ).\n",
    "\n",
    "            complement - Complement, or high pass, response condition ( bool ).\n",
    "    \"\"\"\n",
    "    \n",
    "    iirfilter = IirFilter.Factory.instance( IirFilter, classification, frequency, order, count, complement )\n",
    "    \n",
    "    widgets = [ ipywidgets.Dropdown( description = r'$\\vec{a_{n}}$', value = str( iirfilter.a[ 0 ] ), options = [ str( x ) for x in iirfilter.a ], layout = { 'width' : '325px' } ),\n",
    "                ipywidgets.Dropdown( description = r'$\\vec{b_{n}}$', value = str( iirfilter.b[ 0 ] ), options = [ str( x ) for x in iirfilter.b ], layout = { 'width' : '325px' } ) ]\n",
    "    \n",
    "    display( ipywidgets.VBox( children = widgets, layout = ipywidgets.Layout( display = 'flex', flex_flow = 'row' ) ) )\n",
    "        \n",
    "    length = 1024\n",
    "    \n",
    "    n = numpy.linspace( 0.0, order, order + 1 )\n",
    "    \n",
    "    axis = matplotlib.pyplot.subplots( 2, 2, sharex = False, sharey = False, figsize = ( 18, 18 ) )[ 1 ]\n",
    "        \n",
    "    axis[ 0, 0 ].plot( n, numpy.zeros( order + 1 ), 'k' )\n",
    "            \n",
    "    axis[ 0, 0 ].bar( n, iirfilter.a, 0.005 * ( order + 1 ), color = 'r' )\n",
    "\n",
    "    axis[ 0, 0 ].bar( n, iirfilter.b, 0.005 * ( order + 1 ), color = 'b' )\n",
    "\n",
    "    a, b = axis[ 0, 0 ].plot( n, iirfilter.a, 'ro', n, iirfilter.b, 'bo', markerfacecolor = 'white', markersize = 8 )\n",
    "\n",
    "    axis[ 0, 0 ].legend( ( a, b ), ( r'$\\vec{a_{n}}$', r'$\\vec{b_{n}}$' ), loc = 'upper right' )\n",
    "\n",
    "    label( axis[ 0, 0 ], r'$Coefficients$', r'$n$' )\n",
    "    \n",
    "    p, z = iirfilter.roots( count )\n",
    "    \n",
    "    ii = numpy.where( z.real > 10.0 )[ 0 ]\n",
    "\n",
    "    z[ ii ] = 10.0 * numpy.sign( z[ ii ].real )\n",
    "        \n",
    "    v = numpy.exp( 1j * math.pi * numpy.linspace( 0, 2.0 * math.pi, length ) )\n",
    "    \n",
    "    axis[ 0, 1 ].plot( v.real, v.imag, 'k', linewidth = 0.25 )\n",
    "    \n",
    "    p, z = axis[ 0, 1 ].plot( p.real, p.imag, 'r+', z.real, z.imag, 'bo', markerfacecolor = 'white', markersize = 8 )\n",
    "    \n",
    "    axis[ 0, 1 ].legend( ( p, z ), ( r'$\\vec{p_{n}}$', r'$\\vec{z_{n}}$' ), loc = 'upper right' )\n",
    "    \n",
    "    label( axis[ 0, 1 ], r'$Roots$', r'$real$', r'$imag$' )\n",
    "    \n",
    "    h, f = iirfilter.response( count = count )\n",
    "\n",
    "    h = 20.0 * numpy.log10( numpy.maximum( abs( h ), numpy.finfo( float ).eps ) )\n",
    "\n",
    "    ii, jj, = int( numpy.round( len( h ) // 2 * ( 1.0 - frequency ) ) ), int( numpy.round( len( h ) // 2 * ( 1.0 + frequency ) ) )\n",
    "    \n",
    "    axis[ 1, 0 ].plot( f, -3.0 * numpy.ones( len( h ) ), 'k', f, h, 'b' )\n",
    "\n",
    "    axis[ 1, 0 ].plot( -frequency, h[ ii ], 'ro', frequency, h[ jj ], 'ro', markerfacecolor = 'none', markersize = 8 )\n",
    "\n",
    "    label( axis[ 1, 0 ], r'$Response$', r'$f$', r'$H_{f}\\ dB$' )\n",
    "    \n",
    "    d, f = iirfilter.delay( count = count )\n",
    "\n",
    "    d = numpy.round( d * 10.0 ) / 10.0  \n",
    "\n",
    "    axis[ 1, 1 ].plot( -frequency, d[ ii ], 'ro', frequency, d[ jj ], 'ro', markerfacecolor = 'none', markersize = 8 )\n",
    "\n",
    "    axis[ 1, 1 ].plot( f, d, 'b' )\n",
    "\n",
    "    label( axis[ 1, 1 ], r'$Delay$', r'$f$', r'$\\tau_{f}\\ n$' )\n",
    "    \n",
    "    matplotlib.pyplot.show( )\n",
    "    "
   ]
  },
  {
   "cell_type": "code",
   "execution_count": 16,
   "metadata": {},
   "outputs": [
    {
     "data": {
      "text/latex": [
       "$\\displaystyle \\underline{Derivative\\;Filter.} \\\\\\\\\n",
       "                                   \\\\\\begin{align}\n",
       "                                     & y_{n} = \\sum_{i = 0}^{N} b_{i} x_{n-i} = \\sum_{i = 1}^{N} b_{i} s_{i,n} + b_{0} x_{n} \\\\\\\\\n",
       "                                     & s_{1,n+1} = x_{n}\\qquad\\quad s_{i,n+1} = s_{i-1,n} \\\\\\\\\n",
       "                                     & H_{z} = \\sum_{i = 0}^{N} b_{i} z^{-i} \\\\\\\\\n",
       "                                     \\end{align}$"
      ],
      "text/plain": [
       "<IPython.core.display.Math object>"
      ]
     },
     "metadata": {},
     "output_type": "display_data"
    },
    {
     "data": {
      "text/latex": [
       "$\\displaystyle \\\\\\\\\\scriptsize{\\begin{align}\n",
       "                                                   & b_{1,1} = \\lgroup\\matrix{ 1 & -1 }\\rgroup \\\\\\\\\n",
       "                                                   & b_{1,2} = \\lgroup\\matrix{ 1 & 0 & -1 }\\rgroup(\\ \\frac{1}{2}\\ ) && b_{2,2} = \\lgroup\\matrix{ 1 & -2 & 1 }\\rgroup \\\\\\\\\n",
       "                                                   & b_{1,4} = \\lgroup\\matrix{ -1 & 8 & 0 & -8 & 1 }\\rgroup(\\ \\frac{1}{12}\\ ) && b_{2,4} = \\lgroup\\matrix{ 1 & 0 & -2 & 0 & 1 }\\rgroup(\\ \\frac{1}{4}\\ ) && b_{3,4} = \\lgroup\\matrix{ 1 & -2 & 0 & 2 & -1 }\\rgroup \\\\\\\\\n",
       "                                                   && & b_{2,6} = \\lgroup\\matrix{ -1 & 8 & 1 & -16 & 1 & 8 & -1 }\\rgroup(\\ \\frac{1}{24}\\ ) && b_{3,6} = \\lgroup\\matrix{ 1 & 0 & -3 & 0 & 3 & 0 & 1 }\\rgroup(\\ \\frac{1}{8}\\ ) \\\\\\\\\n",
       "                                                   && & b_{2,8} = \\lgroup\\matrix{ 1 & -16 & 64 & 16 & -130 & 16 & 64 & -16 & 1 }\\rgroup(\\ \\frac{1}{144}\\ ) && b_{3,8} = \\lgroup\\matrix{ -1 & 8 & 2 & -24 & 0 & 24 & -2 & -8 & 1 }\\rgroup(\\ \\frac{1}{48}\\ )\n",
       "                                                   \\end{align}}$"
      ],
      "text/plain": [
       "<IPython.core.display.Math object>"
      ]
     },
     "metadata": {},
     "output_type": "display_data"
    }
   ],
   "source": [
    "display( IPython.display.Math( r\"\"\"\\underline{Derivative\\;Filter.} \\\\\\\\\n",
    "                                   \\\\\\begin{align}\n",
    "                                     & y_{n} = \\sum_{i = 0}^{N} b_{i} x_{n-i} = \\sum_{i = 1}^{N} b_{i} s_{i,n} + b_{0} x_{n} \\\\\\\\\n",
    "                                     & s_{1,n+1} = x_{n}\\qquad\\quad s_{i,n+1} = s_{i-1,n} \\\\\\\\\n",
    "                                     & H_{z} = \\sum_{i = 0}^{N} b_{i} z^{-i} \\\\\\\\\n",
    "                                     \\end{align}\"\"\" ) )\n",
    "\n",
    "display( IPython.display.Math( r\"\"\"\\\\\\\\\\scriptsize{\\begin{align}\n",
    "                                                   & b_{1,1} = \\lgroup\\matrix{ 1 & -1 }\\rgroup \\\\\\\\\n",
    "                                                   & b_{1,2} = \\lgroup\\matrix{ 1 & 0 & -1 }\\rgroup(\\ \\frac{1}{2}\\ ) && b_{2,2} = \\lgroup\\matrix{ 1 & -2 & 1 }\\rgroup \\\\\\\\\n",
    "                                                   & b_{1,4} = \\lgroup\\matrix{ -1 & 8 & 0 & -8 & 1 }\\rgroup(\\ \\frac{1}{12}\\ ) && b_{2,4} = \\lgroup\\matrix{ 1 & 0 & -2 & 0 & 1 }\\rgroup(\\ \\frac{1}{4}\\ ) && b_{3,4} = \\lgroup\\matrix{ 1 & -2 & 0 & 2 & -1 }\\rgroup \\\\\\\\\n",
    "                                                   && & b_{2,6} = \\lgroup\\matrix{ -1 & 8 & 1 & -16 & 1 & 8 & -1 }\\rgroup(\\ \\frac{1}{24}\\ ) && b_{3,6} = \\lgroup\\matrix{ 1 & 0 & -3 & 0 & 3 & 0 & 1 }\\rgroup(\\ \\frac{1}{8}\\ ) \\\\\\\\\n",
    "                                                   && & b_{2,8} = \\lgroup\\matrix{ 1 & -16 & 64 & 16 & -130 & 16 & 64 & -16 & 1 }\\rgroup(\\ \\frac{1}{144}\\ ) && b_{3,8} = \\lgroup\\matrix{ -1 & 8 & 2 & -24 & 0 & 24 & -2 & -8 & 1 }\\rgroup(\\ \\frac{1}{48}\\ )\n",
    "                                                   \\end{align}}\"\"\" ) )\n"
   ]
  },
  {
   "cell_type": "code",
   "execution_count": 18,
   "metadata": {},
   "outputs": [
    {
     "data": {
      "application/vnd.jupyter.widget-view+json": {
       "model_id": "77b25b1359a14c8e94d4bb1b78f91b82",
       "version_major": 2,
       "version_minor": 0
      },
      "text/plain": [
       "interactive(children=(FloatRangeSlider(value=(-0.05, 0.1), description='Incident', layout=Layout(width='405px'…"
      ]
     },
     "metadata": {},
     "output_type": "display_data"
    }
   ],
   "source": [
    "@ipywidgets.interact( )\n",
    "\n",
    "def interface( incident = ipywidgets.FloatRangeSlider( description = 'Incident', value = [ -0.05, 0.1 ], min = -1.0, max = 0.99, step = 0.01, layout = { 'width' : '405px' } ),\n",
    "               noise = ipywidgets.FloatSlider( description = 'Noise', value = 0.0, min = 0.0, max = 0.5, step = 0.01, layout = { 'width' : '405px' } ),               \n",
    "               derivative = ipywidgets.IntSlider( description = 'Derivative', value = 1, min = 1, max = 3, step = 1, layout = { 'width' : '405px' } ),\n",
    "               order = ipywidgets.IntSlider( description = 'Order', value = 2, min = 0, max = 8, step = 2, layout = { 'width' : '405px' } ) ) :\n",
    "    \n",
    "    \"\"\" Derivative Filter.\n",
    "    \n",
    "        Arguments :\n",
    "        \n",
    "            incident - Normalized frequency of incident signal [ epoch, terminus ] relative to Nyquist in [ -1.0, 1.0 ) ( float ).\n",
    "\n",
    "            noise - Noise deviation of incident signal ( float ).\n",
    "            \n",
    "            derivative - Derivative ( int ).\n",
    "\n",
    "            order - Order ( int ).\n",
    "    \"\"\"\n",
    "    \n",
    "    order = int( max( min( order, 2.0 ** ( derivative + 1 ) ), 2.0 ** ( derivative - 1 ) ) )\n",
    "\n",
    "    derivativefilter = DerivativeFilter.Factory.instance( DerivativeFilter, derivative, order )\n",
    "    \n",
    "    widgets = [ ipywidgets.Dropdown( description = r'$\\vec{b_{n}}$', value = str( derivativefilter.b[ 0 ] ), options = [ str( x ) for x in derivativefilter.b ], layout = { 'width' : '325px' } ) ]\n",
    "    \n",
    "    display( ipywidgets.VBox( children = widgets, layout = ipywidgets.Layout( display = 'flex', flex_flow = 'row' ) ) )\n",
    "        \n",
    "    phase, length = numpy.random.rand( 1 )[ 0 ] - 0.5, 1024\n",
    "    \n",
    "    n = numpy.linspace( 0.0, order, order + 1 )\n",
    "\n",
    "    axis = matplotlib.pyplot.subplots( 2, 2, sharex = False, sharey = False, figsize = ( 18, 18 ) )[ 1 ]\n",
    "    \n",
    "    axis[ 0, 0 ].plot( n, numpy.zeros( order + 1 ), 'k' )\n",
    "        \n",
    "    axis[ 0, 0 ].bar( n, derivativefilter.b, 0.005 * ( order + 1 ), color = 'b' )\n",
    "\n",
    "    axis[ 0, 0 ].plot( n, derivativefilter.b, 'bo', markerfacecolor = 'white', markersize = 8 )\n",
    "\n",
    "    label( axis[ 0, 0 ], r'$Coefficients$', r'$n$', r'$\\vec{b_{n}}$' )\n",
    "    \n",
    "    p, z = derivativefilter.roots( )\n",
    "    \n",
    "    v = numpy.exp( 1j * math.pi * numpy.linspace( 0, 2.0 * math.pi, length ) )\n",
    "    \n",
    "    axis[ 0, 1 ].plot( v.real, v.imag, 'k', linewidth = 0.25 )\n",
    "        \n",
    "    p, z = axis[ 0, 1 ].plot( p.real, p.imag, 'r+', z.real, z.imag, 'bo', markerfacecolor = 'white', markersize = 8 )\n",
    "\n",
    "    axis[ 0, 1 ].legend( ( p, z ), ( r'$\\vec{p_{n}}$', r'$\\vec{z_{n}}$' ), loc = 'upper right' )\n",
    "    \n",
    "    label( axis[ 0, 1 ], r'$Roots$', r'$real$', r'$imag$' )\n",
    "        \n",
    "    h, f = derivativefilter.response( )\n",
    "\n",
    "    h = 20.0 * numpy.log10( numpy.maximum( abs( h ), numpy.finfo( float ).eps ) )\n",
    "\n",
    "    axis[ 1, 0 ].plot( f, -3.0 * numpy.ones( len( h ) ), 'k', f, h, 'b' )\n",
    "\n",
    "    axis[ 1, 0 ].plot( numpy.linspace( incident[ 0 ], incident[ 1 ], length ), numpy.zeros( length ), 'k.', markersize = 8 )    \n",
    "        \n",
    "    label( axis[ 1, 0 ], r'$Response$', r'$f$', r'$H_{f}\\ dB$' )\n",
    "        \n",
    "    length = 1024\n",
    "        \n",
    "    x = ComplexExponentialFilter( phase ).filter( numpy.linspace( incident[ 0 ], incident[ 1 ], length ) ).real\n",
    " \n",
    "    q = numpy.random.rand( len( x ) ) - 0.5\n",
    "        \n",
    "    x += q * noise / q.std( )\n",
    "\n",
    "    y = derivativefilter.filter( x )\n",
    "        \n",
    "    n = numpy.linspace( 0, length - 1, length )\n",
    "    \n",
    "    x, y = axis[ 1, 1 ].plot( n, x, 'k', n, y, 'b', linewidth = 0.75 )\n",
    "        \n",
    "    axis[ 1, 1 ].legend( ( x, y ), ( r'$x_{n}$', r'$y_{n}$' ), loc = 'upper right' )\n",
    "\n",
    "    label( axis[ 1, 1 ], r'$Filter$', r'$n$' )\n",
    "\n",
    "    matplotlib.pyplot.show( )\n",
    "    "
   ]
  },
  {
   "cell_type": "code",
   "execution_count": 19,
   "metadata": {},
   "outputs": [
    {
     "data": {
      "text/latex": [
       "$\\displaystyle \\underline{Integral\\;Filter.} \\\\\\\\\n",
       "                                   \\\\\\begin{align}\n",
       "                                     & y_{n} = \\sum_{i = 1}^{N} a_{i} y_{n-i} + \\sum_{i = 0}^{N} b_{i} x_{n-i} = \\sum_{i = 1}^{N} (\\ a_{i} b_{0} + b_{i}\\ ) s_{i,n} + b_{0} x_{n}\\qquad a_{0} = 0 \\\\\\\\\n",
       "                                     & s_{1,n+1} = \\sum_{i = 1}^{N} a_{i} s_{i,n} + x_{n}\\qquad\\quad s_{i,n+1} = s_{i-1,n} \\\\\\\\\n",
       "                                     & H_{z} = \\frac{\\sum_{i = 0}^{N} b_{i} z^{-i}}{{1 - \\sum_{i = 1}^{N} a_{i} z^{-i}}} \\\\\\\\\n",
       "                                     \\end{align}$"
      ],
      "text/plain": [
       "<IPython.core.display.Math object>"
      ]
     },
     "metadata": {},
     "output_type": "display_data"
    },
    {
     "data": {
      "text/latex": [
       "$\\displaystyle \\\\\\\\\\scriptsize{\\begin{align}\n",
       "                                                   & a_{1,0} = \\lgroup\\matrix{ 0 & 1 }\\rgroup && b_{1,0} = \\lgroup\\matrix{ 1 }\\rgroup \\\\\\\\\n",
       "                                                   & a_{1,1} = \\lgroup\\matrix{ 0 & 1 }\\rgroup && b_{1,1} = \\lgroup\\matrix{ 1 & 1 }\\rgroup(\\ \\frac{1}{2}\\ ) \\\\\\\\\n",
       "                                                   & a_{1,2} = \\lgroup\\matrix{ 0 & 1 }\\rgroup && b_{1,2} = \\lgroup\\matrix{ 1 & 4 & 1 }\\rgroup(\\ \\frac{1}{6}\\ ) \\\\\\\\\n",
       "                                                   & a_{1,3} = \\lgroup\\matrix{ 0 & 1 }\\rgroup && b_{1,3} = \\lgroup\\matrix{ 1 & 3 & 3 & 1 }\\rgroup(\\ \\frac{1}{8}\\ ) \\\\\\\\\n",
       "                                                   & a_{1,4} = \\lgroup\\matrix{ 0 & 1 }\\rgroup && b_{1,4} = \\lgroup\\matrix{ 7 & 32 & 12 & 32 & 7 }\\rgroup(\\ \\frac{1}{90}\\ )\n",
       "                                                   \\end{align}}$"
      ],
      "text/plain": [
       "<IPython.core.display.Math object>"
      ]
     },
     "metadata": {},
     "output_type": "display_data"
    }
   ],
   "source": [
    "display( IPython.display.Math( r\"\"\"\\underline{Integral\\;Filter.} \\\\\\\\\n",
    "                                   \\\\\\begin{align}\n",
    "                                     & y_{n} = \\sum_{i = 1}^{N} a_{i} y_{n-i} + \\sum_{i = 0}^{N} b_{i} x_{n-i} = \\sum_{i = 1}^{N} (\\ a_{i} b_{0} + b_{i}\\ ) s_{i,n} + b_{0} x_{n}\\qquad a_{0} = 0 \\\\\\\\\n",
    "                                     & s_{1,n+1} = \\sum_{i = 1}^{N} a_{i} s_{i,n} + x_{n}\\qquad\\quad s_{i,n+1} = s_{i-1,n} \\\\\\\\\n",
    "                                     & H_{z} = \\frac{\\sum_{i = 0}^{N} b_{i} z^{-i}}{{1 - \\sum_{i = 1}^{N} a_{i} z^{-i}}} \\\\\\\\\n",
    "                                     \\end{align}\"\"\" ) )\n",
    "\n",
    "display( IPython.display.Math( r\"\"\"\\\\\\\\\\scriptsize{\\begin{align}\n",
    "                                                   & a_{1,0} = \\lgroup\\matrix{ 0 & 1 }\\rgroup && b_{1,0} = \\lgroup\\matrix{ 1 }\\rgroup \\\\\\\\\n",
    "                                                   & a_{1,1} = \\lgroup\\matrix{ 0 & 1 }\\rgroup && b_{1,1} = \\lgroup\\matrix{ 1 & 1 }\\rgroup(\\ \\frac{1}{2}\\ ) \\\\\\\\\n",
    "                                                   & a_{1,2} = \\lgroup\\matrix{ 0 & 1 }\\rgroup && b_{1,2} = \\lgroup\\matrix{ 1 & 4 & 1 }\\rgroup(\\ \\frac{1}{6}\\ ) \\\\\\\\\n",
    "                                                   & a_{1,3} = \\lgroup\\matrix{ 0 & 1 }\\rgroup && b_{1,3} = \\lgroup\\matrix{ 1 & 3 & 3 & 1 }\\rgroup(\\ \\frac{1}{8}\\ ) \\\\\\\\\n",
    "                                                   & a_{1,4} = \\lgroup\\matrix{ 0 & 1 }\\rgroup && b_{1,4} = \\lgroup\\matrix{ 7 & 32 & 12 & 32 & 7 }\\rgroup(\\ \\frac{1}{90}\\ )\n",
    "                                                   \\end{align}}\"\"\" ) )\n"
   ]
  },
  {
   "cell_type": "code",
   "execution_count": 20,
   "metadata": {},
   "outputs": [
    {
     "data": {
      "application/vnd.jupyter.widget-view+json": {
       "model_id": "d6473a2e36f341b4a3259fa8beaa66a7",
       "version_major": 2,
       "version_minor": 0
      },
      "text/plain": [
       "interactive(children=(FloatRangeSlider(value=(-0.05, 0.1), description='Incident', layout=Layout(width='405px'…"
      ]
     },
     "metadata": {},
     "output_type": "display_data"
    }
   ],
   "source": [
    "@ipywidgets.interact( )\n",
    "\n",
    "def interface( incident = ipywidgets.FloatRangeSlider( description = 'Incident', value = [ -0.05, 0.1 ], min = -1.0, max = 0.99, step = 0.01, layout = { 'width' : '405px' } ),\n",
    "               noise = ipywidgets.FloatSlider( description = 'Noise', value = 0.0, min = 0.0, max = 0.5, step = 0.01, layout = { 'width' : '405px' } ),\n",
    "               order = ipywidgets.IntSlider( description = 'Order', value = 1, min = 0, max = 4, step = 1, layout = { 'width' : '405px' } ) ) :\n",
    "    \n",
    "    \"\"\" Integral Filter.\n",
    "    \n",
    "        Arguments :\n",
    "        \n",
    "            incident - Normalized frequency of incident signal [ epoch, terminus ] relative to Nyquist in [ -1.0, 1.0 ) ( float ).\n",
    "\n",
    "            noise - Noise deviation of incident signal ( float ).\n",
    "            \n",
    "            order - Order ( int ).\n",
    "    \"\"\"\n",
    "    \n",
    "    integralfilter = IntegralFilter.Factory.instance( IntegralFilter, order )\n",
    "    \n",
    "    widgets = [ ipywidgets.Dropdown( description = r'$\\vec{a_{n}}$', value = str( integralfilter.a[ 0 ] ), options = [ str( x ) for x in integralfilter.a ], layout = { 'width' : '325px' } ),\n",
    "                ipywidgets.Dropdown( description = r'$\\vec{b_{n}}$', value = str( integralfilter.b[ 0 ] ), options = [ str( x ) for x in integralfilter.b ], layout = { 'width' : '325px' } ) ]\n",
    "    \n",
    "    display( ipywidgets.VBox( children = widgets, layout = ipywidgets.Layout( display = 'flex', flex_flow = 'row' ) ) )\n",
    "    \n",
    "    phase, length = numpy.random.rand( 1 )[ 0 ] - 0.5, 1024\n",
    "\n",
    "    n = numpy.linspace( 0.0, max( order, 1 ), max( order, 1 ) + 1 )\n",
    "    \n",
    "    axis = matplotlib.pyplot.subplots( 2, 2, sharex = False, sharey = False, figsize = ( 18, 18 ) )[ 1 ]\n",
    "    \n",
    "    axis[ 0, 0 ].plot( n, numpy.zeros( order + 1 ), 'k' )\n",
    "        \n",
    "    axis[ 0, 0 ].bar( n, integralfilter.a, 0.005 * ( order + 1 ), color = 'r' )\n",
    "\n",
    "    axis[ 0, 0 ].bar( n, integralfilter.b, 0.005 * ( order + 1 ), color = 'b' )\n",
    "    \n",
    "    a, b = axis[ 0, 0 ].plot( n, integralfilter.a, 'ro', n, integralfilter.b, 'bo', markerfacecolor = 'white', markersize = 8 )\n",
    "\n",
    "    axis[ 0, 0 ].legend( ( a, b ), ( r'$\\vec{a_{n}}$', r'$\\vec{b_{n}}$' ), loc = 'upper right' )\n",
    "\n",
    "    label( axis[ 0, 0 ], r'$Coefficients$', r'$n$' )\n",
    "\n",
    "    p, z = integralfilter.roots( )\n",
    "    \n",
    "    v = numpy.exp( 1j * math.pi * numpy.linspace( 0, 2.0 * math.pi, length ) )\n",
    "    \n",
    "    axis[ 0, 1 ].plot( v.real, v.imag, 'k', linewidth = 0.25 )\n",
    "    \n",
    "    p, z = axis[ 0, 1 ].plot( p.real, p.imag, 'r+', z.real, z.imag, 'bo', markerfacecolor = 'white', markersize = 8 )\n",
    "\n",
    "    axis[ 0, 1 ].legend( ( p, z ), ( r'$\\vec{p_{n}}$', r'$\\vec{z_{n}}$' ), loc = 'upper right' )\n",
    "    \n",
    "    label( axis[ 0, 1 ], r'$Roots$', r'$real$', r'$imag$' )\n",
    "       \n",
    "    h, f = integralfilter.response( )\n",
    "    \n",
    "    h = 20.0 * numpy.log10( numpy.maximum( abs( h ), numpy.finfo( float ).eps ) )\n",
    "\n",
    "    axis[ 1, 0 ].plot( f, -3.0 * numpy.ones( len( h ) ), 'k', f, h, 'b' )\n",
    "\n",
    "    axis[ 1, 0 ].plot( numpy.linspace( incident[ 0 ], incident[ 1 ], length ), numpy.zeros( length ), 'k.', markersize = 8 )    \n",
    "    \n",
    "    label( axis[ 1, 0 ], r'$Response$', r'$f$', r'$H_{f}\\ dB$' )\n",
    "        \n",
    "    length = 1024\n",
    "        \n",
    "    x = ComplexExponentialFilter( phase ).filter( numpy.linspace( incident[ 0 ], incident[ 1 ], length ) ).real\n",
    "     \n",
    "    q = numpy.random.rand( len( x ) ) - 0.5\n",
    "        \n",
    "    x += q * noise / q.std( )\n",
    "\n",
    "    y = integralfilter.filter( x )\n",
    "        \n",
    "    n = numpy.linspace( 0, length - 1, length )\n",
    "    \n",
    "    x, y = axis[ 1, 1 ].plot( n, x, 'k', n, y, 'b', linewidth = 0.75 )\n",
    "    \n",
    "    axis[ 1, 1 ].legend( ( x, y ), ( r'$x_{n}$', r'$y_{n}$' ), loc = 'upper right' )\n",
    "\n",
    "    label( axis[ 1, 1 ], r'$Filter$', r'$n$' )\n",
    "\n",
    "    matplotlib.pyplot.show( )\n",
    "    "
   ]
  },
  {
   "cell_type": "code",
   "execution_count": 21,
   "metadata": {},
   "outputs": [
    {
     "data": {
      "text/latex": [
       "$\\displaystyle \\underline{Polynomial\\;Rate\\;Filter.} \\\\\\\\\n",
       "                                   \\\\\\begin{align}\n",
       "                                     \\end{align}$"
      ],
      "text/plain": [
       "<IPython.core.display.Math object>"
      ]
     },
     "metadata": {},
     "output_type": "display_data"
    }
   ],
   "source": [
    "display( IPython.display.Math( r\"\"\"\\underline{Polynomial\\;Rate\\;Filter.} \\\\\\\\\n",
    "                                   \\\\\\begin{align}\n",
    "                                     \\end{align}\"\"\" ) )"
   ]
  },
  {
   "cell_type": "code",
   "execution_count": 22,
   "metadata": {},
   "outputs": [
    {
     "data": {
      "application/vnd.jupyter.widget-view+json": {
       "model_id": "243acefd467c42bf802750e858bf29f3",
       "version_major": 2,
       "version_minor": 0
      },
      "text/plain": [
       "interactive(children=(FloatRangeSlider(value=(0.0, 0.1), description='Incident', layout=Layout(width='405px'),…"
      ]
     },
     "metadata": {},
     "output_type": "display_data"
    }
   ],
   "source": [
    "@ipywidgets.interact( )\n",
    "\n",
    "def interface( incident = ipywidgets.FloatRangeSlider( description = 'Incident', value = [ 0.0, 0.1 ], min = -1.0, max = 0.99, step = 0.01, readout_format = '0.2f', layout = { 'width' : '405px' } ),\n",
    "               noise = ipywidgets.FloatSlider( description = 'Noise', value = 0.0, min = 0.0, max = 0.5, step = 0.01, layout = { 'width' : '405px' } ),               \n",
    "               rate = ipywidgets.FloatSlider( description = 'Rate', value = 1.0, min = 1.0, max = 256.0, step = 0.01, layout = { 'width' : '405px' } ) ) :\n",
    "\n",
    "    \"\"\" Polynomial Rate Filter.\n",
    "    \n",
    "        Arguments :\n",
    "        \n",
    "            incident - Normalized frequency of incident signal [ epoch, terminus ] relative to Nyquist in [ -1.0, 1.0 ) ( float ).\n",
    "\n",
    "            noise - Noise deviation of incident signal ( float ).\n",
    "            \n",
    "            rate - Rate ratio of effective frequency in [ 1.0, inf ) ( float ).\n",
    "    \"\"\"\n",
    "    \n",
    "    ratefilter = PolynomialRateFilter( rate )\n",
    "    \n",
    "    frequency, phase, length = 0.85, numpy.random.rand( 1 )[ 0 ] - 0.5, 1024\n",
    "    \n",
    "    axis = matplotlib.pyplot.subplots( 1, 2, sharex = False, sharey = False, figsize = ( 36, 9 ) )[ 1 ]\n",
    "        \n",
    "    x = ComplexExponentialFilter( phase ).filter( numpy.linspace( incident[ 0 ], incident[ 1 ], length ) ).real\n",
    "\n",
    "    q = numpy.random.rand( len( x ) ) - 0.5\n",
    "        \n",
    "    x += q * noise / q.std( )\n",
    "    \n",
    "    y = ratefilter.filter( x )\n",
    "\n",
    "    x, y = axis[ 0 ].plot( numpy.linspace( 0, len( x ) - 1, len( x ) ), x, 'k', numpy.linspace( 0, len( y ) - 1, len( y ) ), y, 'b', linewidth = 0.75 )\n",
    "    \n",
    "    axis[ 0 ].legend( ( x, y ), ( r'$x_{n}$', r'$y_{n}$' ), loc = 'upper right' )\n",
    "\n",
    "    label( axis[ 0 ], r'$Filter$', r'$n$' )\n",
    "\n",
    "    axis[ 1 ].set_visible( False )\n",
    "    \n",
    "    matplotlib.pyplot.show( )\n",
    "    "
   ]
  },
  {
   "cell_type": "code",
   "execution_count": 23,
   "metadata": {},
   "outputs": [
    {
     "data": {
      "text/latex": [
       "$\\displaystyle \\underline{Polyphase\\;Rate\\;Filter.} \\\\\\\\\n",
       "                                   \\\\\\begin{align}\n",
       "                                     & b_{k,i} = b^{M}[\\ k (\\ N\\ +\\ 1\\ )\\ +\\ i\\ ] \\qquad\\qquad\\qquad\\qquad\\qquad\\qquad k\\ :\\ [\\ 0,\\ K\\sim 256\\ )\\qquad\\ i\\ :\\ [\\ 0,\\ N\\sim 15 \\ ] \\\\\\\\\n",
       "                                     & y_{n} = \\sum_{i = 0}^{N} b_{k_{n},i}\\ x_{n-i} = \\sum_{i = 1}^{N} b_{k_{n},i}\\ s_{i,n} + b_{k_{n},0}\\ x_{n} \\\\\\\\\n",
       "                                     & s_{1,n+1} = x_{n}\\qquad\\ s_{i,n+1} = s_{i-1,n} \\\\\\\\                                    \n",
       "                                     & \\phi_{n+1,Rate} = \\phi_{n,Rate}\\ +\\ \\frac{K}{\\scriptsize{Rate}} \\\\\\\\\n",
       "                                     & \\phi_{n+1,Rate}\\ \\geq\\ K\\qquad\\longrightarrow\\qquad \\phi_{n+1,Rate} = \\phi_{n+1,Rate}\\ -\\ K \\\\\\\\\n",
       "                                     & k_{n+1} = \\mod( \\left\\lfloor{\\ k_{n}\\ +\\ \\phi_{n+1,Rate}}\\right\\rfloor,\\ M\\ )\n",
       "                                     \\end{align}$"
      ],
      "text/plain": [
       "<IPython.core.display.Math object>"
      ]
     },
     "metadata": {},
     "output_type": "display_data"
    }
   ],
   "source": [
    "display( IPython.display.Math( r\"\"\"\\underline{Polyphase\\;Rate\\;Filter.} \\\\\\\\\n",
    "                                   \\\\\\begin{align}\n",
    "                                     & b_{k,i} = b^{M}[\\ k (\\ N\\ +\\ 1\\ )\\ +\\ i\\ ] \\qquad\\qquad\\qquad\\qquad\\qquad\\qquad k\\ :\\ [\\ 0,\\ K\\sim 256\\ )\\qquad\\ i\\ :\\ [\\ 0,\\ N\\sim 15 \\ ] \\\\\\\\\n",
    "                                     & y_{n} = \\sum_{i = 0}^{N} b_{k_{n},i}\\ x_{n-i} = \\sum_{i = 1}^{N} b_{k_{n},i}\\ s_{i,n} + b_{k_{n},0}\\ x_{n} \\\\\\\\\n",
    "                                     & s_{1,n+1} = x_{n}\\qquad\\ s_{i,n+1} = s_{i-1,n} \\\\\\\\                                    \n",
    "                                     & \\phi_{n+1,Rate} = \\phi_{n,Rate}\\ +\\ \\frac{K}{\\scriptsize{Rate}} \\\\\\\\\n",
    "                                     & \\phi_{n+1,Rate}\\ \\geq\\ K\\qquad\\longrightarrow\\qquad \\phi_{n+1,Rate} = \\phi_{n+1,Rate}\\ -\\ K \\\\\\\\\n",
    "                                     & k_{n+1} = \\mod( \\left\\lfloor{\\ k_{n}\\ +\\ \\phi_{n+1,Rate}}\\right\\rfloor,\\ M\\ )\n",
    "                                     \\end{align}\"\"\" ) )\n"
   ]
  },
  {
   "cell_type": "code",
   "execution_count": 24,
   "metadata": {
    "scrolled": false
   },
   "outputs": [
    {
     "data": {
      "application/vnd.jupyter.widget-view+json": {
       "model_id": "0b61a83a974545cb8457faaffd0fa4d7",
       "version_major": 2,
       "version_minor": 0
      },
      "text/plain": [
       "interactive(children=(FloatRangeSlider(value=(0.0, 0.1), description='Incident', layout=Layout(width='405px'),…"
      ]
     },
     "metadata": {},
     "output_type": "display_data"
    }
   ],
   "source": [
    "@ipywidgets.interact( )\n",
    "\n",
    "def interface( incident = ipywidgets.FloatRangeSlider( description = 'Incident', value = [ 0.0, 0.1 ], min = -1.0, max = 0.99, step = 0.01, readout_format = '0.2f', layout = { 'width' : '405px' } ),\n",
    "               noise = ipywidgets.FloatSlider( description = 'Noise', value = 0.0, min = 0.0, max = 0.5, step = 0.01, layout = { 'width' : '405px' } ),               \n",
    "               rate = ipywidgets.FloatSlider( description = 'Rate', value = 1.0, min = 0.01, max = 256.0, step = 0.01, layout = { 'width' : '405px' } ) ) :\n",
    "\n",
    "    \"\"\" Polyphase Rate Filter.\n",
    "    \n",
    "        Arguments :\n",
    "        \n",
    "            incident - Normalized frequency of incident signal [ epoch, terminus ] relative to Nyquist in [ -1.0, 1.0 ) ( float ).\n",
    "\n",
    "            noise - Noise deviation of incident signal ( float ).\n",
    "            \n",
    "            rate - Rate ratio of effective frequency in ( 0.0, 256.0 ] ( float ).\n",
    "    \"\"\"\n",
    "    \n",
    "    ratefilter = PolyphaseRateFilter( rate )\n",
    "    \n",
    "    widgets = [ ipywidgets.Dropdown( description = 'Index', value = str( ratefilter.b.shape[ 0 ] / rate ), options = [ str( ratefilter.b.shape[ 0 ] / rate ) ], layout = { 'width' : '325px' } ),\n",
    "                ipywidgets.Dropdown( description = 'Order', value = str( ratefilter.b.shape[ 0 ] ), options = [ str( ratefilter.b.shape[ 0 ] ), str( ratefilter.b.shape[ 1 ] ) ], layout = { 'width' : '325px' } ) ]\n",
    "    \n",
    "    display( ipywidgets.VBox( children = widgets, layout = ipywidgets.Layout( display = 'flex', flex_flow = 'row' ) ) )\n",
    "        \n",
    "    frequency, phase, length = 0.85, numpy.random.rand( 1 )[ 0 ] - 0.5, 1024\n",
    "       \n",
    "    n = numpy.linspace( 0.0, ratefilter.b.shape[ 1 ] - 1, ratefilter.b.shape[ 1 ] )\n",
    "\n",
    "    axis = matplotlib.pyplot.subplots( 2, 2, sharex = False, sharey = False, figsize = ( 18, 18 ) )[ 1 ]\n",
    "        \n",
    "    axis[ 0, 0 ].plot( n, numpy.zeros( ratefilter.b.shape[ 1 ] ), 'k' )\n",
    "          \n",
    "    for ii in range( 0, ratefilter.b.shape[ 0 ], 4 ) :\n",
    "    \n",
    "        axis[ 0, 0 ].plot( n, ratefilter.b[ ii, : ], 'b', linewidth = 0.25 )\n",
    "                \n",
    "    label( axis[ 0, 0 ], r'$Coefficients$', r'$n$', r'$\\vec{b_{n}}$' )\n",
    "        \n",
    "    x = ComplexExponentialFilter( phase ).filter( numpy.linspace( incident[ 0 ], incident[ 1 ], length ) ).real\n",
    "\n",
    "    q = numpy.random.rand( len( x ) ) - 0.5\n",
    "        \n",
    "    x += q * noise / q.std( )\n",
    "    \n",
    "    y = ratefilter.filter( x )\n",
    "        \n",
    "    x, y = axis[ 0, 1 ].plot( numpy.linspace( 0, len( x ) - 1, len( x ) ), x, 'k', numpy.linspace( 0, len( y ) - 1, len( y ) ), y, 'b', linewidth = 0.75 )\n",
    "    \n",
    "    axis[ 0, 1 ].legend( ( x, y ), ( r'$x_{n}$', r'$y_{n}$' ), loc = 'upper right' )\n",
    "\n",
    "    label( axis[ 0, 1 ], r'$Filter$', r'$n$' )\n",
    "\n",
    "    for ii in range( 0, ratefilter.b.shape[ 0 ], 2 ) :\n",
    "    \n",
    "        firfilter = FirFilter( ratefilter.b[ ii, : ] );\n",
    "        \n",
    "        h, f = firfilter.response( )\n",
    "\n",
    "        h = 20.0 * numpy.log10( numpy.maximum( abs( h ), numpy.finfo( float ).eps ) )\n",
    "\n",
    "        ii, jj, = int( numpy.round( len( h ) // 2 * ( 1.0 - frequency ) ) ), int( numpy.round( len( h ) // 2 * ( 1.0 + frequency ) ) )\n",
    "    \n",
    "        axis[ 1, 0 ].plot( f, h, 'b', linewidth = 0.25 )\n",
    "    \n",
    "        d, f = firfilter.delay( )\n",
    "\n",
    "        d = numpy.maximum( numpy.minimum( d, ratefilter.b.shape[ 1 ] // 2 + 0.6 ), ratefilter.b.shape[ 1 ] // 2 - 0.6 )\n",
    "\n",
    "        axis[ 1, 1 ].plot( f, d, 'b', linewidth = 0.25 )        \n",
    "        \n",
    "    axis[ 1, 0 ].plot( f, -3.0 * numpy.ones( len( h ) ), 'k' )\n",
    "        \n",
    "    axis[ 1, 0 ].plot( -frequency, h[ ii ], 'ro', frequency, h[ jj ], 'ro', markerfacecolor = 'none', markersize = 8 )\n",
    "    \n",
    "    axis[ 1, 0 ].plot( numpy.linspace( incident[ 0 ], incident[ 1 ], length ), numpy.zeros( length ), 'k.', markersize = 8 )    \n",
    "    \n",
    "    label( axis[ 1, 0 ], r'$Response$', r'$f$', r'$H_{f}\\ dB$' )\n",
    "    \n",
    "    label( axis[ 1, 1 ], r'$Delay$', r'$f$', r'$\\tau_{f}\\ n$' )\n",
    "            \n",
    "    matplotlib.pyplot.show( )\n",
    "    "
   ]
  },
  {
   "cell_type": "code",
   "execution_count": 25,
   "metadata": {},
   "outputs": [
    {
     "data": {
      "text/latex": [
       "$\\displaystyle \\underline{Complex\\;Transform.} \\\\\\\\\n",
       "                                   \\\\\\begin{align}\n",
       "                                     & \\gamma = \\left\\lgroup\\matrix{ 1 & \\frac{-1}{2} & \\frac{-1}{2}\\cr 0 & \\frac{3^{0.5}}{2} & \\frac{-3^{0.5}}{2}\\cr 1 & 1 & 1 }\\right\\rgroup && \\alpha = \\lgroup\\matrix{\\frac{1}{3}}\\rgroup^{0.5}\\ e^{\\ -j\\ \\frac{\\pi}{6}\\ } \\\\\\\\\n",
       "                                     & \\scriptsize{Three-Phase\\longrightarrow\\ Complex} \\\\\\\\\n",
       "                                     & y_{n} = \\lgroup\\matrix{ x^{T}_{n}\\ \\gamma\\ }\\rgroup \\lgroup\\matrix{ 1 & j & 0 }\\rgroup^{T} \\\\\\\\\n",
       "                                     & \\overline{\\scriptsize{Neutral}}\\ \\qquad\\longrightarrow\\qquad y_{n} = y_{n}\\ \\alpha \\\\\\\\\n",
       "                                     & \\scriptsize{Complex\\longrightarrow\\ Three-Phase} \\\\\\\\                                     \n",
       "                                     & \\overline{\\scriptsize{Neutral}}\\ \\qquad\\longrightarrow\\qquad x_{n} = \\frac{x_{n}}{\\alpha} \\\\\\\\\n",
       "                                     & y_{n} = \\lgroup\\matrix{\\ \\lgroup\\matrix{ \\gamma^{T}\\gamma }\\rgroup^{-1}\\ \\gamma^{T}\\lgroup\\matrix{ real(\\ x_{n}\\ ) & imag(\\ x_{n}\\ ) & 0 }\\rgroup^{T}}\\rgroup^{T} \\\\\\\\\n",
       "                                     \\end{align}$"
      ],
      "text/plain": [
       "<IPython.core.display.Math object>"
      ]
     },
     "metadata": {},
     "output_type": "display_data"
    }
   ],
   "source": [
    "display( IPython.display.Math( r\"\"\"\\underline{Complex\\;Transform.} \\\\\\\\\n",
    "                                   \\\\\\begin{align}\n",
    "                                     & \\gamma = \\left\\lgroup\\matrix{ 1 & \\frac{-1}{2} & \\frac{-1}{2}\\cr 0 & \\frac{3^{0.5}}{2} & \\frac{-3^{0.5}}{2}\\cr 1 & 1 & 1 }\\right\\rgroup && \\alpha = \\lgroup\\matrix{\\frac{1}{3}}\\rgroup^{0.5}\\ e^{\\ -j\\ \\frac{\\pi}{6}\\ } \\\\\\\\\n",
    "                                     & \\scriptsize{Three-Phase\\longrightarrow\\ Complex} \\\\\\\\\n",
    "                                     & y_{n} = \\lgroup\\matrix{ x^{T}_{n}\\ \\gamma\\ }\\rgroup \\lgroup\\matrix{ 1 & j & 0 }\\rgroup^{T} \\\\\\\\\n",
    "                                     & \\overline{\\scriptsize{Neutral}}\\ \\qquad\\longrightarrow\\qquad y_{n} = y_{n}\\ \\alpha \\\\\\\\\n",
    "                                     & \\scriptsize{Complex\\longrightarrow\\ Three-Phase} \\\\\\\\                                     \n",
    "                                     & \\overline{\\scriptsize{Neutral}}\\ \\qquad\\longrightarrow\\qquad x_{n} = \\frac{x_{n}}{\\alpha} \\\\\\\\\n",
    "                                     & y_{n} = \\lgroup\\matrix{\\ \\lgroup\\matrix{ \\gamma^{T}\\gamma }\\rgroup^{-1}\\ \\gamma^{T}\\lgroup\\matrix{ real(\\ x_{n}\\ ) & imag(\\ x_{n}\\ ) & 0 }\\rgroup^{T}}\\rgroup^{T} \\\\\\\\\n",
    "                                     \\end{align}\"\"\" ) )\n"
   ]
  },
  {
   "cell_type": "code",
   "execution_count": 26,
   "metadata": {},
   "outputs": [
    {
     "data": {
      "application/vnd.jupyter.widget-view+json": {
       "model_id": "b01ceff5321e455cb2126dd7a20f1289",
       "version_major": 2,
       "version_minor": 0
      },
      "text/plain": [
       "interactive(children=(FloatRangeSlider(value=(-0.05, 0.05), description='Incident', layout=Layout(width='405px…"
      ]
     },
     "metadata": {},
     "output_type": "display_data"
    }
   ],
   "source": [
    "@ipywidgets.interact( )\n",
    "\n",
    "def interface( incident = ipywidgets.FloatRangeSlider( description = 'Incident', value = [ -0.05, 0.05 ], min = -1.0, max = 0.99, step = 0.01, layout = { 'width' : '405px' } ),\n",
    "               noise = ipywidgets.FloatSlider( description = 'Noise', value = 0.0, min = 0.0, max = 0.5, step = 0.01, layout = { 'width' : '405px' } ),\n",
    "               neutral = ipywidgets.IntSlider( description = 'Neutral', value = True, min = False, max = True, layout = { 'width' : '405px' } ),\n",
    "               inverse = ipywidgets.IntSlider( description = 'Inverse', value = False, min = False, max = True, layout = { 'width' : '405px' } ) ) :\n",
    "\n",
    "    \"\"\" Complex Transform.\n",
    "    \n",
    "        Arguments :\n",
    "        \n",
    "            incident - Normalized frequency of incident signal [ epoch, terminus ] relative to Nyquist in [ -1.0, 1.0 ) ( float ).\n",
    "\n",
    "            noise - Noise deviation of incident signal ( float ).\n",
    "            \n",
    "            neutral - Neutral reference condition ( bool ).\n",
    "            \n",
    "            inverse - Inverse transform condition ( bool ).\n",
    "    \"\"\"\n",
    "    \n",
    "    phase, length = numpy.random.rand( 1 )[ 0 ] - 0.5, 1024\n",
    "    \n",
    "    x = ComplexExponentialFilter( phase ).filter( numpy.linspace( incident[ 0 ], incident[ 1 ], length ) )\n",
    " \n",
    "    q = numpy.random.rand( len( x ) ) - 0.5 + 1j * ( numpy.random.rand( len( x ) ) - 0.5 )\n",
    "    \n",
    "    x += q * noise / q.std( )\n",
    "    \n",
    "    n = numpy.linspace( 0.0, length - 1, length )\n",
    "    \n",
    "    axis = matplotlib.pyplot.subplots( 1, 2, sharex = False, sharey = False, figsize = ( 18, 9 ) )[ 1 ]\n",
    " \n",
    "    v = ComplexTransform.transform( x, neutral )\n",
    "\n",
    "    epoch, terminus, ii, jj = r'$Incident$', r'$Transform$', 0, 1\n",
    "    \n",
    "    if ( inverse ) :\n",
    "        \n",
    "        x = ComplexTransform.transform( v, neutral )\n",
    "    \n",
    "        epoch, terminus, ii, jj = r'$Transform$', r'$Incident$', 1, 0\n",
    "    \n",
    "    u, v, w = axis[ ii ].plot( n, v[ 0, : ], 'k', n, v[ 1, : ], 'b', n, v[ 2, : ], 'r', linewidth = 0.25 )\n",
    "\n",
    "    axis[ ii ].legend( ( u, v, w ), ( r'$x_{0,n}$', r'$x_{1,n}$', r'$x_{2,n}$' ), loc = 'upper right' )\n",
    "\n",
    "    label( axis[ ii ], epoch, r'$n$' )\n",
    "    \n",
    "    v = numpy.exp( 1j * math.pi * numpy.linspace( 0, 2.0 * math.pi, length ) )\n",
    "    \n",
    "    axis[ jj ].plot( v.real, v.imag, 'k', linewidth = 0.25 )\n",
    "    \n",
    "    axis[ jj ].plot( x.real, x.imag, 'b' )\n",
    "      \n",
    "    u, v = axis[ jj ].plot( x[ 0 ].real, x[ 0 ].imag, 'ro', x[ -1 ].real, x[ -1 ].imag, 'ko', markerfacecolor = 'white', markersize = 8 )\n",
    "                    \n",
    "    axis[ jj ].legend( ( u, v ), ( r'$x_{0}$', r'$x_{N-1}$' ), loc = 'upper right' )\n",
    "    \n",
    "    label( axis[ jj ], terminus, r'$real$', r'$imag$' )\n",
    "    \n",
    "    matplotlib.pyplot.show( )\n",
    "    "
   ]
  },
  {
   "cell_type": "code",
   "execution_count": 27,
   "metadata": {},
   "outputs": [
    {
     "data": {
      "text/latex": [
       "$\\displaystyle \\underline{Complex\\;Bandpass\\;Filter.} \\\\\\\\\n",
       "                                   \\\\\\begin{align}\n",
       "                                     & x_{n} = e^{\\ j\\ \\pi\\ \\phi_{n}} \\\\\\\\\n",
       "                                     & \\phi_{n+1} = \\phi_{n} + f_{n} \\\\\\\\\n",
       "                                     & y_{n} = b_{n} x_{n} \\\\\\\\\n",
       "                                     & e_{n} = d_{n} - y_{n} \\\\\\\\\n",
       "                                     & b_{n+1} = b_{n} + \\mu e_{n} x_{n}^{*}\n",
       "                                     \\end{align}$"
      ],
      "text/plain": [
       "<IPython.core.display.Math object>"
      ]
     },
     "metadata": {},
     "output_type": "display_data"
    }
   ],
   "source": [
    "display( IPython.display.Math( r\"\"\"\\underline{Complex\\;Bandpass\\;Filter.} \\\\\\\\\n",
    "                                   \\\\\\begin{align}\n",
    "                                     & x_{n} = e^{\\ j\\ \\pi\\ \\phi_{n}} \\\\\\\\\n",
    "                                     & \\phi_{n+1} = \\phi_{n} + f_{n} \\\\\\\\\n",
    "                                     & y_{n} = b_{n} x_{n} \\\\\\\\\n",
    "                                     & e_{n} = d_{n} - y_{n} \\\\\\\\\n",
    "                                     & b_{n+1} = b_{n} + \\mu e_{n} x_{n}^{*}\n",
    "                                     \\end{align}\"\"\" ) )\n"
   ]
  },
  {
   "cell_type": "code",
   "execution_count": 28,
   "metadata": {
    "scrolled": false
   },
   "outputs": [
    {
     "data": {
      "application/vnd.jupyter.widget-view+json": {
       "model_id": "20a19fc0ba9448e2af7f65107de27358",
       "version_major": 2,
       "version_minor": 0
      },
      "text/plain": [
       "interactive(children=(FloatRangeSlider(value=(0.1, 0.1), description='Incident', layout=Layout(width='405px'),…"
      ]
     },
     "metadata": {},
     "output_type": "display_data"
    }
   ],
   "source": [
    "@ipywidgets.interact( )\n",
    "\n",
    "def interface( incident = ipywidgets.FloatRangeSlider( description = 'Incident', value = [ 0.1, 0.1 ], min = -1.0, max = 0.99, step = 0.01, layout = { 'width' : '405px' } ),\n",
    "               noise = ipywidgets.FloatSlider( description = 'Noise', value = 0.0, min = 0.0, max = 0.5, step = 0.01, layout = { 'width' : '405px' } ),\n",
    "               frequency = ipywidgets.FloatSlider( description = 'Frequency', value = 0.1, min = -1.0, max = 0.999, step = 0.001, readout_format = '0.3f', layout = { 'width' : '405px' } ),\n",
    "               rate = ipywidgets.FloatSlider( description = 'Rate', value = 0.01, min = 0.0001, max = 1.0, step = 0.0001, readout_format = '0.4f', layout = { 'width' : '405px' } ) ) :\n",
    "\n",
    "    \"\"\" Complex Bandpass Filter.\n",
    "    \n",
    "        Arguments :\n",
    "        \n",
    "            incident - Normalized frequency of incident signal [ epoch, terminus ] relative to Nyquist in [ -1.0, 1.0 ) ( float ).\n",
    "\n",
    "            noise - Noise deviation of incident signal ( float ).\n",
    "\n",
    "            frequency - Normalized frequency relative to Nyquist in [ -1.0, 1.0 ) ( float ).\n",
    "\n",
    "            rate - Rate of adaptation ( float ).\n",
    "    \"\"\"\n",
    "    \n",
    "    complexbandpassfilter = ComplexBandPassFilter( frequency, rate )\n",
    "        \n",
    "    phase, count, length = numpy.random.rand( 1 )[ 0 ] - 0.5, 128, 1024\n",
    "    \n",
    "    x = ComplexExponentialFilter( phase ).filter( numpy.linspace( incident[ 0 ], incident[ 1 ], length ) )\n",
    "      \n",
    "    q = numpy.random.rand( len( x ) ) - 0.5 + 1j * ( numpy.random.rand( len( x ) ) - 0.5 )\n",
    "        \n",
    "    x += q * noise / q.std( )\n",
    "        \n",
    "    y, e, b = complexbandpassfilter.filter( x )\n",
    "    \n",
    "    n = numpy.linspace( 0.0, length - 1, length )\n",
    "    \n",
    "    axis = matplotlib.pyplot.subplots( 2, 2, sharex = False, sharey = False, figsize = ( 18, 18 ) )[ 1 ]\n",
    "        \n",
    "    axis[ 0, 0 ].plot( n, numpy.zeros( length ), 'k' )\n",
    "\n",
    "    axis[ 0, 0 ].plot( n, b.real, 'b', n, b.imag, 'b', linewidth = 0.25 )\n",
    "    \n",
    "    axis[ 0, 0 ].plot( n, abs( b ), 'b' )\n",
    "\n",
    "    label( axis[ 0, 0 ], r'$Coefficients$', r'$n$', r'$b_{n}$' )\n",
    "\n",
    "    v = numpy.exp( 1j * math.pi * numpy.linspace( 0, 2.0 * math.pi, length ) )\n",
    "    \n",
    "    axis[ 0, 1 ].plot( v.real, v.imag, 'k', linewidth = 0.25 )\n",
    "    \n",
    "    axis[ 0, 1 ].plot( b.real, b.imag, 'b.', markersize = 1 )\n",
    "      \n",
    "    u, v = axis[ 0, 1 ].plot( b[ 0 ].real, b[ 0 ].imag, 'ro', b[ -1 ].real, b[ -1 ].imag, 'ko', markerfacecolor = 'white', markersize = 8 )\n",
    "\n",
    "    axis[ 0, 1 ].legend( ( u, v ), ( r'$b_{0}$', r'$b_{N-1}$' ), loc = 'upper right' )    \n",
    "    \n",
    "    label( axis[ 0, 1 ], r'$Coefficients$', r'$real$', r'$imag$' )\n",
    "    \n",
    "    h, f = numpy.zeros( count ), numpy.linspace( max( incident[ 0 ] - 0.05, -1.0 ), min( incident[ 1 ] + 0.05, 1.0 - 2.0 / count ), count )\n",
    "    \n",
    "    for ii in range( 0, len( f ) ) :\n",
    "    \n",
    "        u = ComplexExponentialFilter( phase ).filter( numpy.ones( length ) * f[ ii ] )    \n",
    "\n",
    "        complexbandpassfilter.reset( 0.0 )\n",
    "        \n",
    "        v = complexbandpassfilter.filter( u )[ 0 ]\n",
    "        \n",
    "        h[ ii ] = min( numpy.mean( abs( v[ -32 : -1 ] ) ), 1.0 )\n",
    "        \n",
    "    h, k = 20.0 * numpy.log10( numpy.maximum( abs( h ), numpy.finfo( float ).eps ) ), 20.0 * numpy.log10( numpy.maximum( abs( 1.0 - h ), numpy.finfo( float ).eps ) )\n",
    "        \n",
    "    axis[ 1, 0 ].plot( f, -3.0 * numpy.ones( len( h ) ), 'k' )\n",
    "    \n",
    "    h, k = axis[ 1, 0 ].plot( f, h, 'b', f, k, 'r' )\n",
    "        \n",
    "    axis[ 1, 0 ].plot( numpy.linspace( incident[ 0 ], incident[ 1 ], length ), numpy.zeros( length ), 'k.', markersize = 8 )    \n",
    "        \n",
    "    axis[ 1, 0 ].legend( ( h, k ), ( r'$y_{f}$', r'$e_{f}$' ), loc = 'upper right' )\n",
    "    \n",
    "    label( axis[ 1, 0 ], r'$Response$', r'$f$', r'$H_{f}\\ dB$' )\n",
    "    \n",
    "    axis[ 1, 1 ].plot( n, y.real, 'b', n, e.real, 'r', linewidth = 0.25 )\n",
    "    \n",
    "    x, y, e = axis[ 1, 1 ].plot( n, abs( x ), 'k', n, abs( y ), 'b', n, abs( e ), 'r' )\n",
    "    \n",
    "    axis[ 1, 1 ].legend( ( x, y, e ), ( r'$H_{x,f}$', r'$H_{y,f}$', r'$H_{e,f}$' ), loc = 'upper right' )\n",
    "\n",
    "    label( axis[ 1, 1 ], r'$Filter$', r'$n$' )\n",
    "\n",
    "    matplotlib.pyplot.show( )\n",
    "    "
   ]
  },
  {
   "cell_type": "code",
   "execution_count": 29,
   "metadata": {},
   "outputs": [
    {
     "data": {
      "text/latex": [
       "$\\displaystyle \\underline{Complex\\;Frequency\\;Filter.} \\\\\\\\\n",
       "                                   \\\\\\begin{align}\n",
       "                                     & f_{n} = \\frac{\\tan^{-1}(\\ b_{n}\\ ) }{\\pi} \\\\\\\\\n",
       "                                     & x_{n} = \\frac{d_{n}}{|\\ d_{n}\\ |} \\\\\\\\\n",
       "                                     & y_{n} = b_{n} x_{n-1} \\\\\\\\\n",
       "                                     & e_{n} = d_{n} - y_{n} \\\\\\\\\n",
       "                                     & b_{0} = e^{\\ j\\ \\pi\\ f_{0}} \\\\\\\\\n",
       "                                     & b_{n} = b_{n} + \\mu e_{n} x_{n}^{*} \\\\\\\\\n",
       "                                     \\end{align}$"
      ],
      "text/plain": [
       "<IPython.core.display.Math object>"
      ]
     },
     "metadata": {},
     "output_type": "display_data"
    }
   ],
   "source": [
    "display( IPython.display.Math( r\"\"\"\\underline{Complex\\;Frequency\\;Filter.} \\\\\\\\\n",
    "                                   \\\\\\begin{align}\n",
    "                                     & f_{n} = \\frac{\\tan^{-1}(\\ b_{n}\\ ) }{\\pi} \\\\\\\\\n",
    "                                     & x_{n} = \\frac{d_{n}}{|\\ d_{n}\\ |} \\\\\\\\\n",
    "                                     & y_{n} = b_{n} x_{n-1} \\\\\\\\\n",
    "                                     & e_{n} = d_{n} - y_{n} \\\\\\\\\n",
    "                                     & b_{0} = e^{\\ j\\ \\pi\\ f_{0}} \\\\\\\\\n",
    "                                     & b_{n} = b_{n} + \\mu e_{n} x_{n}^{*} \\\\\\\\\n",
    "                                     \\end{align}\"\"\" ) )\n"
   ]
  },
  {
   "cell_type": "code",
   "execution_count": 30,
   "metadata": {},
   "outputs": [
    {
     "data": {
      "application/vnd.jupyter.widget-view+json": {
       "model_id": "4b0dec535bfd4a6395a3d4f2c851f9f6",
       "version_major": 2,
       "version_minor": 0
      },
      "text/plain": [
       "interactive(children=(FloatRangeSlider(value=(-0.25, 0.75), description='Incident', layout=Layout(width='405px…"
      ]
     },
     "metadata": {},
     "output_type": "display_data"
    }
   ],
   "source": [
    "@ipywidgets.interact( )\n",
    "\n",
    "def interface( incident = ipywidgets.FloatRangeSlider( description = 'Incident', value = [ -0.25, 0.75 ], min = -1.0, max = 0.99, step = 0.01, layout = { 'width' : '405px' } ),\n",
    "               noise = ipywidgets.FloatSlider( description = 'Noise', value = 0.0, min = 0.0, max = 0.5, step = 0.01, layout = { 'width' : '405px' } ),               \n",
    "               frequency = ipywidgets.FloatSlider( description = 'Frequency', value = 0.0, min = -1.0, max = 0.999, step = 0.001, readout_format = '0.3f', layout = { 'width' : '405px' } ),\n",
    "               rate = ipywidgets.FloatSlider( description = 'Rate', value = 0.25, min = 0.001, max = 1.0, step = 0.001, readout_format = '0.3f', layout = { 'width' : '405px' } ) ) :\n",
    "\n",
    "    \"\"\" Complex Frequency Filter.\n",
    "    \n",
    "        Arguments :\n",
    "        \n",
    "            incident - Normalized frequency of incident signal [ epoch, terminus ] relative to Nyquist in [ -1.0, 1.0 ) ( float ).\n",
    "\n",
    "            noise - Noise deviation of incident signal ( float ).\n",
    "\n",
    "            frequency - Normalized frequency relative to Nyquist in [ -1.0, 1.0 ) ( float ).\n",
    "\n",
    "            rate - Rate of adaptation ( float ).\n",
    "    \"\"\"\n",
    "    \n",
    "    complexfrequencyfilter = ComplexFrequencyFilter( frequency, rate )\n",
    "        \n",
    "    phase, length = numpy.random.rand( 1 )[ 0 ] - 0.5, 1024\n",
    "    \n",
    "    f = numpy.linspace( incident[ 0 ], incident[ 1 ], length )\n",
    "    \n",
    "    x = ComplexExponentialFilter( phase ).filter( f )\n",
    "\n",
    "    q = numpy.random.rand( len( x ) ) - 0.5 + 1j * ( numpy.random.rand( len( x ) ) - 0.5 )\n",
    "        \n",
    "    x += q * noise / q.std( )\n",
    "    \n",
    "    y, e, b = complexfrequencyfilter.filter( x )\n",
    "    \n",
    "    n = numpy.linspace( 0.0, length - 1, length )\n",
    "   \n",
    "    axis = matplotlib.pyplot.subplots( 1, 2, sharex = False, sharey = False, figsize = ( 18, 9 ) )[ 1 ]\n",
    "    \n",
    "    v = numpy.exp( 1j * math.pi * numpy.linspace( 0, 2.0 * math.pi, length ) )\n",
    "    \n",
    "    axis[ 0 ].plot( v.real, v.imag, 'k', linewidth = 0.25 )\n",
    "    \n",
    "    axis[ 0 ].plot( b.real, b.imag, 'b.', markersize = 1 )\n",
    "      \n",
    "    u, v = axis[ 0 ].plot( b[ 0 ].real, b[ 0 ].imag, 'ro', b[ -1 ].real, b[ -1 ].imag, 'ko', markerfacecolor = 'white', markersize = 8 )\n",
    "                    \n",
    "    axis[ 0 ].legend( ( u, v ), ( r'$b_0$', r'$b_{N-1}$' ), loc = 'upper right' )\n",
    "    \n",
    "    label( axis[ 0 ], r'$Coefficients$', r'$real$', r'$imag$' )\n",
    "    \n",
    "    axis[ 1 ].plot( n, numpy.maximum( numpy.minimum( e.real, 1.0 ), -1.0 ), 'r', linewidth = 0.25 )\n",
    "    \n",
    "    x, y, e = axis[ 1 ].plot( n, f, 'k', n, y, 'b', n, abs( e ), 'r' )\n",
    "        \n",
    "    axis[ 1 ].legend( ( x, y, e ), ( r'$f_{x,n}$', r'$y_n$', r'$e_n$' ), loc = 'upper right' )\n",
    "\n",
    "    label( axis[ 1 ], r'$Filter$', r'$n$', r'$f_n$' )\n",
    "\n",
    "    matplotlib.pyplot.show( )\n",
    "    "
   ]
  },
  {
   "cell_type": "code",
   "execution_count": 31,
   "metadata": {},
   "outputs": [
    {
     "data": {
      "text/latex": [
       "$\\displaystyle \\underline{Fourier\\;Transform,\\;Power\\;Spectrum\\;Transform,\\;Window\\;Filter.} \\\\\\\\\n",
       "                                   \\\\\\begin{align}\n",
       "                                     & y_{k} = \\frac{1}{N}\\ \\sum_{n = 0}^{N-1} b_{n} x_{n} e^{\\frac{\\ -j\\ \\pi\\ k \\ n}{N}} && v_{i,k} = \\frac{1}{N}\\ \\sum_{n = 0}^{N-1} b_{n} x_{n+i\\ I} e^{ \\frac{\\ -j\\ \\pi\\ k \\ n}{N} } && y^{P}_{k} = \\frac{1}{C}\\ \\sum_{i = 0}^{C-1} v_{i,k} v^{*}_{i,k} \\\\\\\\\n",
       "                                     & x_{n} = \\frac{N}{b_{n}}\\ \\sum_{k = 0}^{N-1} y_{k} e^{\\frac{\\ j\\ \\pi\\ k \\ n}{N}}  && n, k \\in [\\ 0,\\ N\\ )\\\\\\\\\n",
       "                                     & f_{k} = -1\\ + \\ 2\\ \\frac{k}{N}\\\\\\\\\n",
       "                                     & N = \\frac{2}{R}\n",
       "                                     \\end{align}$"
      ],
      "text/plain": [
       "<IPython.core.display.Math object>"
      ]
     },
     "metadata": {},
     "output_type": "display_data"
    }
   ],
   "source": [
    "display( IPython.display.Math( r\"\"\"\\underline{Fourier\\;Transform,\\;Power\\;Spectrum\\;Transform,\\;Window\\;Filter.} \\\\\\\\\n",
    "                                   \\\\\\begin{align}\n",
    "                                     & y_{k} = \\frac{1}{N}\\ \\sum_{n = 0}^{N-1} b_{n} x_{n} e^{\\frac{\\ -j\\ \\pi\\ k \\ n}{N}} && v_{i,k} = \\frac{1}{N}\\ \\sum_{n = 0}^{N-1} b_{n} x_{n+i\\ I} e^{ \\frac{\\ -j\\ \\pi\\ k \\ n}{N} } && y^{P}_{k} = \\frac{1}{C}\\ \\sum_{i = 0}^{C-1} v_{i,k} v^{*}_{i,k} \\\\\\\\\n",
    "                                     & x_{n} = \\frac{N}{b_{n}}\\ \\sum_{k = 0}^{N-1} y_{k} e^{\\frac{\\ j\\ \\pi\\ k \\ n}{N}}  && n, k \\in [\\ 0,\\ N\\ )\\\\\\\\\n",
    "                                     & f_{k} = -1\\ + \\ 2\\ \\frac{k}{N}\\\\\\\\\n",
    "                                     & N = \\frac{2}{R}\n",
    "                                     \\end{align}\"\"\" ) )\n"
   ]
  },
  {
   "cell_type": "code",
   "execution_count": 33,
   "metadata": {},
   "outputs": [
    {
     "data": {
      "application/vnd.jupyter.widget-view+json": {
       "model_id": "0e98594448764952a2295936470eb33c",
       "version_major": 2,
       "version_minor": 0
      },
      "text/plain": [
       "interactive(children=(FloatRangeSlider(value=(0.1, 0.1), description='Incident', layout=Layout(width='405px'),…"
      ]
     },
     "metadata": {},
     "output_type": "display_data"
    }
   ],
   "source": [
    "@ipywidgets.interact( )\n",
    "\n",
    "def interface( incident = ipywidgets.FloatRangeSlider( description = 'Incident', value = [ 0.1, 0.1 ], min = -1.0, max = 0.99, step = 0.01, layout = { 'width' : '405px' } ),\n",
    "               noise = ipywidgets.FloatSlider( description = 'Noise', value = 0.01, min = 0.0, max = 0.5, step = 0.01, layout = { 'width' : '405px' } ),\n",
    "               classification = ipywidgets.Dropdown( description = 'Classification', value = 'Hann', options = [ 'Blackman', 'Hamming', 'Hann', 'Kaiser' ], layout = { 'width' : '325px' } ),\n",
    "               order = ipywidgets.IntSlider( description = 'Order', value = 1023, min = 1, max = 4096, step = 1, layout = { 'width' : '405px' } ),\n",
    "               normal = ipywidgets.IntSlider( description = 'Normal', value = True, min = False, max = True, layout = { 'width' : '405px' } ),              \n",
    "               index = ipywidgets.IntSlider( description = 'Index', value = 64, min = 1, max = 4096, step = 1, layout = { 'width' : '405px' } ) ) :\n",
    "\n",
    "    \"\"\" Fourier Transform, Power Spectrum Transform, Window Filter.\n",
    "    \n",
    "        Arguments :\n",
    "        \n",
    "            incident - Normalized frequency of incident signal [ epoch, terminus ] relative to Nyquist in [ -1.0, 1.0 ) ( float ).\n",
    "\n",
    "            noise - Noise deviation of incident signal ( float ).\n",
    "\n",
    "            classification - Classification in ( 'Blackman', 'Hamming', 'Hann', 'Kaiser' ) ( str ).\n",
    "\n",
    "            normal - Normal condition ( bool ).\n",
    "\n",
    "            index - Index ( int ).\n",
    "    \"\"\"\n",
    "    \n",
    "    index = int( min( index, order + 1 ) )\n",
    "    \n",
    "    windowfilter = WindowFilter.Factory.instance( WindowFilter, classification, order, normal )\n",
    "\n",
    "    indexfilter = WindowFilter.Factory.instance( WindowFilter, classification, order // 2, normal )\n",
    "\n",
    "    widgets = [ ipywidgets.Dropdown( description = r'$\\vec{b_{n}}$', value = str( windowfilter.b[ 0 ] ), options = [ str( x ) for x in windowfilter.b ], layout = { 'width' : '325px' } ) ]\n",
    "    \n",
    "    display( ipywidgets.VBox( children = widgets, layout = ipywidgets.Layout( display = 'flex', flex_flow = 'row' ) ) )\n",
    "\n",
    "    phase, length = numpy.random.rand( 1 )[ 0 ] - 0.5, order + 1\n",
    "        \n",
    "    x = ComplexExponentialFilter( phase ).filter( numpy.linspace( incident[ 0 ], incident[ 1 ], length ) )\n",
    " \n",
    "    q = numpy.random.rand( len( x ) ) - 0.5 + 1j * ( numpy.random.rand( len( x ) ) - 0.5 )\n",
    "    \n",
    "    x += q * noise / q.std( )\n",
    "    \n",
    "    n = numpy.linspace( 0.0, length - 1, length )\n",
    "\n",
    "    h, f = FourierTransform.transform( x, windowfilter.b, False )\n",
    "    \n",
    "    k, g = PowerSpectrumTransform.transform( x, indexfilter.b, index )\n",
    "\n",
    "    h, k = 20.0 * numpy.log10( numpy.maximum( abs( h ), numpy.finfo( float ).eps ) ), 20.0 * numpy.log10( numpy.maximum( abs( k ), numpy.finfo( float ).eps ) )\n",
    "    \n",
    "    axis = matplotlib.pyplot.subplots( 1, 2, sharex = False, sharey = False, figsize = ( 18, 9 ) )[ 1 ]\n",
    "    \n",
    "    axis[ 0 ].plot( n, numpy.zeros( order + 1 ), 'k' )\n",
    "    \n",
    "    b = axis[ 0 ].plot( n, windowfilter.b, 'b' )[ 0 ]    \n",
    "    \n",
    "    x, x = axis[ 0 ].plot( n, ( windowfilter.b * x ).real, 'b', n, ( windowfilter.b * x ).imag, 'b', linewidth = 0.25 )\n",
    "    \n",
    "    axis[ 0 ].legend( ( b, x ), ( r'$\\vec{b_{n}}$', r'$x_{n}$' ), loc = 'upper right' )\n",
    "    \n",
    "    label( axis[ 0 ], r'$Filter$', r'$n$' )\n",
    "    \n",
    "    axis[ 1 ].plot( f, -3.0 * numpy.ones( len( h ) ), 'k' )\n",
    "    \n",
    "    h, k = axis[ 1 ].plot( f, h, 'b', g, k, 'r' )\n",
    "    \n",
    "    axis[ 1 ].plot( numpy.linspace( incident[ 0 ], incident[ 1 ], length ), numpy.zeros( length ), 'k.', markersize = 8 )    \n",
    "        \n",
    "    axis[ 1 ].legend( ( h, k ), ( r'$H^{F}_{x,f}$', r'$H^{P}_{x,f}$' ), loc = 'upper right' )\n",
    "    \n",
    "    label( axis[ 1 ], r'$Transform$', r'$f$', r'$H_{f}\\ dB$' )\n",
    "    \n",
    "    matplotlib.pyplot.show( )\n",
    "    "
   ]
  },
  {
   "cell_type": "code",
   "execution_count": 34,
   "metadata": {},
   "outputs": [
    {
     "data": {
      "text/latex": [
       "$\\displaystyle \\underline{Goertzel\\;Filter,\\;Window\\;Filter.} \\\\\\\\\n",
       "                                   \\\\\\begin{align}\n",
       "                                     & y_{n} = \\sum_{i = 1}^{N} a_{i} y_{n-i} + \\sum_{i = 0}^{N} b_{i} x_{n-i} = \\sum_{i = 1}^{N} (\\ a_{i} b_{0} + b_{i}\\ ) s_{i,n} + b_{0} x_{n}\\qquad a_{0} = 0 \\\\\\\\\n",
       "                                     & s_{1,n+1} = \\sum_{i = 1}^{N} a_{i} s_{i,n} + x_{n}\\qquad\\quad s_{i,n+1} = s_{i-1,n} \\\\\\\\\n",
       "                                     & H_{z} = \\frac{\\sum_{i = 0}^{N} b_{i} z^{-i}}{{1 - \\sum_{i = 1}^{N} a_{i} z^{-i}}} \\\\\\\\\n",
       "                                     & N = \\frac{2}{R} \\\\\\\\\n",
       "                                     \\end{align}$"
      ],
      "text/plain": [
       "<IPython.core.display.Math object>"
      ]
     },
     "metadata": {},
     "output_type": "display_data"
    },
    {
     "data": {
      "text/latex": [
       "$\\displaystyle \\\\\\\\\\scriptsize{\\begin{align}\n",
       "                                                   & a = \\lgroup\\matrix{ 0 & 2\\ \\cos(\\ \\pi\\ f\\ ) & -1 }\\rgroup && b = \\lgroup\\matrix{ 1 & -e^{\\ j\\ \\pi\\ f\\ } & 0 }\\rgroup \\\\\\\\\n",
       "                                                   \\end{align}}$"
      ],
      "text/plain": [
       "<IPython.core.display.Math object>"
      ]
     },
     "metadata": {},
     "output_type": "display_data"
    }
   ],
   "source": [
    "display( IPython.display.Math( r\"\"\"\\underline{Goertzel\\;Filter,\\;Window\\;Filter.} \\\\\\\\\n",
    "                                   \\\\\\begin{align}\n",
    "                                     & y_{n} = \\sum_{i = 1}^{N} a_{i} y_{n-i} + \\sum_{i = 0}^{N} b_{i} x_{n-i} = \\sum_{i = 1}^{N} (\\ a_{i} b_{0} + b_{i}\\ ) s_{i,n} + b_{0} x_{n}\\qquad a_{0} = 0 \\\\\\\\\n",
    "                                     & s_{1,n+1} = \\sum_{i = 1}^{N} a_{i} s_{i,n} + x_{n}\\qquad\\quad s_{i,n+1} = s_{i-1,n} \\\\\\\\\n",
    "                                     & H_{z} = \\frac{\\sum_{i = 0}^{N} b_{i} z^{-i}}{{1 - \\sum_{i = 1}^{N} a_{i} z^{-i}}} \\\\\\\\\n",
    "                                     & N = \\frac{2}{R} \\\\\\\\\n",
    "                                     \\end{align}\"\"\" ) )\n",
    "\n",
    "display( IPython.display.Math( r\"\"\"\\\\\\\\\\scriptsize{\\begin{align}\n",
    "                                                   & a = \\lgroup\\matrix{ 0 & 2\\ \\cos(\\ \\pi\\ f\\ ) & -1 }\\rgroup && b = \\lgroup\\matrix{ 1 & -e^{\\ j\\ \\pi\\ f\\ } & 0 }\\rgroup \\\\\\\\\n",
    "                                                   \\end{align}}\"\"\" ) )\n"
   ]
  },
  {
   "cell_type": "code",
   "execution_count": 35,
   "metadata": {},
   "outputs": [
    {
     "data": {
      "application/vnd.jupyter.widget-view+json": {
       "model_id": "6af5c0713b0743ddaaa46efcf3003806",
       "version_major": 2,
       "version_minor": 0
      },
      "text/plain": [
       "interactive(children=(FloatRangeSlider(value=(-0.1, 0.15), description='Incident', layout=Layout(width='405px'…"
      ]
     },
     "metadata": {},
     "output_type": "display_data"
    }
   ],
   "source": [
    "@ipywidgets.interact( )\n",
    "\n",
    "def interface( incident = ipywidgets.FloatRangeSlider( description = 'Incident', value = [ -0.1, 0.15 ], min = -1.0, max = 0.99, step = 0.01, layout = { 'width' : '405px' } ),\n",
    "               noise = ipywidgets.FloatSlider( description = 'Noise', value = 0.0, min = 0.0, max = 0.5, step = 0.01, layout = { 'width' : '405px' } ),\n",
    "               classification = ipywidgets.Dropdown( description = 'Classification', value = 'Hann', options = [ 'Blackman', 'Hamming', 'Hann', 'Kaiser' ], layout = { 'width' : '325px' } ),\n",
    "               order = ipywidgets.IntSlider( description = 'Order', value = 1023, min = 1, max = 4096, step = 1, layout = { 'width' : '405px' } ),\n",
    "               normal = ipywidgets.IntSlider( description = 'Normal', value = True, min = False, max = True, layout = { 'width' : '405px' } ),\n",
    "               frequency = ipywidgets.FloatSlider( description = 'Frequency', value = 0.1, min = -1.0, max = 0.999, step = 0.001, readout_format = '0.3f', layout = { 'width' : '405px' } ) ) :\n",
    "\n",
    "    \"\"\" Goertzel Filter, Window Filter.\n",
    "    \n",
    "        Arguments :\n",
    "        \n",
    "            incident - Normalized frequency of incident signal [ epoch, terminus ] relative to Nyquist in [ -1.0, 1.0 ) ( float ).\n",
    "\n",
    "            noise - Noise deviation of incident signal ( float ).\n",
    "\n",
    "            order - Order ( int ).\n",
    "            \n",
    "            normal - Normal condition ( bool ).\n",
    "            \n",
    "            frequency - Normalized frequency relative to Nyquist in [ -1.0, 1.0 ) ( float ).\n",
    "    \"\"\"\n",
    "    \n",
    "    windowfilter = WindowFilter.Factory.instance( WindowFilter, classification, order, normal )\n",
    "\n",
    "    goertzelfilter = GoertzelFilter( windowfilter.b, frequency )\n",
    "    \n",
    "    widgets = [ ipywidgets.Dropdown( description = r'$\\vec{a_{n}}$', value = str( goertzelfilter.a[ 0 ] ), options = [ str( x ) for x in goertzelfilter.a ], layout = { 'width' : '325px' } ),\n",
    "                ipywidgets.Dropdown( description = r'$\\vec{b_{n}}$', value = str( goertzelfilter.b[ 0 ] ), options = [ str( x ) for x in goertzelfilter.b ], layout = { 'width' : '325px' } ) ]\n",
    "    \n",
    "    display( ipywidgets.VBox( children = widgets, layout = ipywidgets.Layout( display = 'flex', flex_flow = 'row' ) ) )\n",
    "\n",
    "    phase, length = numpy.random.rand( 1 )[ 0 ] - 0.5, ( order + 1 ) * 32\n",
    "    \n",
    "    f = numpy.linspace( incident[ 0 ], incident[ 1 ], length )\n",
    "    \n",
    "    x = ComplexExponentialFilter( phase ).filter( f )\n",
    " \n",
    "    q = numpy.random.rand( len( x ) ) - 0.5 + 1j * ( numpy.random.rand( len( x ) ) - 0.5 )\n",
    "    \n",
    "    x += q * noise / q.std( )\n",
    "    \n",
    "    h = goertzelfilter.filter( x )\n",
    "    \n",
    "    h = 20.0 * numpy.log10( numpy.maximum( abs( h ), numpy.finfo( float ).eps ) )\n",
    "    \n",
    "    n = numpy.linspace( 0.0, len( h ) - 1, len( h ) )\n",
    "    \n",
    "    axis = matplotlib.pyplot.subplots( 1, 2, sharex = False, sharey = False, figsize = ( 18, 9 ) )[ 1 ]\n",
    " \n",
    "    v = numpy.exp( 1j * math.pi * numpy.linspace( 0, 2.0 * math.pi, length ) )\n",
    "    \n",
    "    axis[ 0 ].plot( v.real, v.imag, 'k', linewidth = 0.25 )\n",
    "    \n",
    "    axis[ 0 ].plot( x.real, x.imag, 'b' )\n",
    "      \n",
    "    u, v = axis[ 0 ].plot( x[ 0 ].real, x[ 0 ].imag, 'ro', x[ -1 ].real, x[ -1 ].imag, 'ko', markerfacecolor = 'white', markersize = 8 )\n",
    "                    \n",
    "    axis[ 0 ].legend( ( u, v ), ( r'$x_{0}$', r'$x_{N-1}$' ), loc = 'upper right' )\n",
    "    \n",
    "    label( axis[ 0 ], r'$Incident$', r'$real$', r'$imag$' )\n",
    "\n",
    "    axis[ 1 ].plot( n, h, 'b' )\n",
    "\n",
    "    label( axis[ 1 ], r'$Filter$', r'$n$', r'$H_{f,n}\\ dB$' )\n",
    "    \n",
    "    matplotlib.pyplot.show( )\n",
    "    "
   ]
  },
  {
   "cell_type": "code",
   "execution_count": 36,
   "metadata": {},
   "outputs": [
    {
     "data": {
      "text/latex": [
       "$\\displaystyle \\underline{Diversity\\;Model.} \\\\\\\\\n",
       "                                   \\\\\\begin{align}\n",
       "                                     & d_{u,v} = \\left\\{\\begin{array} & \\qquad\\max(\\ |\\ \\vec{x_{u}} - \\vec{x_{v}}\\ |\\ ) && Chebyshev\\qquad\\cr\\cr\\cr \\qquad\\lgroup\\matrix{\\sum_{i=0}^{N}(\\ \\vec{x_{u,i}} - \\vec{x_{v,i}}\\ )^2}\\rgroup^{0.5} && Euclidean\\qquad\\cr\\cr\\cr\\qquad\\prod_{i=0}^{N}{(\\ |\\ \\vec{x_{u,i}} - \\vec{x_{v,i}}\\ |\\ )}^{\\frac{1}{N}} && Geometric\\qquad\\cr\\cr\\cr\\qquad\\sum_{i=0}^{N}{\\ (\\ |\\ \\vec{x_{u}} - \\vec{x_{v}}\\ |\\ )\\ } && Manhattan\\qquad \\end{array}\\right. \\\\\\\\\n",
       "                                     & d_{k} = \\min(\\ d_{u,v}\\ ) & u, v \\in [\\ 0,\\ M\\ ),\\ u \\neq v \\\\\\\\\n",
       "                                     & d_{k} \\geq d_{n}\\qquad \\longrightarrow\\qquad d_{n} = d_{k}\n",
       "                                     \\end{align}$"
      ],
      "text/plain": [
       "<IPython.core.display.Math object>"
      ]
     },
     "metadata": {},
     "output_type": "display_data"
    }
   ],
   "source": [
    "display( IPython.display.Math( r\"\"\"\\underline{Diversity\\;Model.} \\\\\\\\\n",
    "                                   \\\\\\begin{align}\n",
    "                                     & d_{u,v} = \\left\\{\\begin{array} & \\qquad\\max(\\ |\\ \\vec{x_{u}} - \\vec{x_{v}}\\ |\\ ) && Chebyshev\\qquad\\cr\\cr\\cr \\qquad\\lgroup\\matrix{\\sum_{i=0}^{N}(\\ \\vec{x_{u,i}} - \\vec{x_{v,i}}\\ )^2}\\rgroup^{0.5} && Euclidean\\qquad\\cr\\cr\\cr\\qquad\\prod_{i=0}^{N}{(\\ |\\ \\vec{x_{u,i}} - \\vec{x_{v,i}}\\ |\\ )}^{\\frac{1}{N}} && Geometric\\qquad\\cr\\cr\\cr\\qquad\\sum_{i=0}^{N}{\\ (\\ |\\ \\vec{x_{u}} - \\vec{x_{v}}\\ |\\ )\\ } && Manhattan\\qquad \\end{array}\\right. \\\\\\\\\n",
    "                                     & d_{k} = \\min(\\ d_{u,v}\\ ) & u, v \\in [\\ 0,\\ M\\ ),\\ u \\neq v \\\\\\\\\n",
    "                                     & d_{k} \\geq d_{n}\\qquad \\longrightarrow\\qquad d_{n} = d_{k}\n",
    "                                     \\end{align}\"\"\" ) )\n"
   ]
  },
  {
   "cell_type": "code",
   "execution_count": 37,
   "metadata": {},
   "outputs": [
    {
     "data": {
      "application/vnd.jupyter.widget-view+json": {
       "model_id": "cacf24d7f3b94e4fbe2e7e146b80094b",
       "version_major": 2,
       "version_minor": 0
      },
      "text/plain": [
       "interactive(children=(FloatSlider(value=0.25, description='Noise', layout=Layout(width='405px'), max=0.5, step…"
      ]
     },
     "metadata": {},
     "output_type": "display_data"
    }
   ],
   "source": [
    "@ipywidgets.interact( )\n",
    "\n",
    "def interface( noise = ipywidgets.FloatSlider( description = 'Noise', value = 0.25, min = 0.0, max = 0.5, step = 0.01, layout = { 'width' : '405px' } ),\n",
    "               classification = ipywidgets.Dropdown( description = 'Classification', value = 'Euclidean', options = [ 'Chebyshev', 'Euclidean', 'Geometric', 'Manhattan' ], layout = { 'width' : '325px' } ),\n",
    "               order = ipywidgets.IntSlider( description = 'Order', value = 4, min = 2, max = 64, step = 1, layout = { 'width' : '405px' } ) ) :\n",
    "\n",
    "    \"\"\" Diversity Model.\n",
    "    \n",
    "        Arguments :\n",
    "        \n",
    "            noise - Noise deviation of incident signal ( float ).\n",
    "\n",
    "            classification - Classification in ( 'Chebyshev', 'Euclidean', 'Geometric', 'Manhattan' ) ( str ).\n",
    "\n",
    "            order - Order ( int ).\n",
    "    \"\"\"\n",
    "\n",
    "    diversitymodel = DiversityModel.Factory.instance( DiversityModel, classification, order )\n",
    "    \n",
    "    length = 1024\n",
    "\n",
    "    n = numpy.linspace( 0.0, length - 1, length )\n",
    "\n",
    "    x = numpy.concatenate( ( [ numpy.polyval( numpy.random.rand( 2 ), n ) ], [ numpy.polyval( numpy.random.rand( 3 ), n ) + numpy.random.rand( 1 )[ 0 ] - 0.5 ] ) )\n",
    "    \n",
    "    x = ( x.T / x.std( 1 ) ).T\n",
    "    \n",
    "    q = numpy.random.rand( x.shape[ 0 ], x.shape[ 1 ] ) - 0.5\n",
    "    \n",
    "    x += ( q.T * noise / q.std( 1 ) ).T\n",
    "    \n",
    "    d = diversitymodel.model( x )\n",
    "\n",
    "    p = numpy.polyfit( diversitymodel.s[ 0, : ], diversitymodel.s[ 1, : ], 2 )\n",
    "    \n",
    "    y = numpy.polyval( p, x[ 0, : ] )\n",
    "    \n",
    "    axis = matplotlib.pyplot.subplots( 1, 2, sharex = False, sharey = False, figsize = ( 18, 9 ) )[ 1 ]\n",
    "    \n",
    "    axis[ 0 ].plot( n, d, 'b' )\n",
    "    \n",
    "    label( axis[ 0 ], r'$Diversity$', r'$n$', r'$d_{n}$' )\n",
    "    \n",
    "    ii = numpy.argsort( x[ 0, : ] )\n",
    "        \n",
    "    u = axis[ 1 ].plot( x[ 0, ii ], x[ 1, ii ], 'b.' )[ 0 ]\n",
    "    \n",
    "    v = axis[ 1 ].plot( x[ 0, ii ], y[ ii ], 'r' )[ 0 ]\n",
    "    \n",
    "    w = axis[ 1 ].plot( diversitymodel.s[ 0, : ], diversitymodel.s[ 1, : ], 'ro', markerfacecolor = 'none', markersize = 8 )[ 0 ]\n",
    "    \n",
    "    axis[ 1 ].legend( ( u, v, w ), ( r'$x_{n}$', r'$y_{2,n}$', r'$s_{N-1}$' ), loc = 'upper right' )\n",
    "    \n",
    "    label( axis[ 1 ], r'$Model$', r'$x_{0,n}$', r'$x_{1,n}$' )\n",
    "    \n",
    "    matplotlib.pyplot.show( )\n",
    "    "
   ]
  },
  {
   "cell_type": "code",
   "execution_count": 38,
   "metadata": {},
   "outputs": [
    {
     "data": {
      "text/latex": [
       "$\\displaystyle \\underline{Principal\\;Component\\;Model.} \\\\\\\\\n",
       "                                   \\\\\\begin{align}\n",
       "                                     & \\vec{\\mu_{i}} = \\lgroup\\matrix{\\ \\frac{\\sum_{n=0}^{N}\\vec{x_{i,n}}}{N}}\\rgroup \\\\\\\\\n",
       "                                     & \\vec{\\sigma_{i}} = \\lgroup\\matrix{\\ \\frac{\\sum_{n=0}^{N}(\\ \\vec{x_{i,n}} - \\vec{\\mu_{i}}\\ )^{2}}{N}}\\rgroup^{0.5} \\\\\\\\\n",
       "                                     & \\Lambda_{n} = eig\\lgroup\\matrix{\\ cov\\lgroup\\matrix{\\ \\lgroup\\matrix{\\frac{\\ X_{n}^{T} - \\vec{\\mu}\\ }{\\vec{\\sigma}}\\ }\\rgroup\\ }^{T}\\rgroup\\ }\\rgroup^{T} \\\\\\\\\n",
       "                                     & Y_{n} = \\Lambda_{n} \\ \\lgroup\\matrix{\\frac{\\ X_{n}^{T} - \\vec{\\mu}\\ }{\\vec{\\sigma}}\\ }\\rgroup^{T} \\\\\\\\\n",
       "                                     \\end{align}$"
      ],
      "text/plain": [
       "<IPython.core.display.Math object>"
      ]
     },
     "metadata": {},
     "output_type": "display_data"
    }
   ],
   "source": [
    "display( IPython.display.Math( r\"\"\"\\underline{Principal\\;Component\\;Model.} \\\\\\\\\n",
    "                                   \\\\\\begin{align}\n",
    "                                     & \\vec{\\mu_{i}} = \\lgroup\\matrix{\\ \\frac{\\sum_{n=0}^{N}\\vec{x_{i,n}}}{N}}\\rgroup \\\\\\\\\n",
    "                                     & \\vec{\\sigma_{i}} = \\lgroup\\matrix{\\ \\frac{\\sum_{n=0}^{N}(\\ \\vec{x_{i,n}} - \\vec{\\mu_{i}}\\ )^{2}}{N}}\\rgroup^{0.5} \\\\\\\\\n",
    "                                     & \\Lambda_{n} = eig\\lgroup\\matrix{\\ cov\\lgroup\\matrix{\\ \\lgroup\\matrix{\\frac{\\ X_{n}^{T} - \\vec{\\mu}\\ }{\\vec{\\sigma}}\\ }\\rgroup\\ }^{T}\\rgroup\\ }\\rgroup^{T} \\\\\\\\\n",
    "                                     & Y_{n} = \\Lambda_{n} \\ \\lgroup\\matrix{\\frac{\\ X_{n}^{T} - \\vec{\\mu}\\ }{\\vec{\\sigma}}\\ }\\rgroup^{T} \\\\\\\\\n",
    "                                     \\end{align}\"\"\" ) )\n"
   ]
  },
  {
   "cell_type": "code",
   "execution_count": 39,
   "metadata": {},
   "outputs": [
    {
     "data": {
      "application/vnd.jupyter.widget-view+json": {
       "model_id": "d9d41f9d85404fe3a077f86fcaaa6296",
       "version_major": 2,
       "version_minor": 0
      },
      "text/plain": [
       "interactive(children=(FloatSlider(value=0.05, description='Noise', layout=Layout(width='405px'), max=0.5, step…"
      ]
     },
     "metadata": {},
     "output_type": "display_data"
    }
   ],
   "source": [
    "@ipywidgets.interact( )\n",
    "\n",
    "def interface( noise = ipywidgets.FloatSlider( description = 'Noise', value = 0.05, min = 0.0, max = 0.5, step = 0.01, layout = { 'width' : '405px' } ) ) :\n",
    "\n",
    "    \"\"\" Principal Component Model.\n",
    "    \n",
    "        Arguments :\n",
    "        \n",
    "            noise - Noise deviation of incident signal ( float ).\n",
    "    \"\"\"\n",
    "    \n",
    "    length, valid = 1024, False\n",
    "    \n",
    "    while ( not valid ) :\n",
    "        \n",
    "        principalcomponentmodel = PrincipalComponentModel( )\n",
    "    \n",
    "        x = numpy.random.rand( 3, length ) - 0.5\n",
    "         \n",
    "        for ii in range( 0, 2 ) :\n",
    "\n",
    "            jj = [ int( x ) for x in numpy.sort( numpy.random.rand( 2 ) ) * length ]\n",
    "        \n",
    "            jj = range( jj[ 0 ], jj[ 1 ] )\n",
    "        \n",
    "            x[ 0, jj ] += ( numpy.random.rand( ) - 0.5 ) * numpy.linspace( 0, len( jj ) - 1, len( jj ) ) * 10.0\n",
    "        \n",
    "            x[ 2, jj ] += ( numpy.random.rand( ) - 0.5 ) * x[ 0, jj ] + ( numpy.random.rand( ) - 0.5 ) * 10.0\n",
    "\n",
    "        x = ( x.T / x.std( 1 ) ).T\n",
    "        \n",
    "        q = numpy.random.rand( x.shape[ 0 ], x.shape[ 1 ] ) - 0.5\n",
    "\n",
    "        x += ( q.T * noise / q.std( 1 ) ).T\n",
    "\n",
    "        x = ( x.T * ( numpy.random.rand( 3 ) + 1.0 ) + numpy.random.rand( 3 ) ).T\n",
    "    \n",
    "        y = principalcomponentmodel.model( x )\n",
    "        \n",
    "        valid = ( ( numpy.argsort( principalcomponentmodel.e ) == numpy.array( [ 1, 2, 0 ] ) ) ).all( )\n",
    "                \n",
    "    widgets = [ ipywidgets.Dropdown( description = r'$\\vec{\\mu_{n}}$', value = str( principalcomponentmodel.u[ 0 ] ), options = [ str( x ) for x in principalcomponentmodel.u ], layout = { 'width' : '325px' } ),\n",
    "                ipywidgets.Dropdown( description = r'$\\vec{\\lambda_{n}}$', value = str( principalcomponentmodel.e[ 0 ] ), options = [ str( x ) for x in principalcomponentmodel.e ], layout = { 'width' : '325px' } ) ]\n",
    "\n",
    "    display( ipywidgets.VBox( children = widgets, layout = ipywidgets.Layout( display = 'flex', flex_flow = 'row' ) ) )\n",
    "    \n",
    "    widgets = [ ipywidgets.Dropdown( description = r'$\\vec{\\sigma_{n}}$', value = str( principalcomponentmodel.s[ 0 ] ), options = [ str( x ) for x in principalcomponentmodel.s ], layout = { 'width' : '325px' } ), \n",
    "                ipywidgets.Dropdown( description = r'$\\Lambda_{n}$', value = '  '.join( [ '{:1.5f}'.format( x ) for x in principalcomponentmodel.v[ 0, : ] ] ), options = [ '  '.join( [ '{:1.5f}'.format( x ) for x in principalcomponentmodel.v[ ii, : ] ] ) for ii in range( 0, 3 ) ], layout = { 'width' : '325px' } ) ]\n",
    "\n",
    "    display( ipywidgets.VBox( children = widgets, layout = ipywidgets.Layout( display = 'flex', flex_flow = 'row' ) ) )\n",
    "\n",
    "    axis = matplotlib.pyplot.subplots( 1, 2, sharex = False, sharey = False, figsize = ( 18, 9 ) )[ 1 ]\n",
    "    \n",
    "    axis[ 0 ].plot( [ min( x[ 0, : ] ), max( x[ 0, : ] ) ], [ principalcomponentmodel.u[ 2 ], principalcomponentmodel.u[ 2 ] ], 'k' )\n",
    "\n",
    "    axis[ 0 ].plot( [ principalcomponentmodel.u[ 0 ], principalcomponentmodel.u[ 0 ] ], [ min( x[ 2, : ] ), max( x[ 2, : ] ) ], 'k' )\n",
    "\n",
    "    axis[ 0 ].plot( x[ 0, : ], x[ 2, : ], 'b.' )\n",
    "\n",
    "    axis[ 0 ].plot( [ principalcomponentmodel.u[ 0 ], principalcomponentmodel.u[ 0 ] + principalcomponentmodel.v[ 0, 0 ] ], [ principalcomponentmodel.u[ 2 ], principalcomponentmodel.u[ 2 ] + principalcomponentmodel.v[ 0, 2 ] ], 'r', linewidth = 4.0 )\n",
    "    \n",
    "    axis[ 0 ].plot( principalcomponentmodel.u[ 0 ], principalcomponentmodel.u[ 2 ], 'ro', markerfacecolor = 'white', markersize = 8 )\n",
    "    \n",
    "    axis[ 0 ].plot( principalcomponentmodel.u[ 0 ] + principalcomponentmodel.v[ 0, 0 ], principalcomponentmodel.u[ 2 ] + principalcomponentmodel.v[ 0, 2 ], 'rs', markerfacecolor = 'white', markersize = 8 )\n",
    "    \n",
    "    label( axis[ 0 ], r'$Incident$', r'$x_{0,n}$', r'$x_{2,n}$' )\n",
    "\n",
    "    axis[ 1 ].plot( [ 0.0, 0.0 ], [ min( y[ 1, : ] ) * 2.0, max( y[ 1, : ] ) * 2.0 ], '.', alpha = 0.0 )\n",
    "    \n",
    "    axis[ 1 ].plot( [ min( y[ 0, : ] ), max( y[ 0, : ] ) ], [ 0.0, 0.0 ], 'k' )\n",
    "\n",
    "    axis[ 1 ].plot( [ 0.0, 0.0 ], [ min( y[ 1, : ] ) * 2.0, max( y[ 1, : ] ) * 2.0 ], 'k' )\n",
    "    \n",
    "    axis[ 1 ].plot( y[ 0, : ], y[ 1, : ], 'r.' )\n",
    "    \n",
    "    label( axis[ 1 ], r'$Model$', r'$y_{0,i}$', r'$y_{1,n}$' )\n",
    "    \n",
    "    matplotlib.pyplot.show( )\n",
    "    "
   ]
  },
  {
   "cell_type": "code",
   "execution_count": 40,
   "metadata": {},
   "outputs": [
    {
     "data": {
      "text/latex": [
       "$\\displaystyle \\underline{Wavelet\\;Transform.} \\\\\\\\\n",
       "                                   \\\\\\begin{align}\n",
       "                                     & y_{i,0:\\frac{C}{2}-1} = \\downarrow(\\ filter_{b_{A,L}}(\\ x_{i,0:C-1}\\ ),\\ 2\\ ) & y_{i,\\frac{C}{2}:C-1} = \\downarrow(\\ filter_{b_{A,H}}(\\ x_{i,0:C-1}\\ ),\\ 2\\ ) && i \\in [\\ 0,\\ R\\ ) \\\\\\\\\n",
       "                                     & y_{0:\\frac{R}{2}-1,j} = \\downarrow(\\ filter_{b_{A,L}}(\\ x_{0:R-1,j}\\ ),\\ 2\\ ) & y_{\\frac{R}{2}:R-1,j} = \\downarrow(\\ filter_{b_{A,H}}(\\ x_{0:R-1,j}\\ ),\\ 2\\ ) && j \\in [\\ 0,\\ C\\ ) \\\\\\\\\n",
       "                                     & x_{0:R-1,j} = filter_{b_{S,L}}(\\ 2\\ \\uparrow(\\ y_{0:\\frac{R}{2}-1,j},\\ 2\\ )\\ ) + filter_{b_{S,H}}(\\ 2\\ \\uparrow(\\ y_{\\frac{R}{2}:R-1,j},\\ 2\\ )\\ ) &&& j \\in [\\ 0,\\ C\\ ) \\\\\\\\\n",
       "                                     & x_{i,0:C-1} = filter_{b_{S,L}}(\\ 2\\ \\uparrow(\\ y_{i,0:\\frac{C}{2}-1},\\ 2\\ )\\ ) + filter_{b_{S,H}}(\\ 2\\ \\uparrow(\\ y_{i,\\frac{C}{2}:C-1},\\ 2\\ )\\ ) &&& i \\in [\\ 0,\\ R\\ )\n",
       "                                     \\end{align}$"
      ],
      "text/plain": [
       "<IPython.core.display.Math object>"
      ]
     },
     "metadata": {},
     "output_type": "display_data"
    }
   ],
   "source": [
    "display( IPython.display.Math( r\"\"\"\\underline{Wavelet\\;Transform.} \\\\\\\\\n",
    "                                   \\\\\\begin{align}\n",
    "                                     & y_{i,0:\\frac{C}{2}-1} = \\downarrow(\\ filter_{b_{A,L}}(\\ x_{i,0:C-1}\\ ),\\ 2\\ ) & y_{i,\\frac{C}{2}:C-1} = \\downarrow(\\ filter_{b_{A,H}}(\\ x_{i,0:C-1}\\ ),\\ 2\\ ) && i \\in [\\ 0,\\ R\\ ) \\\\\\\\\n",
    "                                     & y_{0:\\frac{R}{2}-1,j} = \\downarrow(\\ filter_{b_{A,L}}(\\ x_{0:R-1,j}\\ ),\\ 2\\ ) & y_{\\frac{R}{2}:R-1,j} = \\downarrow(\\ filter_{b_{A,H}}(\\ x_{0:R-1,j}\\ ),\\ 2\\ ) && j \\in [\\ 0,\\ C\\ ) \\\\\\\\\n",
    "                                     & x_{0:R-1,j} = filter_{b_{S,L}}(\\ 2\\ \\uparrow(\\ y_{0:\\frac{R}{2}-1,j},\\ 2\\ )\\ ) + filter_{b_{S,H}}(\\ 2\\ \\uparrow(\\ y_{\\frac{R}{2}:R-1,j},\\ 2\\ )\\ ) &&& j \\in [\\ 0,\\ C\\ ) \\\\\\\\\n",
    "                                     & x_{i,0:C-1} = filter_{b_{S,L}}(\\ 2\\ \\uparrow(\\ y_{i,0:\\frac{C}{2}-1},\\ 2\\ )\\ ) + filter_{b_{S,H}}(\\ 2\\ \\uparrow(\\ y_{i,\\frac{C}{2}:C-1},\\ 2\\ )\\ ) &&& i \\in [\\ 0,\\ R\\ )\n",
    "                                     \\end{align}\"\"\" ) )\n"
   ]
  },
  {
   "cell_type": "code",
   "execution_count": 42,
   "metadata": {
    "scrolled": false
   },
   "outputs": [
    {
     "data": {
      "application/vnd.jupyter.widget-view+json": {
       "model_id": "4d79e1520e3b48ec9f842b78432ccb05",
       "version_major": 2,
       "version_minor": 0
      },
      "text/plain": [
       "interactive(children=(Dropdown(description='Incident', index=1, layout=Layout(width='325px'), options=('Burnin…"
      ]
     },
     "metadata": {},
     "output_type": "display_data"
    }
   ],
   "source": [
    "@ipywidgets.interact( )\n",
    "\n",
    "def interface( incident = ipywidgets.Dropdown( description = 'Incident', value = 'Drac Isere', options = [ 'Burning Eye', 'Drac Isere', 'Kali', 'Lionfish', 'Porsche', 'Riley' ], layout = { 'width' : '325px' } ),\n",
    "               classification = ipywidgets.Dropdown( description = 'Classification', value = 'Haar', options = [ 'Coiflet', 'Daubechies', 'Haar', 'Symmlet' ], layout = { 'width' : '325px' } ),\n",
    "               order = ipywidgets.IntSlider( description = 'Order', value = 1, min = 1, max = 29, step = 1, layout = { 'width' : '405px' } ),\n",
    "               count = ipywidgets.IntSlider( description = 'Count', value = 2, min = 1, max = 4, step = 1, layout = { 'width' : '405px' } ),\n",
    "               inverse = ipywidgets.IntSlider( description = 'Inverse', value = False, min = False, max = True, layout = { 'width' : '405px' } ) ) :\n",
    "\n",
    "    \"\"\" Wavelet Transform.\n",
    "    \n",
    "        Arguments :\n",
    "        \n",
    "            incident - Incident image in ( 'Burning Eye', Drac Isere', 'Kali', 'Lionfish', Porsche', 'Riley' ) ( str ).\n",
    "\n",
    "            classification - Classification in ( 'Coiflet', 'Daubechies', 'Haar', 'Symmlet' ) ( str ).\n",
    " \n",
    "            order - Order ( int ).\n",
    "\n",
    "            count - Count ( int ).\n",
    "\n",
    "            inverse - Inverse condition ( bool ).\n",
    "    \"\"\"\n",
    "    \n",
    "    _order = { 'Coiflet' : numpy.array( [ 5, 11, 17, 23, 29 ] ),\n",
    "               'Daubechies' : numpy.array( [ 3, 5, 7, 9, 11, 13, 15, 17, 19 ] ),\n",
    "               'Haar' : numpy.array( [ 1 ] ),\n",
    "               'Symmlet' : numpy.array( [ 7, 9, 11, 13, 15, 17, 19 ] ) }\n",
    "    \n",
    "    if ( order not in _order[ classification ] ) :\n",
    "    \n",
    "        Log.write( 'Error', '{:30s}{:30s}'.format( 'Classification = ' + str( classification ), 'Order = ' + str( _order[ classification ] ).replace( '[', '[ ' ).replace( ']', ' ]' ) ) )\n",
    "        \n",
    "        return\n",
    "        \n",
    "    wavelettransform = WaveletTransform.Factory.instance( WaveletTransform, classification, order )\n",
    "\n",
    "    b = wavelettransform.b[ inverse ]\n",
    "\n",
    "    widgets = [ ipywidgets.Dropdown( description = r'$\\vec{b_{L,n}}$', value = str( b[ 0 ][ 0 ] ), options = [ str( x ) for x in b[ 0 ] ], layout = { 'width' : '325px' } ),\n",
    "                ipywidgets.Dropdown( description = r'$\\vec{b_{H,n}}$', value = str( b[ 1 ][ 0 ] ), options = [ str( x ) for x in b[ 1 ] ], layout = { 'width' : '325px' } ) ]\n",
    "    \n",
    "    display( ipywidgets.VBox( children = widgets, layout = ipywidgets.Layout( display = 'flex', flex_flow = 'row' ) ) )\n",
    "        \n",
    "    incident = Image.open( incident + '.png' ).convert( 'F' )\n",
    "    \n",
    "    cols, rows = incident.size\n",
    "    \n",
    "    if ( ( rows % ( 2 ** count ) ) or ( cols % ( 2 ** count ) ) ) :\n",
    "\n",
    "        Log.write( 'Error', '{:30s}{:30s}{:30s}'.format( 'Rows = ' + str( rows ), 'Cols = ' + str( cols ), 'Count = ' + str( count ) ) )\n",
    "        \n",
    "        return\n",
    "        \n",
    "    x = list( incident.getdata( ) )\n",
    "\n",
    "    x = numpy.array( [ x[ ii : ii + cols ] for ii in range( 0, rows * cols, cols ) ], 'float' )\n",
    "        \n",
    "    y = wavelettransform.transform( x, count, False )    \n",
    "\n",
    "    if ( inverse ) :\n",
    "        \n",
    "        x, y = y, wavelettransform.transform( y, count, True )\n",
    "        \n",
    "        u, v = y, x\n",
    "        \n",
    "    else :\n",
    "        \n",
    "        u, v = x, y\n",
    "\n",
    "    u[ :, : ] = ( u - u.min( ) ) * 255.0 / ( u.max( ) - u.min( ) )\n",
    "\n",
    "    cols, rows = x.shape[ 1 ] // ( 2 ** count ), x.shape[ 0 ] // ( 2 ** count )\n",
    "\n",
    "    q, v[ :, : ] = v[ : rows, : cols ], ( v - v[ rows :, cols : ].min( ) ) * 255.0 / ( v[ rows :, cols : ].max( ) - v[ rows :, cols : ].min( ) )\n",
    "    \n",
    "    v[ : rows, : cols ] = ( q - q.min( ) ) * 255.0 / ( q.max( ) - q.min( ) )\n",
    "    \n",
    "    x, y = Image.fromarray( x ), Image.fromarray( y )\n",
    "    \n",
    "    n = numpy.linspace( 0, order, order + 1 )\n",
    "    \n",
    "    color = matplotlib.pyplot.get_cmap( 'gray' )\n",
    "    \n",
    "    axis = matplotlib.pyplot.subplots( 2, 2, sharex = False, sharey = False, figsize = ( 18, 18 ) )[ 1 ]\n",
    "    \n",
    "    axis[ 0, 0 ].plot( n, numpy.zeros( order + 1 ), 'k' )\n",
    "    \n",
    "    axis[ 0, 0 ].bar( n, b[ 0 ], 0.005 * ( order + 1 ), color = 'b' )\n",
    "\n",
    "    h = axis[ 0, 0 ].plot( n, b[ 0 ], 'bo', markerfacecolor = 'white', markersize = 8 )[ 0 ]\n",
    "\n",
    "    axis[ 0, 0 ].bar( n, b[ 1 ], 0.005 * ( order + 1 ), color = 'r' )\n",
    "\n",
    "    g = axis[ 0, 0 ].plot( n, b[ 1 ], 'ro', markerfacecolor = 'white', markersize = 8 )[ 0 ]\n",
    "    \n",
    "    axis[ 0, 0 ].legend( ( h, g ), ( r'$\\vec{b_{L,n}}$', r'$\\vec{b_{H,n}}$' ), loc = 'upper right' )    \n",
    "    \n",
    "    label( axis[ 0, 0 ], r'$Coefficient$', r'$n$' )\n",
    "        \n",
    "    h, f = FirFilter( b[ 0 ] ).response( )\n",
    "    \n",
    "    g, f = FirFilter( b[ 1 ] ).response( )    \n",
    "\n",
    "    h = 20.0 * numpy.log10( numpy.maximum( abs( h ), numpy.finfo( float ).eps ) )\n",
    "    \n",
    "    g = 20.0 * numpy.log10( numpy.maximum( abs( g ), numpy.finfo( float ).eps ) )    \n",
    "\n",
    "    axis[ 0, 1 ].plot( f, -3.0 * numpy.ones( len( h ) ), 'k' )\n",
    "    \n",
    "    axis[ 0, 1 ].plot( -0.5, -3.0, 'ro', 0.5, -3.0, 'ro', markerfacecolor = 'none', markersize = 8 )\n",
    "    \n",
    "    h, g = axis[ 0, 1 ].plot( f, h, 'b', f, g, 'r' )\n",
    "    \n",
    "    axis[ 0, 1 ].legend( ( h, g ), ( r'$H_{L,f}$', r'$H_{H,f}$' ), loc = 'upper right' )\n",
    "    \n",
    "    label( axis[ 0, 1 ], r'$Response$', r'$f$', r'$H_f\\ dB$' )\n",
    "        \n",
    "    axis[ 1, 0 ].imshow( x, cmap = color )\n",
    "    \n",
    "    label( axis[ 1, 0 ], r'$Incident$', r'$col$', r'$row$', False )\n",
    "\n",
    "    axis[ 1, 1 ].imshow( y, cmap = color )\n",
    "\n",
    "    label( axis[ 1, 1 ], r'$Transform$', r'$col$', r'$row$', False )\n",
    "\n",
    "    matplotlib.pyplot.show( )\n",
    "    "
   ]
  },
  {
   "cell_type": "code",
   "execution_count": null,
   "metadata": {},
   "outputs": [],
   "source": []
  }
 ],
 "metadata": {
  "kernelspec": {
   "display_name": "Python 3",
   "language": "python",
   "name": "python3"
  },
  "language_info": {
   "codemirror_mode": {
    "name": "ipython",
    "version": 3
   },
   "file_extension": ".py",
   "mimetype": "text/x-python",
   "name": "python",
   "nbconvert_exporter": "python",
   "pygments_lexer": "ipython3",
   "version": "3.8.1"
  }
 },
 "nbformat": 4,
 "nbformat_minor": 2
}
