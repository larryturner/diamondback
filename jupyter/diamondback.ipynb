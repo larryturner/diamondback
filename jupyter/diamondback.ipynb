{
 "cells": [
  {
   "cell_type": "code",
   "execution_count": 6,
   "metadata": {},
   "outputs": [],
   "source": [
    "\"\"\" **Description**\n",
    "    Diamondback is package which provides Digital Signal Processing ( DSP )\n",
    "    solutions, organized in the form of commons, filters, models, and transforms.\n",
    "\n",
    "    Diamondback complements Artificial Intelligence ( AI ) frameworks, by\n",
    "    defining components which analyze, filter, extract, model, and transform\n",
    "    data into forms which are useful in applications including pattern\n",
    "    recognition, feature extraction, and optimization.\n",
    "\n",
    "    Diamondback also facilitates classical signal processing solutions\n",
    "    including communications, modeling, signal identification and extraction,\n",
    "    and noise cancellation.\n",
    "    \n",
    "    **License**\n",
    "        `BSD-3C.  <https://github.com/larryturner/diamondback/blob/master/license>`_\n",
    "        © 2018 - 2021 Larry Turner, Schneider Electric Industries SAS. All rights reserved.\n",
    "    \n",
    "    **Author**\n",
    "        Larry Turner, Schneider Electric, Analytics & AI, 2018-01-23.\n",
    "\"\"\"\n",
    "\n",
    "from diamondback import Log\n",
    "from diamondback import FirFilter, IirFilter, ComplexBandPassFilter, ComplexExponentialFilter\n",
    "from diamondback import ComplexFrequencyFilter, DerivativeFilter, GoertzelFilter, IntegralFilter\n",
    "from diamondback import PolynomialRateFilter, PolyphaseRateFilter, WindowFilter\n",
    "from diamondback import DiversityModel, PrincipalComponentModel\n",
    "from diamondback import ComplexTransform, FourierTransform, PowerSpectrumTransform, WaveletTransform\n",
    "from IPython.display import display\n",
    "from PIL import Image\n",
    "from typing import Any\n",
    "import ipywidgets\n",
    "import math\n",
    "import matplotlib    \n",
    "import matplotlib.pyplot\n",
    "import numpy\n",
    "\n",
    "def label( axes : Any, title : str = '', x : str = '', y : str = '', grid : bool = True ) -> None :\n",
    "\n",
    "    \"\"\" Label plot title and axes, autoscale, and show grid.\n",
    "        \n",
    "        Arguments :\n",
    "            axes : Any.\n",
    "            title : str.\n",
    "            x : str - x label.\n",
    "            y : str - y label.\n",
    "            grid : bool.\n",
    "    \"\"\"\n",
    "\n",
    "    axes.set_xlabel( x )\n",
    "    axes.set_ylabel( y )\n",
    "    axes.set_title( title )\n",
    "    axes.grid( grid )\n",
    "    axes.autoscale( enable = True, axis = 'both', tight = True )\n",
    "    "
   ]
  },
  {
   "cell_type": "code",
   "execution_count": 7,
   "metadata": {
    "scrolled": false
   },
   "outputs": [
    {
     "data": {
      "application/vnd.jupyter.widget-view+json": {
       "model_id": "caa2c2a6b465461b9f655dd068dfe9af",
       "version_major": 2,
       "version_minor": 0
      },
      "text/plain": [
       "interactive(children=(Dropdown(description='Style', index=2, layout=Layout(width='340px'), options=('Blackman'…"
      ]
     },
     "metadata": {},
     "output_type": "display_data"
    },
    {
     "data": {
      "application/vnd.jupyter.widget-view+json": {
       "model_id": "e1bd15116204450ca6d2832f0ae90a26",
       "version_major": 2,
       "version_minor": 0
      },
      "text/plain": [
       "VBox(children=(Dropdown(description='b', layout=Layout(width='340px'), options=('-0.0', '-2.467270159509044e-0…"
      ]
     },
     "metadata": {},
     "output_type": "display_data"
    }
   ],
   "source": [
    "@ipywidgets.interact( )\n",
    "def interface( style = ipywidgets.Dropdown( description = 'Style', value = 'Hann', options = [ 'Blackman', 'Hamming', 'Hann', 'Kaiser' ], layout = { 'width' : '340px' } ),\n",
    "               frequency = ipywidgets.FloatSlider( description = 'Frequency', value = 0.1, min = 0.001, max = 0.999, step = 0.001, readout_format = '0.3f', layout = { 'width' : '420px' } ),\n",
    "               order = ipywidgets.IntSlider( description = 'Order', value = 64, min = 1, max = 4096, step = 1, layout = { 'width' : '420px' } ),\n",
    "               count = ipywidgets.IntSlider( description = 'Count', value = 1, min = 1, max = 16, step = 1, layout = { 'width' : '420px' } ),\n",
    "               complement = ipywidgets.IntSlider( description = 'Complement', value = False, min = False, max = True, layout = { 'width' : '420px' } ) ) :\n",
    "    \n",
    "    \"\"\" Finite Impulse Response Filter.\n",
    "        \n",
    "        Arguments :\n",
    "            style : str - in ( 'Blackman', 'Hamming', 'Hann', 'Kaiser' ).\n",
    "            frequency : float - relative to Nyquist in ( 0.0, 1.0 ).\n",
    "            order : int.\n",
    "            count : int.\n",
    "            complement : bool.\n",
    "    \"\"\"\n",
    "\n",
    "    try :\n",
    "        firfilter = FirFilter( style = style, frequency = frequency, order = order, count = count, complement = complement )\n",
    "    except Exception as ex :\n",
    "        Log.write( 'ERROR', ex )\n",
    "        return\n",
    "    widget = [ ipywidgets.Dropdown( description = 'b', value = str( firfilter.b[ 0 ] ), options = [ str( x ) for x in firfilter.b ], layout = { 'width' : '340px' } ) ]\n",
    "    display( ipywidgets.VBox( children = widget, layout = ipywidgets.Layout( display = 'flex', flex_flow = 'row' ) ) )\n",
    "    _, axes = matplotlib.pyplot.subplots( 2, 2, sharex = False, sharey = False, figsize = ( 18, 18 ) )\n",
    "    \n",
    "    # Coefficients\n",
    "    \n",
    "    length = 1024\n",
    "    n = numpy.linspace( 0.0, order, order + 1 )\n",
    "    axes[ 0, 0 ].plot( n, numpy.zeros( order + 1 ), color = [ 0.0, 0.0, 0.0 ], linewidth = 2.0 )\n",
    "    axes[ 0, 0 ].plot( n, firfilter.b, color = [ 0.2, 0.2, 0.8 ], linewidth = 2.0 )\n",
    "    label( axes[ 0, 0 ], r'$Coefficients$', r'$n$', r'$\\vec{b_{n}}$' )\n",
    " \n",
    "    # Roots\n",
    "    \n",
    "    plot = [ ]\n",
    "    p, z = firfilter.roots( count )\n",
    "    ii = numpy.where( z.real > 10.0 )[ 0 ]\n",
    "    z[ ii ] = 10.0 * numpy.sign( z[ ii ].real )\n",
    "    v = numpy.exp( 1j * math.pi * numpy.linspace( 0, 2.0 * math.pi, length ) )\n",
    "    axes[ 0, 1 ].plot( [ -1.0, 1.0 ], [ 0.0, 0.0 ], color = [ 0.0, 0.0, 0.0 ], linewidth = 2.0 )\n",
    "    axes[ 0, 1 ].plot( [ 0.0, 0.0 ], [ -1.0, 1.0 ], color = [ 0.0, 0.0, 0.0 ], linewidth = 2.0 )\n",
    "    axes[ 0, 1 ].plot( v.real, v.imag, color = [ 0.0, 0.0, 0.0 ], linewidth = 2.0 )\n",
    "    plot.append( axes[ 0, 1 ].plot( p.real, p.imag, linestyle = 'None', marker = '+', markeredgecolor = [ 0.8, 0.2, 0.2 ], markeredgewidth = 2.0, markerfacecolor = [ 1.0, 1.0, 1.0 ], markersize = 8.0 )[ 0 ] )\n",
    "    plot.append( axes[ 0, 1 ].plot( z.real, z.imag, linestyle = 'None', marker = 'o', markeredgecolor = [ 0.2, 0.2, 0.8 ], markeredgewidth = 2.0, markerfacecolor = [ 1.0, 1.0, 1.0 ], markersize = 8.0 )[ 0 ] )\n",
    "    axes[ 0, 1 ].legend( plot, ( r'$\\vec{p_{n}}$', r'$\\vec{z_{n}}$' ), loc = 'upper right' )\n",
    "    label( axes[ 0, 1 ], r'$Roots$', r'$real$', r'$imag$' )\n",
    "   \n",
    "    # Response\n",
    "    \n",
    "    h, f = firfilter.response( count = count )\n",
    "    h = 20.0 * numpy.log10( numpy.maximum( abs( h ), numpy.finfo( float ).eps ) )\n",
    "    ii, jj, = int( numpy.round( len( h ) // 2 * ( 1.0 - frequency ) ) ), int( numpy.round( len( h ) // 2 * ( 1.0 + frequency ) ) )\n",
    "    axes[ 1, 0 ].plot( f, -3.0 * numpy.ones( len( h ) ), color = [ 0.0, 0.0, 0.0 ], linewidth = 2.0 )\n",
    "    axes[ 1, 0 ].plot( f, h, color = [ 0.2, 0.2, 0.8 ], linewidth = 2.0 )\n",
    "    axes[ 1, 0 ].plot( -frequency, h[ ii ], linestyle = 'None', marker = 'o', markeredgecolor = [ 0.8, 0.2, 0.2 ], markeredgewidth = 2.0, markerfacecolor = 'None', markersize = 8.0 )\n",
    "    axes[ 1, 0 ].plot( frequency, h[ jj ], linestyle = 'None', marker = 'o', markeredgecolor = [ 0.8, 0.2, 0.2 ], markeredgewidth = 2.0, markerfacecolor = 'None', markersize = 8.0 )\n",
    "    label( axes[ 1, 0 ], r'$Response$', r'$f$', r'$H_{f}\\ dB$' )\n",
    "    \n",
    "    # Delay\n",
    "    \n",
    "    d, f = firfilter.delay( count = count )\n",
    "    d = numpy.round( d * 10.0 ) / 10.0  \n",
    "    axes[ 1, 1 ].plot( -frequency, d[ ii ], linestyle = 'None', marker = 'o', markeredgecolor = [ 0.8, 0.2, 0.2 ], markeredgewidth = 2.0, markerfacecolor = 'None', markersize = 8.0 )\n",
    "    axes[ 1, 1 ].plot( frequency, d[ jj ], linestyle = 'None', marker = 'o', markeredgecolor = [ 0.8, 0.2, 0.2 ], markeredgewidth = 2.0, markerfacecolor = 'None', markersize = 8.0 )\n",
    "    axes[ 1, 1 ].plot( f, d, color = [ 0.2, 0.2, 0.8 ], linewidth = 2.0 )\n",
    "    label( axes[ 1, 1 ], r'$Delay$', r'$f$', r'$\\tau_{f}\\ n$' )\n",
    "    matplotlib.pyplot.show( )\n"
   ]
  },
  {
   "cell_type": "code",
   "execution_count": 8,
   "metadata": {
    "scrolled": false
   },
   "outputs": [
    {
     "data": {
      "application/vnd.jupyter.widget-view+json": {
       "model_id": "3d4fc2bb25da474aa45f3fcae0cc147d",
       "version_major": 2,
       "version_minor": 0
      },
      "text/plain": [
       "interactive(children=(Dropdown(description='Style', index=1, layout=Layout(width='340px'), options=('Bessel', …"
      ]
     },
     "metadata": {},
     "output_type": "display_data"
    },
    {
     "data": {
      "application/vnd.jupyter.widget-view+json": {
       "model_id": "097eae3bb9ac47bdb8286c0aa1ba3550",
       "version_major": 2,
       "version_minor": 0
      },
      "text/plain": [
       "VBox(children=(Dropdown(description='a', layout=Layout(width='340px'), options=('0.0', '4.787135498853379', '-…"
      ]
     },
     "metadata": {},
     "output_type": "display_data"
    }
   ],
   "source": [
    "@ipywidgets.interact( )\n",
    "def interface( style = ipywidgets.Dropdown( description = 'Style', value = 'Butterworth', options = [ 'Bessel', 'Butterworth', 'Chebyshev' ], layout = { 'width' : '340px' } ),\n",
    "               frequency = ipywidgets.FloatSlider( description = 'Frequency', value = 0.1, min = 0.001, max = 0.999, step = 0.001, readout_format = '0.3f', layout = { 'width' : '420px' } ),\n",
    "               order = ipywidgets.IntSlider( description = 'Order', value = 6, min = 1, max = 16, step = 1, layout = { 'width' : '420px' } ),\n",
    "               count = ipywidgets.IntSlider( description = 'Count', value = 1, min = 1, max = 16, step = 1, layout = { 'width' : '420px' } ),\n",
    "               complement = ipywidgets.IntSlider( description = 'Complement', value = False, min = False, max = True, layout = { 'width' : '420px' } ) ) :\n",
    "    \n",
    "    \"\"\" Infinite Impulse Response Filter.\n",
    "        \n",
    "        Arguments :\n",
    "            style : str - in ( 'Bessel', 'Butterworth', 'Chebyshev' ).\n",
    "            frequency : float - relative to Nyquist in ( 0.0, 1.0 ).\n",
    "            order : int.\n",
    "            count : int.\n",
    "            complement : bool.\n",
    "    \"\"\"\n",
    "    \n",
    "    iirfilter = IirFilter( style = style, frequency = frequency, order = order, count = count, complement = complement )\n",
    "    widget = [ ipywidgets.Dropdown( description = 'a', value = str( iirfilter.a[ 0 ] ), options = [ str( x ) for x in iirfilter.a ], layout = { 'width' : '340px' } ),\n",
    "               ipywidgets.Dropdown( description = 'b', value = str( iirfilter.b[ 0 ] ), options = [ str( x ) for x in iirfilter.b ], layout = { 'width' : '340px' } ) ]\n",
    "    display( ipywidgets.VBox( children = widget, layout = ipywidgets.Layout( display = 'flex', flex_flow = 'row' ) ) )\n",
    "    _, axes = matplotlib.pyplot.subplots( 2, 2, sharex = False, sharey = False, figsize = ( 18, 18 ) )\n",
    "    \n",
    "    # Coefficients\n",
    "\n",
    "    plot = [ ]\n",
    "    length = 1024\n",
    "    n = numpy.linspace( 0.0, order, order + 1 )    \n",
    "    axes[ 0, 0 ].plot( n, numpy.zeros( order + 1 ), color = [ 0.0, 0.0, 0.0 ], linewidth = 2.0 )\n",
    "    axes[ 0, 0 ].bar( n, iirfilter.a, color = [ 0.8, 0.2, 0.2 ], width = 0.006 * ( order + 1 ) )\n",
    "    axes[ 0, 0 ].bar( n, iirfilter.b, color = [ 0.2, 0.2, 0.8 ], width = 0.006 * ( order + 1 ) )\n",
    "    plot.append( axes[ 0, 0 ].plot( n, iirfilter.a, linestyle = 'None', marker = 'o', markeredgecolor = [ 0.8, 0.2, 0.2 ], markeredgewidth = 2.0, markerfacecolor = [ 1.0, 1.0, 1.0 ], markersize = 8.0 )[ 0 ] )\n",
    "    plot.append( axes[ 0, 0 ].plot( n, iirfilter.b, linestyle = 'None', marker = 'o', markeredgecolor = [ 0.2, 0.2, 0.8 ], markeredgewidth = 2.0, markerfacecolor = [ 1.0, 1.0, 1.0 ], markersize = 8.0 )[ 0 ] )\n",
    "    axes[ 0, 0 ].legend( plot, ( r'$\\vec{a_{n}}$', r'$\\vec{b_{n}}$' ), loc = 'upper right' )\n",
    "    label( axes[ 0, 0 ], r'$Coefficients$', r'$n$' )\n",
    "    \n",
    "    # Roots\n",
    "\n",
    "    plot = [ ]\n",
    "    p, z = iirfilter.roots( count )\n",
    "    ii = numpy.where( z.real > 10.0 )[ 0 ]\n",
    "    z[ ii ] = 10.0 * numpy.sign( z[ ii ].real )\n",
    "    v = numpy.exp( 1j * math.pi * numpy.linspace( 0, 2.0 * math.pi, length ) )\n",
    "    axes[ 0, 1 ].plot( [ -1.0, 1.0 ], [ 0.0, 0.0 ], color = [ 0.0, 0.0, 0.0 ], linewidth = 2.0 )\n",
    "    axes[ 0, 1 ].plot( [ 0.0, 0.0 ], [ -1.0, 1.0 ], color = [ 0.0, 0.0, 0.0 ], linewidth = 2.0 )\n",
    "    axes[ 0, 1 ].plot( v.real, v.imag, color = [ 0.0, 0.0, 0.0 ], linewidth = 2.0 )\n",
    "    plot.append( axes[ 0, 1 ].plot( p.real, p.imag, linestyle = 'None', marker = '+', markeredgecolor = [ 0.8, 0.2, 0.2 ], markeredgewidth = 2.0, markerfacecolor = [ 1.0, 1.0, 1.0 ], markersize = 8.0 )[ 0 ] )\n",
    "    plot.append( axes[ 0, 1 ].plot( z.real, z.imag, linestyle = 'None', marker = 'o', markeredgecolor = [ 0.2, 0.2, 0.8 ], markeredgewidth = 2.0, markerfacecolor = [ 1.0, 1.0, 1.0 ], markersize = 8.0 )[ 0 ] )\n",
    "    axes[ 0, 1 ].legend( plot, ( r'$\\vec{p_{n}}$', r'$\\vec{z_{n}}$' ), loc = 'upper right' )\n",
    "    label( axes[ 0, 1 ], r'$Roots$', r'$real$', r'$imag$' )\n",
    "    \n",
    "    # Response\n",
    "    \n",
    "    h, f = iirfilter.response( count = count )\n",
    "    h = 20.0 * numpy.log10( numpy.maximum( abs( h ), numpy.finfo( float ).eps ) )\n",
    "    ii, jj, = int( numpy.round( len( h ) // 2 * ( 1.0 - frequency ) ) ), int( numpy.round( len( h ) // 2 * ( 1.0 + frequency ) ) )\n",
    "    axes[ 1, 0 ].plot( f, -3.0 * numpy.ones( len( h ) ), color = [ 0.0, 0.0, 0.0 ], linewidth = 2.0 )\n",
    "    axes[ 1, 0 ].plot( f, h, color = [ 0.2, 0.2, 0.8 ], linewidth = 2.0 )\n",
    "    axes[ 1, 0 ].plot( -frequency, h[ ii ], linestyle = 'None', marker = 'o', markeredgecolor = [ 0.8, 0.2, 0.2 ], markeredgewidth = 2.0, markerfacecolor = 'None', markersize = 8.0 )\n",
    "    axes[ 1, 0 ].plot( frequency, h[ jj ], linestyle = 'None', marker = 'o', markeredgecolor = [ 0.8, 0.2, 0.2 ], markeredgewidth = 2.0, markerfacecolor = 'None', markersize = 8.0 )\n",
    "    label( axes[ 1, 0 ], r'$Response$', r'$f$', r'$H_{f}\\ dB$' )\n",
    "\n",
    "    # Delay\n",
    "    \n",
    "    d, f = iirfilter.delay( count = count )\n",
    "    d = numpy.round( d * 10.0 ) / 10.0  \n",
    "    axes[ 1, 1 ].plot( -frequency, d[ ii ], linestyle = 'None', marker = 'o', markeredgecolor = [ 0.8, 0.2, 0.2 ], markeredgewidth = 2.0, markerfacecolor = 'None', markersize = 8.0 )\n",
    "    axes[ 1, 1 ].plot( frequency, d[ jj ], linestyle = 'None', marker = 'o', markeredgecolor = [ 0.8, 0.2, 0.2 ], markeredgewidth = 2.0, markerfacecolor = 'None', markersize = 8.0 )\n",
    "    axes[ 1, 1 ].plot( f, d, color = [ 0.2, 0.2, 0.8 ], linewidth = 2.0 )\n",
    "    label( axes[ 1, 1 ], r'$Delay$', r'$f$', r'$\\tau_{f}\\ n$' )\n",
    "    matplotlib.pyplot.show( )\n",
    "    "
   ]
  },
  {
   "cell_type": "code",
   "execution_count": 9,
   "metadata": {},
   "outputs": [
    {
     "data": {
      "application/vnd.jupyter.widget-view+json": {
       "model_id": "4a7895fb14ab476fa97c853b1b201f0d",
       "version_major": 2,
       "version_minor": 0
      },
      "text/plain": [
       "interactive(children=(FloatRangeSlider(value=(-0.05, 0.1), description='Incident', layout=Layout(width='420px'…"
      ]
     },
     "metadata": {},
     "output_type": "display_data"
    },
    {
     "data": {
      "application/vnd.jupyter.widget-view+json": {
       "model_id": "4a8125cefff946f7b3f72bb81b119768",
       "version_major": 2,
       "version_minor": 0
      },
      "text/plain": [
       "VBox(children=(Dropdown(description='b', layout=Layout(width='340px'), options=('0.5', '0.0', '-0.5'), value='…"
      ]
     },
     "metadata": {},
     "output_type": "display_data"
    }
   ],
   "source": [
    "@ipywidgets.interact( )\n",
    "def interface( incident = ipywidgets.FloatRangeSlider( description = 'Incident', value = [ -0.05, 0.1 ], min = -1.0, max = 0.99, step = 0.01, layout = { 'width' : '420px' } ),\n",
    "               noise = ipywidgets.FloatSlider( description = 'Noise', value = 0.0, min = 0.0, max = 0.5, step = 0.01, layout = { 'width' : '420px' } ),               \n",
    "               derivative = ipywidgets.IntSlider( description = 'Derivative', value = 1, min = 1, max = 3, step = 1, layout = { 'width' : '420px' } ),\n",
    "               order = ipywidgets.IntSlider( description = 'Order', value = 2, min = 0, max = 8, step = 2, layout = { 'width' : '420px' } ) ) :\n",
    "    \n",
    "    \"\"\" Derivative Filter.    \n",
    "        \n",
    "        Arguments :\n",
    "            incident : float - incident signal frequency [ epoch, terminus ] relative to Nyquist in [ -1.0, 1.0 ).\n",
    "            noise : float - incident signal deviation.\n",
    "            derivative : int.\n",
    "            order : int.\n",
    "    \"\"\"\n",
    "    \n",
    "    order = int( max( min( order, 2.0 ** ( derivative + 1 ) ), 2.0 ** ( derivative - 1 ) ) )\n",
    "    derivativefilter = DerivativeFilter( derivative, order )\n",
    "    widget = [ ipywidgets.Dropdown( description = 'b', value = str( derivativefilter.b[ 0 ] ), options = [ str( x ) for x in derivativefilter.b ], layout = { 'width' : '340px' } ) ]\n",
    "    display( ipywidgets.VBox( children = widget, layout = ipywidgets.Layout( display = 'flex', flex_flow = 'row' ) ) )\n",
    "    _, axes = matplotlib.pyplot.subplots( 2, 2, sharex = False, sharey = False, figsize = ( 18, 18 ) )\n",
    "\n",
    "    # Coefficients\n",
    "    \n",
    "    phase, length = numpy.random.rand( 1 )[ 0 ] - 0.5, 1024\n",
    "    n = numpy.linspace( 0.0, order, order + 1 )\n",
    "    axes[ 0, 0 ].plot( n, numpy.zeros( order + 1 ), color = [ 0.0, 0.0, 0.0 ], linewidth = 2.0 )\n",
    "    axes[ 0, 0 ].bar( n, derivativefilter.b, color = [ 0.2, 0.2, 0.8 ], width = 0.006 * ( order + 1 ) )\n",
    "    axes[ 0, 0 ].plot( n, derivativefilter.b, linestyle = 'None', marker = 'o', markeredgecolor = [ 0.2, 0.2, 0.8 ], markeredgewidth = 2.0, markerfacecolor = [ 1.0, 1.0, 1.0 ], markersize = 8.0 )\n",
    "    label( axes[ 0, 0 ], r'$Coefficients$', r'$n$', r'$\\vec{b_{n}}$' )\n",
    "    \n",
    "    # Roots\n",
    "    \n",
    "    plot = [ ]\n",
    "    p, z = derivativefilter.roots( )\n",
    "    v = numpy.exp( 1j * math.pi * numpy.linspace( 0, 2.0 * math.pi, length ) )\n",
    "    axes[ 0, 1 ].plot( [ -1.0, 1.0 ], [ 0.0, 0.0 ], color = [ 0.0, 0.0, 0.0 ], linewidth = 2.0 )\n",
    "    axes[ 0, 1 ].plot( [ 0.0, 0.0 ], [ -1.0, 1.0 ], color = [ 0.0, 0.0, 0.0 ], linewidth = 2.0 )\n",
    "    axes[ 0, 1 ].plot( v.real, v.imag, color = [ 0.0, 0.0, 0.0 ], linewidth = 2.0 )\n",
    "    plot.append( axes[ 0, 1 ].plot( p.real, p.imag, linestyle = 'None', marker = '+', markeredgecolor = [ 0.8, 0.2, 0.2 ], markeredgewidth = 2.0, markerfacecolor = [ 1.0, 1.0, 1.0 ], markersize = 8.0 )[ 0 ] )\n",
    "    plot.append( axes[ 0, 1 ].plot( z.real, z.imag, linestyle = 'None', marker = 'o', markeredgecolor = [ 0.2, 0.2, 0.8 ], markeredgewidth = 2.0, markerfacecolor = [ 1.0, 1.0, 1.0 ], markersize = 8.0 )[ 0 ] )\n",
    "    axes[ 0, 1 ].legend( plot, ( r'$\\vec{p_{n}}$', r'$\\vec{z_{n}}$' ), loc = 'upper right' )\n",
    "    label( axes[ 0, 1 ], r'$Roots$', r'$real$', r'$imag$' )\n",
    "    \n",
    "    # Response\n",
    "    \n",
    "    h, f = derivativefilter.response( )\n",
    "    h = 20.0 * numpy.log10( numpy.maximum( abs( h ), numpy.finfo( float ).eps ) )\n",
    "    axes[ 1, 0 ].plot( f, -3.0 * numpy.ones( len( h ) ), color = [ 0.0, 0.0, 0.0 ], linewidth = 2.0 )\n",
    "    axes[ 1, 0 ].plot( f, h, color = [ 0.2, 0.2, 0.8 ], linewidth = 2.0 )\n",
    "    axes[ 1, 0 ].plot( numpy.linspace( incident[ 0 ], incident[ 1 ], length ), numpy.zeros( length ), color = [ 0.0, 0.0, 0.0 ], linewidth = 8.0 )\n",
    "    label( axes[ 1, 0 ], r'$Response$', r'$f$', r'$H_{f}\\ dB$' )\n",
    "    \n",
    "    # Filter\n",
    "    \n",
    "    plot = [ ]\n",
    "    length = 1024\n",
    "    x = ComplexExponentialFilter( phase ).filter( numpy.linspace( incident[ 0 ], incident[ 1 ], length ) ).real\n",
    "    q = numpy.random.rand( len( x ) ) - 0.5\n",
    "    x += q * noise / q.std( )\n",
    "    y = derivativefilter.filter( x )\n",
    "    n = numpy.linspace( 0, length - 1, length )\n",
    "    plot.append( axes[ 1, 1 ].plot( n, x, color = [ 0.0, 0.0, 0.0 ], linewidth = 1.0 )[ 0 ] )\n",
    "    plot.append( axes[ 1, 1 ].plot( n, y, color = [ 0.2, 0.2, 0.8 ], linewidth = 1.0 )[ 0 ] )\n",
    "    axes[ 1, 1 ].legend( plot, ( r'$x_{n}$', r'$y_{n}$' ), loc = 'upper right' )\n",
    "    label( axes[ 1, 1 ], r'$Filter$', r'$n$' )\n",
    "    matplotlib.pyplot.show( )\n",
    "    "
   ]
  },
  {
   "cell_type": "code",
   "execution_count": 10,
   "metadata": {},
   "outputs": [
    {
     "data": {
      "application/vnd.jupyter.widget-view+json": {
       "model_id": "457913341caf446ea0b2ef549b0ca6a4",
       "version_major": 2,
       "version_minor": 0
      },
      "text/plain": [
       "interactive(children=(FloatRangeSlider(value=(-0.05, 0.1), description='Incident', layout=Layout(width='420px'…"
      ]
     },
     "metadata": {},
     "output_type": "display_data"
    },
    {
     "data": {
      "application/vnd.jupyter.widget-view+json": {
       "model_id": "14f6cd3bcafb4b81bb187b14e72ba331",
       "version_major": 2,
       "version_minor": 0
      },
      "text/plain": [
       "VBox(children=(Dropdown(description='a', layout=Layout(width='340px'), options=('0.0', '1.0'), value='0.0'), D…"
      ]
     },
     "metadata": {},
     "output_type": "display_data"
    }
   ],
   "source": [
    "@ipywidgets.interact( )\n",
    "def interface( incident = ipywidgets.FloatRangeSlider( description = 'Incident', value = [ -0.05, 0.1 ], min = -1.0, max = 0.99, step = 0.01, layout = { 'width' : '420px' } ),\n",
    "               noise = ipywidgets.FloatSlider( description = 'Noise', value = 0.0, min = 0.0, max = 0.5, step = 0.01, layout = { 'width' : '420px' } ),\n",
    "               order = ipywidgets.IntSlider( description = 'Order', value = 1, min = 0, max = 4, step = 1, layout = { 'width' : '420px' } ) ) :\n",
    "    \n",
    "    \"\"\" Integral Filter.    \n",
    "        \n",
    "        Arguments :\n",
    "            incident : float - incident signal frequency [ epoch, terminus ] relative to Nyquist in [ -1.0, 1.0 ).\n",
    "            noise : float - incident signal deviation.\n",
    "            order : int.\n",
    "    \"\"\"\n",
    "    \n",
    "    integralfilter = IntegralFilter( order )\n",
    "    widget = [ ipywidgets.Dropdown( description = 'a', value = str( integralfilter.a[ 0 ] ), options = [ str( x ) for x in integralfilter.a ], layout = { 'width' : '340px' } ),\n",
    "               ipywidgets.Dropdown( description = 'b', value = str( integralfilter.b[ 0 ] ), options = [ str( x ) for x in integralfilter.b ], layout = { 'width' : '340px' } ) ]\n",
    "    display( ipywidgets.VBox( children = widget, layout = ipywidgets.Layout( display = 'flex', flex_flow = 'row' ) ) )\n",
    "    _, axes = matplotlib.pyplot.subplots( 2, 2, sharex = False, sharey = False, figsize = ( 18, 18 ) )\n",
    "    \n",
    "    # Coefficients\n",
    "    \n",
    "    plot = [ ]\n",
    "    phase, length = numpy.random.rand( 1 )[ 0 ] - 0.5, 1024\n",
    "    n = numpy.linspace( 0.0, max( order, 1 ), max( order, 1 ) + 1 )\n",
    "    axes[ 0, 0 ].plot( n, numpy.zeros( order + 1 ), color = [ 0.0, 0.0, 0.0 ], linewidth = 2.0 )\n",
    "    axes[ 0, 0 ].bar( n, integralfilter.a, color = [ 0.8, 0.2, 0.2 ], width = 0.006 * ( order + 1 ) )\n",
    "    axes[ 0, 0 ].bar( n, integralfilter.b, color = [ 0.2, 0.2, 0.8 ], width = 0.006 * ( order + 1 ) )\n",
    "    plot.append( axes[ 0, 0 ].plot( n, integralfilter.a, linestyle = 'None', marker = 'o', markeredgecolor = [ 0.8, 0.2, 0.2 ], markeredgewidth = 2.0, markerfacecolor = [ 1.0, 1.0, 1.0 ], markersize = 8.0 )[ 0 ] )\n",
    "    plot.append( axes[ 0, 0 ].plot( n, integralfilter.b, linestyle = 'None', marker = 'o', markeredgecolor = [ 0.2, 0.2, 0.8 ], markeredgewidth = 2.0, markerfacecolor = [ 1.0, 1.0, 1.0 ], markersize = 8.0 )[ 0 ] )\n",
    "    axes[ 0, 0 ].legend( plot, ( r'$\\vec{a_{n}}$', r'$\\vec{b_{n}}$' ), loc = 'upper right' )\n",
    "    label( axes[ 0, 0 ], r'$Coefficients$', r'$n$' )\n",
    "\n",
    "    # Roots\n",
    "    \n",
    "    plot = [ ]\n",
    "    p, z = integralfilter.roots( )\n",
    "    v = numpy.exp( 1j * math.pi * numpy.linspace( 0, 2.0 * math.pi, length ) )\n",
    "    axes[ 0, 1 ].plot( [ -1.0, 1.0 ], [ 0.0, 0.0 ], color = [ 0.0, 0.0, 0.0 ], linewidth = 2.0 )\n",
    "    axes[ 0, 1 ].plot( [ 0.0, 0.0 ], [ -1.0, 1.0 ], color = [ 0.0, 0.0, 0.0 ], linewidth = 2.0 )\n",
    "    axes[ 0, 1 ].plot( v.real, v.imag, color = [ 0.0, 0.0, 0.0 ], linewidth = 2.0 )\n",
    "    plot.append( axes[ 0, 1 ].plot( p.real, p.imag, linestyle = 'None', marker = '+', markeredgecolor = [ 0.8, 0.2, 0.2 ], markeredgewidth = 2.0, markerfacecolor = [ 1.0, 1.0, 1.0 ], markersize = 8.0 )[ 0 ] )\n",
    "    plot.append( axes[ 0, 1 ].plot( z.real, z.imag, linestyle = 'None', marker = 'o', markeredgecolor = [ 0.2, 0.2, 0.8 ], markeredgewidth = 2.0, markerfacecolor = [ 1.0, 1.0, 1.0 ], markersize = 8.0 )[ 0 ] )\n",
    "    axes[ 0, 1 ].legend( plot, ( r'$\\vec{p_{n}}$', r'$\\vec{z_{n}}$' ), loc = 'upper right' )\n",
    "    label( axes[ 0, 1 ], r'$Roots$', r'$real$', r'$imag$' )\n",
    "        \n",
    "    # Response\n",
    "    \n",
    "    h, f = integralfilter.response( )\n",
    "    h = 20.0 * numpy.log10( numpy.maximum( abs( h ), numpy.finfo( float ).eps ) )\n",
    "    axes[ 1, 0 ].plot( f, -3.0 * numpy.ones( len( h ) ), color = [ 0.0, 0.0, 0.0 ], linewidth = 2.0 )\n",
    "    axes[ 1, 0 ].plot( f, h, color = [ 0.2, 0.2, 0.8 ], linewidth = 2.0 )\n",
    "    axes[ 1, 0 ].plot( numpy.linspace( incident[ 0 ], incident[ 1 ], length ), numpy.zeros( length ), color = [ 0.0, 0.0, 0.0 ], linewidth = 8.0 )\n",
    "    label( axes[ 1, 0 ], r'$Response$', r'$f$', r'$H_{f}\\ dB$' )\n",
    "    \n",
    "    # Filter\n",
    "\n",
    "    plot = [ ]\n",
    "    length = 1024\n",
    "    x = ComplexExponentialFilter( phase ).filter( numpy.linspace( incident[ 0 ], incident[ 1 ], length ) ).real\n",
    "    q = numpy.random.rand( len( x ) ) - 0.5\n",
    "    x += q * noise / q.std( )\n",
    "    y = integralfilter.filter( x )\n",
    "    n = numpy.linspace( 0, length - 1, length )\n",
    "    plot.append( axes[ 1, 1 ].plot( n, x, color = [ 0.0, 0.0, 0.0 ], linewidth = 1.0 )[ 0 ] )\n",
    "    plot.append( axes[ 1, 1 ].plot( n, y, color = [ 0.2, 0.2, 0.8 ], linewidth = 1.0 )[ 0 ] )\n",
    "    axes[ 1, 1 ].legend( plot, ( r'$x_{n}$', r'$y_{n}$' ), loc = 'upper right' )\n",
    "    label( axes[ 1, 1 ], r'$Filter$', r'$n$' )\n",
    "    matplotlib.pyplot.show( )\n",
    "    "
   ]
  },
  {
   "cell_type": "code",
   "execution_count": 11,
   "metadata": {},
   "outputs": [
    {
     "data": {
      "application/vnd.jupyter.widget-view+json": {
       "model_id": "d974b5a81ae64db1b051d8a6a8d399b9",
       "version_major": 2,
       "version_minor": 0
      },
      "text/plain": [
       "interactive(children=(FloatRangeSlider(value=(0.0, 0.1), description='Incident', layout=Layout(width='420px'),…"
      ]
     },
     "metadata": {},
     "output_type": "display_data"
    }
   ],
   "source": [
    "@ipywidgets.interact( )\n",
    "def interface( incident = ipywidgets.FloatRangeSlider( description = 'Incident', value = [ 0.0, 0.1 ], min = -1.0, max = 0.99, step = 0.01, readout_format = '0.2f', layout = { 'width' : '420px' } ),\n",
    "               noise = ipywidgets.FloatSlider( description = 'Noise', value = 0.0, min = 0.0, max = 0.5, step = 0.01, layout = { 'width' : '420px' } ),               \n",
    "               rate = ipywidgets.FloatSlider( description = 'Rate', value = 1.0, min = 0.01, max = 256.0, step = 0.01, layout = { 'width' : '420px' } ) ) :\n",
    "\n",
    "    \"\"\" Polynomial Rate Filter.    \n",
    "        \n",
    "        Arguments :\n",
    "            incident : float - incident signal frequency [ epoch, terminus ] relative to Nyquist in [ -1.0, 1.0 ).\n",
    "            noise : float - noise deviation of incident signal.\n",
    "            rate : float - ratio of effective frequency in [ 1.0, inf ).\n",
    "    \"\"\"\n",
    "    \n",
    "    _, axes = matplotlib.pyplot.subplots( 1, 2, sharex = False, sharey = False, figsize = ( 36, 9 ) )\n",
    "\n",
    "    # Filter\n",
    "    \n",
    "    plot = [ ]\n",
    "    ratefilter = PolynomialRateFilter( rate )\n",
    "    phase, length = numpy.random.rand( 1 )[ 0 ] - 0.5, 1024\n",
    "    x = ComplexExponentialFilter( phase ).filter( numpy.linspace( incident[ 0 ], incident[ 1 ], length ) ).real\n",
    "    q = numpy.random.rand( len( x ) ) - 0.5\n",
    "    x += q * noise / q.std( )\n",
    "    y = ratefilter.filter( x )\n",
    "    plot.append( axes[ 0 ].plot( numpy.linspace( 0, len( x ) - 1, len( x ) ), x, color = [ 0.0, 0.0, 0.0 ], linewidth = 1.0 )[ 0 ] )\n",
    "    plot.append( axes[ 0 ].plot( numpy.linspace( 0, len( y ) - 1, len( y ) ), y, color = [ 0.2, 0.2, 0.8 ], linewidth = 1.0 )[ 0 ] )\n",
    "    axes[ 0 ].legend( plot, ( r'$x_{n}$', r'$y_{n}$' ), loc = 'upper right' )\n",
    "    label( axes[ 0 ], r'$Filter$', r'$n$' )\n",
    "    axes[ 1 ].set_visible( False )\n",
    "    matplotlib.pyplot.show( )\n",
    "    "
   ]
  },
  {
   "cell_type": "code",
   "execution_count": 12,
   "metadata": {
    "scrolled": false
   },
   "outputs": [
    {
     "data": {
      "application/vnd.jupyter.widget-view+json": {
       "model_id": "bb96ffdc08684fb78cb696a8733fdeb4",
       "version_major": 2,
       "version_minor": 0
      },
      "text/plain": [
       "interactive(children=(FloatRangeSlider(value=(0.0, 0.1), description='Incident', layout=Layout(width='420px'),…"
      ]
     },
     "metadata": {},
     "output_type": "display_data"
    },
    {
     "data": {
      "application/vnd.jupyter.widget-view+json": {
       "model_id": "b3782ebdd89545ce8c20da8114cfdba6",
       "version_major": 2,
       "version_minor": 0
      },
      "text/plain": [
       "VBox(children=(Dropdown(description='Index', layout=Layout(width='340px'), options=('256.0',), value='256.0'),…"
      ]
     },
     "metadata": {},
     "output_type": "display_data"
    }
   ],
   "source": [
    "@ipywidgets.interact( )\n",
    "def interface( incident = ipywidgets.FloatRangeSlider( description = 'Incident', value = [ 0.0, 0.1 ], min = -1.0, max = 0.99, step = 0.01, readout_format = '0.2f', layout = { 'width' : '420px' } ),\n",
    "               noise = ipywidgets.FloatSlider( description = 'Noise', value = 0.0, min = 0.0, max = 0.5, step = 0.01, layout = { 'width' : '420px' } ),               \n",
    "               rate = ipywidgets.FloatSlider( description = 'Rate', value = 1.0, min = 0.01, max = 256.0, step = 0.01, layout = { 'width' : '420px' } ) ) :\n",
    "\n",
    "    \"\"\" Polyphase Rate Filter.    \n",
    "        \n",
    "        Arguments :\n",
    "            incident : float - incident signal frequency [ epoch, terminus ] relative to Nyquist in [ -1.0, 1.0 ).\n",
    "            noise : float - incident signal deviation.\n",
    "            rate : float - ratio of effective frequency in ( 0.0, 256.0 ].\n",
    "    \"\"\"\n",
    "    \n",
    "    ratefilter = PolyphaseRateFilter( rate )\n",
    "    widget = [ ipywidgets.Dropdown( description = 'Index', value = str( ratefilter.b.shape[ 0 ] / rate ), options = [ str( ratefilter.b.shape[ 0 ] / rate ) ], layout = { 'width' : '340px' } ),\n",
    "               ipywidgets.Dropdown( description = 'Order', value = str( ratefilter.b.shape[ 0 ] ), options = [ str( ratefilter.b.shape[ 0 ] ), str( ratefilter.b.shape[ 1 ] ) ], layout = { 'width' : '340px' } ) ]\n",
    "    display( ipywidgets.VBox( children = widget, layout = ipywidgets.Layout( display = 'flex', flex_flow = 'row' ) ) )\n",
    "    _, axes = matplotlib.pyplot.subplots( 2, 2, sharex = False, sharey = False, figsize = ( 18, 18 ) )\n",
    "\n",
    "    # Coefficients\n",
    "    \n",
    "    frequency, phase, length = 0.85, numpy.random.rand( 1 )[ 0 ] - 0.5, 1024\n",
    "    n = numpy.linspace( 0.0, ratefilter.b.shape[ 1 ] - 1, ratefilter.b.shape[ 1 ] )\n",
    "    axes[ 0, 0 ].plot( n, numpy.zeros( ratefilter.b.shape[ 1 ] ), color = [ 0.0, 0.0, 0.0 ], linewidth = 0.5 )\n",
    "    for ii in range( 0, ratefilter.b.shape[ 0 ], 4 ) :\n",
    "        axes[ 0, 0 ].plot( n, ratefilter.b[ ii, : ], color = [ 0.2, 0.2, 0.8 ], linewidth = 0.25 )\n",
    "    label( axes[ 0, 0 ], r'$Coefficients$', r'$n$', r'$\\vec{b_{n}}$' )\n",
    "    \n",
    "    # Filter\n",
    "    \n",
    "    plot = [ ]\n",
    "    x = ComplexExponentialFilter( phase ).filter( numpy.linspace( incident[ 0 ], incident[ 1 ], length ) ).real\n",
    "    q = numpy.random.rand( len( x ) ) - 0.5\n",
    "    x += q * noise / q.std( )\n",
    "    y = ratefilter.filter( x )\n",
    "    plot.append( axes[ 0, 1 ].plot( numpy.linspace( 0, len( x ) - 1, len( x ) ), x, color = [ 0.0, 0.0, 0.0 ], linewidth = 1.0 )[ 0 ] )\n",
    "    plot.append( axes[ 0, 1 ].plot( numpy.linspace( 0, len( y ) - 1, len( y ) ), y, color = [ 0.2, 0.2, 0.8 ], linewidth = 1.0 )[ 0 ] )\n",
    "    axes[ 0, 1 ].legend( plot, ( r'$x_{n}$', r'$y_{n}$' ), loc = 'upper right' )\n",
    "    label( axes[ 0, 1 ], r'$Filter$', r'$n$' )\n",
    "    for ii in range( 0, ratefilter.b.shape[ 0 ], 2 ) :\n",
    "        firfilter = FirFilter( b = ratefilter.b[ ii, : ] )\n",
    "        h, f = firfilter.response( )\n",
    "        h = 20.0 * numpy.log10( numpy.maximum( abs( h ), numpy.finfo( float ).eps ) )\n",
    "        ii, jj, = int( numpy.round( len( h ) // 2 * ( 1.0 - frequency ) ) ), int( numpy.round( len( h ) // 2 * ( 1.0 + frequency ) ) )\n",
    "        axes[ 1, 0 ].plot( f, h, color = [ 0.2, 0.2, 0.8 ], linewidth = 0.25 )\n",
    "        d, f = firfilter.delay( )\n",
    "        d = numpy.maximum( numpy.minimum( d, ratefilter.b.shape[ 1 ] // 2 + 0.6 ), ratefilter.b.shape[ 1 ] // 2 - 0.6 )\n",
    "        axes[ 1, 1 ].plot( f, d, 'b', linewidth = 0.25 )        \n",
    "    axes[ 1, 0 ].plot( f, -3.0 * numpy.ones( len( h ) ), color = [ 0.0, 0.0, 0.0 ], linewidth = 2.0 )\n",
    "    axes[ 1, 0 ].plot( -frequency, h[ ii ], linestyle = 'None', marker = 'o', markeredgecolor = [ 0.8, 0.2, 0.2 ], markeredgewidth = 2.0, markerfacecolor = 'None', markersize = 8.0 )\n",
    "    axes[ 1, 0 ].plot( frequency, h[ jj ], linestyle = 'None', marker = 'o', markeredgecolor = [ 0.8, 0.2, 0.2 ], markeredgewidth = 2.0, markerfacecolor = 'None', markersize = 8.0 )\n",
    "    axes[ 1, 0 ].plot( numpy.linspace( incident[ 0 ], incident[ 1 ], length ), numpy.zeros( length ), color = [ 0.0, 0.0, 0.0 ], linewidth = 8.0 )\n",
    "    label( axes[ 1, 0 ], r'$Response$', r'$f$', r'$H_{f}\\ dB$' )\n",
    "    label( axes[ 1, 1 ], r'$Delay$', r'$f$', r'$\\tau_{f}\\ n$' )\n",
    "    matplotlib.pyplot.show( )\n",
    "    "
   ]
  },
  {
   "cell_type": "code",
   "execution_count": 13,
   "metadata": {},
   "outputs": [
    {
     "data": {
      "application/vnd.jupyter.widget-view+json": {
       "model_id": "5e52bf0a81ae42d1b61de5b4525f5400",
       "version_major": 2,
       "version_minor": 0
      },
      "text/plain": [
       "interactive(children=(FloatRangeSlider(value=(-0.05, 0.05), description='Incident', layout=Layout(width='420px…"
      ]
     },
     "metadata": {},
     "output_type": "display_data"
    }
   ],
   "source": [
    "@ipywidgets.interact( )\n",
    "def interface( incident = ipywidgets.FloatRangeSlider( description = 'Incident', value = [ -0.05, 0.05 ], min = -1.0, max = 0.99, step = 0.01, layout = { 'width' : '420px' } ),\n",
    "               noise = ipywidgets.FloatSlider( description = 'Noise', value = 0.0, min = 0.0, max = 0.5, step = 0.01, layout = { 'width' : '420px' } ),\n",
    "               neutral = ipywidgets.IntSlider( description = 'Neutral', value = True, min = False, max = True, layout = { 'width' : '420px' } ),\n",
    "               inverse = ipywidgets.IntSlider( description = 'Inverse', value = False, min = False, max = True, layout = { 'width' : '420px' } ) ) :\n",
    "\n",
    "    \"\"\" Complex Transform.    \n",
    "        \n",
    "        Arguments :\n",
    "            incident : float - incident signal frequency [ epoch, terminus ] relative to Nyquist in [ -1.0, 1.0 ).\n",
    "            noise : float - incident signal deviation.\n",
    "            neutral : bool.\n",
    "            inverse : bool.\n",
    "    \"\"\"\n",
    "    \n",
    "    _, axes = matplotlib.pyplot.subplots( 1, 2, sharex = False, sharey = False, figsize = ( 18, 9 ) )\n",
    "\n",
    "    # Incident, Transform\n",
    "    \n",
    "    plot = [ ]\n",
    "    phase, length = numpy.random.rand( 1 )[ 0 ] - 0.5, 1024\n",
    "    x = ComplexExponentialFilter( phase ).filter( numpy.linspace( incident[ 0 ], incident[ 1 ], length ) )\n",
    "    q = numpy.random.rand( len( x ) ) - 0.5 + 1j * ( numpy.random.rand( len( x ) ) - 0.5 )\n",
    "    x += q * noise / q.std( )\n",
    "    n = numpy.linspace( 0.0, length - 1, length )\n",
    "    v = ComplexTransform.transform( x, neutral )\n",
    "    epoch, terminus, ii, jj = r'$Incident$', r'$Transform$', 0, 1\n",
    "    if ( inverse ) :\n",
    "        x = ComplexTransform.transform( v, neutral )\n",
    "        epoch, terminus, ii, jj = r'$Transform$', r'$Incident$', 1, 0\n",
    "    plot.append( axes[ ii ].plot( n, v[ 0, : ], color = [ 0.0, 0.0, 0.0 ], linewidth = 1.0 )[ 0 ] )\n",
    "    plot.append( axes[ ii ].plot( n, v[ 1, : ], color = [ 0.2, 0.2, 0.8 ], linewidth = 1.0 )[ 0 ] )\n",
    "    plot.append( axes[ ii ].plot( n, v[ 2, : ], color = [ 0.8, 0.2, 0.2 ], linewidth = 1.0 )[ 0 ] )\n",
    "    axes[ ii ].legend( plot, ( r'$x_{0,n}$', r'$x_{1,n}$', r'$x_{2,n}$' ), loc = 'upper right' )\n",
    "    label( axes[ ii ], epoch, r'$n$' )\n",
    "    plot = [ ]\n",
    "    v = numpy.exp( 1j * math.pi * numpy.linspace( 0, 2.0 * math.pi, length ) )\n",
    "    axes[ jj ].plot( [ -1.0, 1.0 ], [ 0.0, 0.0 ], color = [ 0.0, 0.0, 0.0 ], linewidth = 2.0 )\n",
    "    axes[ jj ].plot( [ 0.0, 0.0 ], [ -1.0, 1.0 ], color = [ 0.0, 0.0, 0.0 ], linewidth = 2.0 )\n",
    "    axes[ jj ].plot( v.real, v.imag, color = [ 0.0, 0.0, 0.0 ], linewidth = 2.0 )\n",
    "    axes[ jj ].plot( x.real, x.imag, color = [ 0.2, 0.2, 0.8 ], linewidth = 2.0 )\n",
    "    plot.append( axes[ jj ].plot( x[ 0 ].real, x[ 0 ].imag, linestyle = 'None', marker = 'o', markeredgecolor = [ 0.8, 0.2, 0.2 ], markeredgewidth = 2.0, markerfacecolor = [ 1.0, 1.0, 1.0 ], markersize = 8.0 )[ 0 ] )\n",
    "    plot.append( axes[ jj ].plot( x[ -1 ].real, x[ -1 ].imag, linestyle = 'None', marker = 'o', markeredgecolor = [ 0.0, 0.0, 0.0 ], markeredgewidth = 2.0, markerfacecolor = [ 1.0, 1.0, 1.0 ], markersize = 8.0 )[ 0 ] )\n",
    "    axes[ jj ].legend( plot, ( r'$x_{0}$', r'$x_{N-1}$' ), loc = 'upper right' )\n",
    "    label( axes[ jj ], terminus, r'$real$', r'$imag$' )\n",
    "    matplotlib.pyplot.show( )\n",
    "    "
   ]
  },
  {
   "cell_type": "code",
   "execution_count": 14,
   "metadata": {
    "scrolled": false
   },
   "outputs": [
    {
     "data": {
      "application/vnd.jupyter.widget-view+json": {
       "model_id": "2d9ce640a5ab4557938f73310c9215db",
       "version_major": 2,
       "version_minor": 0
      },
      "text/plain": [
       "interactive(children=(FloatRangeSlider(value=(0.1, 0.1), description='Incident', layout=Layout(width='420px'),…"
      ]
     },
     "metadata": {},
     "output_type": "display_data"
    }
   ],
   "source": [
    "@ipywidgets.interact( )\n",
    "def interface( incident = ipywidgets.FloatRangeSlider( description = 'Incident', value = [ 0.1, 0.1 ], min = -1.0, max = 0.99, step = 0.01, layout = { 'width' : '420px' } ),\n",
    "               noise = ipywidgets.FloatSlider( description = 'Noise', value = 0.0, min = 0.0, max = 0.5, step = 0.01, layout = { 'width' : '420px' } ),\n",
    "               frequency = ipywidgets.FloatSlider( description = 'Frequency', value = 0.1, min = -1.0, max = 0.999, step = 0.001, readout_format = '0.3f', layout = { 'width' : '420px' } ),\n",
    "               rate = ipywidgets.FloatSlider( description = 'Rate', value = 0.01, min = 0.0001, max = 1.0, step = 0.0001, readout_format = '0.4f', layout = { 'width' : '420px' } ) ) :\n",
    "\n",
    "    \"\"\" Complex Bandpass Filter.\n",
    "        \n",
    "        Arguments :\n",
    "            incident : float - incident signal frequency [ epoch, terminus ] relative to Nyquist in [ -1.0, 1.0 ).\n",
    "            noise : float - incident signal deviation.\n",
    "            frequency : float - relative to Nyquist in [ -1.0, 1.0 ).\n",
    "            rate : float.\n",
    "    \"\"\"\n",
    "    \n",
    "    _, axes = matplotlib.pyplot.subplots( 2, 2, sharex = False, sharey = False, figsize = ( 18, 18 ) )\n",
    "\n",
    "    # Coefficients\n",
    "    \n",
    "    complexbandpassfilter = ComplexBandPassFilter( frequency, rate )\n",
    "    phase, count, length = numpy.random.rand( 1 )[ 0 ] - 0.5, 128, 1024\n",
    "    x = ComplexExponentialFilter( phase ).filter( numpy.linspace( incident[ 0 ], incident[ 1 ], length ) )\n",
    "    q = numpy.random.rand( len( x ) ) - 0.5 + 1j * ( numpy.random.rand( len( x ) ) - 0.5 )\n",
    "    x += q * noise / q.std( )\n",
    "    y, e, b = complexbandpassfilter.filter( x )\n",
    "    n = numpy.linspace( 0.0, length - 1, length )\n",
    "    axes[ 0, 0 ].plot( n, numpy.zeros( length ), color = [ 0.0, 0.0, 0.0 ], linewidth = 2.0 )\n",
    "    axes[ 0, 0 ].plot( n, b.real, color = [ 0.2, 0.2, 0.8 ], linewidth = 1.0 )\n",
    "    axes[ 0, 0 ].plot( n, b.imag, color = [ 0.2, 0.2, 0.8 ], linewidth = 1.0 )\n",
    "    axes[ 0, 0 ].plot( n, abs( b ), color = [ 0.2, 0.2, 0.8 ], linewidth = 2.0 )\n",
    "    label( axes[ 0, 0 ], r'$Coefficients$', r'$n$', r'$b_{n}$' )\n",
    "\n",
    "    # Coefficients\n",
    "    \n",
    "    plot = [ ]\n",
    "    v = numpy.exp( 1j * math.pi * numpy.linspace( 0, 2.0 * math.pi, length ) )\n",
    "    axes[ 0, 1 ].plot( [ -1.0, 1.0 ], [ 0.0, 0.0 ], color = [ 0.0, 0.0, 0.0 ], linewidth = 2.0 )\n",
    "    axes[ 0, 1 ].plot( [ 0.0, 0.0 ], [ -1.0, 1.0 ], color = [ 0.0, 0.0, 0.0 ], linewidth = 2.0 )\n",
    "    axes[ 0, 1 ].plot( v.real, v.imag, color = [ 0.0, 0.0, 0.0 ], linewidth = 2.0 )\n",
    "    axes[ 0, 1 ].plot( b.real, b.imag, linestyle = 'None', marker = 'o', markeredgecolor = 'None', markeredgewidth = 2.0, markerfacecolor = [ 0.2, 0.2, 0.8 ], markersize = 4.0 )\n",
    "    plot.append( axes[ 0, 1 ].plot( b[ 0 ].real, b[ 0 ].imag, linestyle = 'None', marker = 'o', markeredgecolor = [ 0.2, 0.2, 0.8 ], markeredgewidth = 2.0, markerfacecolor = [ 1.0, 1.0, 1.0 ], markersize = 8.0 )[ 0 ] )\n",
    "    plot.append( axes[ 0, 1 ].plot( b[ -1 ].real, b[ -1 ].imag, linestyle = 'None', marker = 'o', markeredgecolor = [ 0.0, 0.0, 0.0 ], markeredgewidth = 2.0, markerfacecolor = [ 1.0, 1.0, 1.0 ], markersize = 8.0 )[ 0 ] )\n",
    "    axes[ 0, 1 ].legend( plot, ( r'$b_{0}$', r'$b_{N-1}$' ), loc = 'upper right' )    \n",
    "    label( axes[ 0, 1 ], r'$Coefficients$', r'$real$', r'$imag$' )\n",
    "    \n",
    "    # Response\n",
    "    \n",
    "    plot = [ ]\n",
    "    h, f = numpy.zeros( count ), numpy.linspace( max( incident[ 0 ] - 0.05, -1.0 ), min( incident[ 1 ] + 0.05, 1.0 - 2.0 / count ), count )\n",
    "    for ii in range( 0, len( f ) ) :\n",
    "        u = ComplexExponentialFilter( phase ).filter( numpy.ones( length ) * f[ ii ] )\n",
    "        complexbandpassfilter.reset( 0.0 )\n",
    "        v = complexbandpassfilter.filter( u )[ 0 ]\n",
    "        h[ ii ] = min( numpy.mean( abs( v[ -32 : -1 ] ) ), 1.0 )\n",
    "    h, k = 20.0 * numpy.log10( numpy.maximum( abs( h ), numpy.finfo( float ).eps ) ), 20.0 * numpy.log10( numpy.maximum( abs( 1.0 - h ), numpy.finfo( float ).eps ) )\n",
    "    axes[ 1, 0 ].plot( f, -3.0 * numpy.ones( len( h ) ), color = [ 0.0, 0.0, 0.0 ], linewidth = 2.0 )\n",
    "    plot.append( axes[ 1, 0 ].plot( f, h, color = [ 0.2, 0.2, 0.8 ], linewidth = 2.0 )[ 0 ] )\n",
    "    plot.append( axes[ 1, 0 ].plot( f, k, color = [ 0.8, 0.2, 0.2 ], linewidth = 2.0 )[ 0 ] )\n",
    "    axes[ 1, 0 ].plot( numpy.linspace( incident[ 0 ], incident[ 1 ], length ), numpy.zeros( length ), color = [ 0.0, 0.0, 0.0 ], linewidth = 8.0 )    \n",
    "    axes[ 1, 0 ].legend( plot, ( r'$y_{f}$', r'$e_{f}$' ), loc = 'upper right' )\n",
    "    label( axes[ 1, 0 ], r'$Response$', r'$f$', r'$H_{f}\\ dB$' )\n",
    "    \n",
    "    # Filter\n",
    "    \n",
    "    plot = [ ]\n",
    "    axes[ 1, 1 ].plot( n, x.real, color = [ 0.0, 0.0, 0.0 ], linewidth = 1.0 )\n",
    "    axes[ 1, 1 ].plot( n, y.real, color = [ 0.2, 0.2, 0.8 ], linewidth = 1.0 )\n",
    "    axes[ 1, 1 ].plot( n, e.real, color = [ 0.8, 0.2, 0.2 ], linewidth = 1.0 )\n",
    "    plot.append( axes[ 1, 1 ].plot( n, abs( x ), color = [ 0.0, 0.0, 0.0 ], linewidth = 2.0 )[ 0 ] )\n",
    "    plot.append( axes[ 1, 1 ].plot( n, abs( y ), color = [ 0.2, 0.2, 0.8 ], linewidth = 2.0 )[ 0 ] )\n",
    "    plot.append( axes[ 1, 1 ].plot( n, abs( e ), color = [ 0.8, 0.2, 0.2 ], linewidth = 2.0 )[ 0 ] )\n",
    "    axes[ 1, 1 ].legend( plot, ( r'$H_{x,f}$', r'$H_{y,f}$', r'$H_{e,f}$' ), loc = 'upper right' )\n",
    "    label( axes[ 1, 1 ], r'$Filter$', r'$n$' )\n",
    "    matplotlib.pyplot.show( )\n",
    "    "
   ]
  },
  {
   "cell_type": "code",
   "execution_count": 15,
   "metadata": {},
   "outputs": [
    {
     "data": {
      "application/vnd.jupyter.widget-view+json": {
       "model_id": "9c5329d268d8447a8f5ba2c4b09ac777",
       "version_major": 2,
       "version_minor": 0
      },
      "text/plain": [
       "interactive(children=(FloatRangeSlider(value=(-0.25, 0.75), description='Incident', layout=Layout(width='420px…"
      ]
     },
     "metadata": {},
     "output_type": "display_data"
    }
   ],
   "source": [
    "@ipywidgets.interact( )\n",
    "def interface( incident = ipywidgets.FloatRangeSlider( description = 'Incident', value = [ -0.25, 0.75 ], min = -1.0, max = 0.99, step = 0.01, layout = { 'width' : '420px' } ),\n",
    "               noise = ipywidgets.FloatSlider( description = 'Noise', value = 0.0, min = 0.0, max = 0.5, step = 0.01, layout = { 'width' : '420px' } ),               \n",
    "               frequency = ipywidgets.FloatSlider( description = 'Frequency', value = 0.0, min = -1.0, max = 0.999, step = 0.001, readout_format = '0.3f', layout = { 'width' : '420px' } ),\n",
    "               rate = ipywidgets.FloatSlider( description = 'Rate', value = 0.25, min = 0.001, max = 1.0, step = 0.001, readout_format = '0.3f', layout = { 'width' : '420px' } ) ) :\n",
    "\n",
    "    \"\"\" Complex Frequency Filter.    \n",
    "        \n",
    "        Arguments :\n",
    "            incident : float - incident signal frequency [ epoch, terminus ] relative to Nyquist in [ -1.0, 1.0 ).\n",
    "            noise : float - incident signal deviation.\n",
    "            frequency : float - relative to Nyquist in [ -1.0, 1.0 ).\n",
    "            rate : float.\n",
    "    \"\"\"\n",
    "   \n",
    "    _, axes = matplotlib.pyplot.subplots( 1, 2, sharex = False, sharey = False, figsize = ( 18, 9 ) )\n",
    "\n",
    "    # Coefficients\n",
    " \n",
    "    plot = [ ]\n",
    "    complexfrequencyfilter = ComplexFrequencyFilter( frequency, rate )\n",
    "    phase, length = numpy.random.rand( 1 )[ 0 ] - 0.5, 1024\n",
    "    f = numpy.linspace( incident[ 0 ], incident[ 1 ], length )\n",
    "    x = ComplexExponentialFilter( phase ).filter( f )\n",
    "    q = numpy.random.rand( len( x ) ) - 0.5 + 1j * ( numpy.random.rand( len( x ) ) - 0.5 )\n",
    "    x += q * noise / q.std( )\n",
    "    y, e, b = complexfrequencyfilter.filter( x )\n",
    "    n = numpy.linspace( 0.0, length - 1, length )\n",
    "    v = numpy.exp( 1j * math.pi * numpy.linspace( 0, 2.0 * math.pi, length ) )\n",
    "    axes[ 0 ].plot( [ -1.0, 1.0 ], [ 0.0, 0.0 ], color = [ 0.0, 0.0, 0.0 ], linewidth = 2.0 )\n",
    "    axes[ 0 ].plot( [ 0.0, 0.0 ], [ -1.0, 1.0 ], color = [ 0.0, 0.0, 0.0 ], linewidth = 2.0 )\n",
    "    axes[ 0 ].plot( v.real, v.imag, color = [ 0.0, 0.0, 0.0 ], linewidth = 0.5 )\n",
    "    axes[ 0 ].plot( b.real, b.imag, linestyle = 'None', marker = 'o', markeredgecolor = 'None', markeredgewidth = 2.0, markerfacecolor = [ 0.2, 0.2, 0.8 ], markersize = 4.0 )\n",
    "    plot.append( axes[ 0 ].plot( b[ 0 ].real, b[ 0 ].imag, linestyle = 'None', marker = 'o', markeredgecolor = [ 0.0, 0.0, 0.0 ], markerfacecolor = [ 1.0, 1.0, 1.0 ], markersize = 8.0 )[ 0 ] )\n",
    "    plot.append( axes[ 0 ].plot( b[ -1 ].real, b[ -1 ].imag, linestyle = 'None', marker = 'o', markeredgecolor = [ 0.0, 0.0, 0.0 ], markerfacecolor = [ 1.0, 1.0, 1.0 ], markersize = 8.0 )[ 0 ] )\n",
    "    axes[ 0 ].legend( plot, ( r'$b_0$', r'$b_{N-1}$' ), loc = 'upper right' )\n",
    "    label( axes[ 0 ], r'$Coefficients$', r'$real$', r'$imag$' )\n",
    "    \n",
    "    # Filter\n",
    "    \n",
    "    plot = [ ]\n",
    "    axes[ 1 ].plot( n, numpy.maximum( numpy.minimum( e.real, 1.0 ), -1.0 ), color = [ 0.8, 0.2, 0.2 ], linewidth = 1.0 )\n",
    "    plot.append( axes[ 1 ].plot( n, f, color = [ 0.0, 0.0, 0.0 ], linewidth = 2.0 )[ 0 ] )\n",
    "    plot.append( axes[ 1 ].plot( n, y, color = [ 0.2, 0.2, 0.8 ], linewidth = 2.0 )[ 0 ] )\n",
    "    plot.append( axes[ 1 ].plot( n, abs( e ), color = [ 0.8, 0.2, 0.2 ], linewidth = 2.0 )[ 0 ] )\n",
    "    axes[ 1 ].legend( plot, ( r'$f_{x,n}$', r'$y_n$', r'$e_n$' ), loc = 'upper right' )\n",
    "    label( axes[ 1 ], r'$Filter$', r'$n$', r'$f_n$' )\n",
    "    matplotlib.pyplot.show( )\n",
    "    "
   ]
  },
  {
   "cell_type": "code",
   "execution_count": 16,
   "metadata": {},
   "outputs": [
    {
     "data": {
      "application/vnd.jupyter.widget-view+json": {
       "model_id": "756eff8a8299476bbdbbd7adb0e021c0",
       "version_major": 2,
       "version_minor": 0
      },
      "text/plain": [
       "interactive(children=(FloatRangeSlider(value=(0.1, 0.1), description='Incident', layout=Layout(width='420px'),…"
      ]
     },
     "metadata": {},
     "output_type": "display_data"
    }
   ],
   "source": [
    "@ipywidgets.interact( )\n",
    "def interface( incident = ipywidgets.FloatRangeSlider( description = 'Incident', value = [ 0.1, 0.1 ], min = -1.0, max = 0.99, step = 0.01, layout = { 'width' : '420px' } ),\n",
    "               noise = ipywidgets.FloatSlider( description = 'Noise', value = 0.01, min = 0.0, max = 0.5, step = 0.01, layout = { 'width' : '420px' } ),\n",
    "               style = ipywidgets.Dropdown( description = 'Style', value = 'Hann', options = [ 'Blackman', 'Hamming', 'Hann', 'Kaiser' ], layout = { 'width' : '340px' } ),\n",
    "               order = ipywidgets.IntSlider( description = 'Order', value = 1023, min = 1, max = 4096, step = 1, layout = { 'width' : '420px' } ),\n",
    "               normal = ipywidgets.IntSlider( description = 'Normal', value = True, min = False, max = True, layout = { 'width' : '420px' } ),              \n",
    "               index = ipywidgets.IntSlider( description = 'Index', value = 64, min = 1, max = 4096, step = 1, layout = { 'width' : '420px' } ) ) :\n",
    "\n",
    "    \"\"\" Fourier Transform, Power Spectrum Transform, Window Filter.    \n",
    "        \n",
    "        Arguments :\n",
    "            incident : float - incident signal frequency [ epoch, terminus ] relative to Nyquist in [ -1.0, 1.0 ).\n",
    "            noise : float - incident signal deviation.\n",
    "            style : str - in ( 'Blackman', 'Hamming', 'Hann', 'Kaiser' ).\n",
    "            normal : bool.\n",
    "            index : int.\n",
    "    \"\"\"\n",
    "    \n",
    "    index = int( min( index, order + 1 ) )\n",
    "    windowfilter = WindowFilter( style, order, normal )\n",
    "    indexfilter = WindowFilter( style, order // 2, normal )\n",
    "    widget = [ ipywidgets.Dropdown( description = 'b', value = str( windowfilter.b[ 0 ] ), options = [ str( x ) for x in windowfilter.b ], layout = { 'width' : '340px' } ) ]\n",
    "    display( ipywidgets.VBox( children = widget, layout = ipywidgets.Layout( display = 'flex', flex_flow = 'row' ) ) )\n",
    "    _, axes = matplotlib.pyplot.subplots( 1, 2, sharex = False, sharey = False, figsize = ( 18, 9 ) )\n",
    "    \n",
    "    # Filter\n",
    "\n",
    "    plot = [ ]\n",
    "    phase, length = numpy.random.rand( 1 )[ 0 ] - 0.5, order + 1\n",
    "    x = ComplexExponentialFilter( phase ).filter( numpy.linspace( incident[ 0 ], incident[ 1 ], length ) )\n",
    "    q = numpy.random.rand( len( x ) ) - 0.5 + 1j * ( numpy.random.rand( len( x ) ) - 0.5 )\n",
    "    x += q * noise / q.std( )\n",
    "    n = numpy.linspace( 0.0, length - 1, length )\n",
    "    h, f = FourierTransform.transform( x, windowfilter.b, False )\n",
    "    k, g = PowerSpectrumTransform.transform( x, indexfilter.b, index )\n",
    "    h, k = 20.0 * numpy.log10( numpy.maximum( abs( h ), numpy.finfo( float ).eps ) ), 20.0 * numpy.log10( numpy.maximum( abs( k ), numpy.finfo( float ).eps ) )\n",
    "    axes[ 0 ].plot( n, numpy.zeros( order + 1 ), color = [ 0.0, 0.0, 0.0 ], linewidth = 2.0 )\n",
    "    plot.append( axes[ 0 ].plot( n, windowfilter.b, color = [ 0.2, 0.2, 0.8 ], linewidth = 2.0 )[ 0 ] ) \n",
    "    plot.append( axes[ 0 ].plot( n, ( windowfilter.b * x ).real, color = [ 0.2, 0.2, 0.8 ], linewidth = 1.0 )[ 0 ] ) \n",
    "    axes[ 0 ].plot( n, ( windowfilter.b * x ).imag, color = [ 0.2, 0.2, 0.8 ], linewidth = 1.0 ) \n",
    "    axes[ 0 ].legend( plot, ( r'$\\vec{b_{n}}$', r'$x_{n}$' ), loc = 'upper right' )\n",
    "    label( axes[ 0 ], r'$Filter$', r'$n$' )\n",
    "\n",
    "    # Transform\n",
    "    \n",
    "    plot = [ ]\n",
    "    axes[ 1 ].plot( f, -3.0 * numpy.ones( len( h ) ), 'k' )\n",
    "    plot.append( axes[ 1 ].plot( f, h, color = [ 0.2, 0.2, 0.8 ], linewidth = 2.0 )[ 0 ] )\n",
    "    plot.append( axes[ 1 ].plot( g, k, color = [ 0.8, 0.2, 0.2 ], linewidth = 2.0 )[ 0 ] )\n",
    "    axes[ 1 ].plot( numpy.linspace( incident[ 0 ], incident[ 1 ], length ), numpy.zeros( length ), color = [ 0.0, 0.0, 0.0 ], linewidth = 8.0 )    \n",
    "    axes[ 1 ].legend( plot, ( r'$H^{F}_{x,f}$', r'$H^{P}_{x,f}$' ), loc = 'upper right' )\n",
    "    label( axes[ 1 ], r'$Transform$', r'$f$', r'$H_{f}\\ dB$' )\n",
    "    matplotlib.pyplot.show( )\n",
    "    "
   ]
  },
  {
   "cell_type": "code",
   "execution_count": 17,
   "metadata": {},
   "outputs": [
    {
     "data": {
      "application/vnd.jupyter.widget-view+json": {
       "model_id": "ce835201c0f246859359688c32430960",
       "version_major": 2,
       "version_minor": 0
      },
      "text/plain": [
       "interactive(children=(FloatRangeSlider(value=(-0.1, 0.15), description='Incident', layout=Layout(width='420px'…"
      ]
     },
     "metadata": {},
     "output_type": "display_data"
    }
   ],
   "source": [
    "@ipywidgets.interact( )\n",
    "def interface( incident = ipywidgets.FloatRangeSlider( description = 'Incident', value = [ -0.1, 0.15 ], min = -1.0, max = 0.99, step = 0.01, layout = { 'width' : '420px' } ),\n",
    "               noise = ipywidgets.FloatSlider( description = 'Noise', value = 0.0, min = 0.0, max = 0.5, step = 0.01, layout = { 'width' : '420px' } ),\n",
    "               style = ipywidgets.Dropdown( description = 'Style', value = 'Hann', options = [ 'Blackman', 'Hamming', 'Hann', 'Kaiser' ], layout = { 'width' : '340px' } ),\n",
    "               order = ipywidgets.IntSlider( description = 'Order', value = 1023, min = 1, max = 4096, step = 1, layout = { 'width' : '420px' } ),\n",
    "               normal = ipywidgets.IntSlider( description = 'Normal', value = True, min = False, max = True, layout = { 'width' : '420px' } ),\n",
    "               frequency = ipywidgets.FloatSlider( description = 'Frequency', value = 0.1, min = -1.0, max = 0.999, step = 0.001, readout_format = '0.3f', layout = { 'width' : '420px' } ) ) :\n",
    "\n",
    "    \"\"\" Goertzel Filter, Window Filter.\n",
    "        \n",
    "        Arguments :        \n",
    "            incident : float - incident signal frequency [ epoch, terminus ] relative to Nyquist in [ -1.0, 1.0 ).\n",
    "            noise : float - incident signal deviation.\n",
    "            order : int.\n",
    "            normal : bool.\n",
    "            frequency : float - relative to Nyquist in [ -1.0, 1.0 ).\n",
    "    \"\"\"\n",
    "    \n",
    "    windowfilter = WindowFilter( style, order, normal )\n",
    "    goertzelfilter = GoertzelFilter( windowfilter.b, frequency )\n",
    "    widget = [ ipywidgets.Dropdown( description = 'a', value = str( goertzelfilter.a[ 0 ] ), options = [ str( x ) for x in goertzelfilter.a ], layout = { 'width' : '340px' } ),\n",
    "               ipywidgets.Dropdown( description = 'b', value = str( goertzelfilter.b[ 0 ] ), options = [ str( x ) for x in goertzelfilter.b ], layout = { 'width' : '340px' } ) ]\n",
    "    display( ipywidgets.VBox( children = widget, layout = ipywidgets.Layout( display = 'flex', flex_flow = 'row' ) ) )\n",
    "    _, axes = matplotlib.pyplot.subplots( 1, 2, sharex = False, sharey = False, figsize = ( 18, 9 ) )\n",
    "    \n",
    "    # Incident\n",
    "    \n",
    "    plot = [ ]\n",
    "    phase, length = numpy.random.rand( 1 )[ 0 ] - 0.5, ( order + 1 ) * 32\n",
    "    f = numpy.linspace( incident[ 0 ], incident[ 1 ], length )\n",
    "    x = ComplexExponentialFilter( phase ).filter( f )\n",
    "    q = numpy.random.rand( len( x ) ) - 0.5 + 1j * ( numpy.random.rand( len( x ) ) - 0.5 )\n",
    "    x += q * noise / q.std( )\n",
    "    h = goertzelfilter.filter( x )\n",
    "    h = 20.0 * numpy.log10( numpy.maximum( abs( h ), numpy.finfo( float ).eps ) )\n",
    "    n = numpy.linspace( 0.0, len( h ) - 1, len( h ) )\n",
    "    v = numpy.exp( 1j * math.pi * numpy.linspace( 0, 2.0 * math.pi, length ) )\n",
    "    axes[ 0 ].plot( [ -1.0, 1.0 ], [ 0.0, 0.0 ], color = [ 0.0, 0.0, 0.0 ], linewidth = 2.0 )\n",
    "    axes[ 0 ].plot( [ 0.0, 0.0 ], [ -1.0, 1.0 ], color = [ 0.0, 0.0, 0.0 ], linewidth = 2.0 )\n",
    "    axes[ 0 ].plot( v.real, v.imag, color = [ 0.0, 0.0, 0.0 ], linewidth = 1.0 )\n",
    "    axes[ 0 ].plot( x.real, x.imag, color = [ 0.2, 0.2, 0.8 ], linewidth = 1.0 )\n",
    "    plot.append( axes[ 0 ].plot( x[ 0 ].real, x[ 0 ].imag, linestyle = 'None', marker = 'o', markeredgecolor = [ 0.8, 0.2, 0.2 ], markeredgewidth = 2.0, markerfacecolor = [ 1.0, 1.0, 1.0 ], markersize = 8.0 )[ 0 ] )\n",
    "    plot.append( axes[ 0 ].plot( x[ -1 ].real, x[ -1 ].imag, linestyle = 'None', marker = 'o', markeredgecolor = [ 0.0, 0.0, 0.0 ], markeredgewidth = 2.0, markerfacecolor = [ 1.0, 1.0, 1.0 ], markersize = 8.0 )[ 0 ] )\n",
    "    axes[ 0 ].legend( plot, ( r'$x_{0}$', r'$x_{N-1}$' ), loc = 'upper right' )\n",
    "    label( axes[ 0 ], r'$Incident$', r'$real$', r'$imag$' )\n",
    "\n",
    "    # Filter\n",
    "    \n",
    "    axes[ 1 ].plot( n, h, color = [ 0.2, 0.2, 0.8 ], linewidth = 2.0 )\n",
    "    label( axes[ 1 ], r'$Filter$', r'$n$', r'$H_{f,n}\\ dB$' )\n",
    "    matplotlib.pyplot.show( )\n",
    "    "
   ]
  },
  {
   "cell_type": "code",
   "execution_count": 18,
   "metadata": {},
   "outputs": [
    {
     "data": {
      "application/vnd.jupyter.widget-view+json": {
       "model_id": "ed9ccdce7a8941b4a40d23522dc6dd15",
       "version_major": 2,
       "version_minor": 0
      },
      "text/plain": [
       "interactive(children=(FloatSlider(value=0.25, description='Noise', layout=Layout(width='420px'), max=0.5, step…"
      ]
     },
     "metadata": {},
     "output_type": "display_data"
    }
   ],
   "source": [
    "@ipywidgets.interact( )\n",
    "def interface( noise = ipywidgets.FloatSlider( description = 'Noise', value = 0.25, min = 0.0, max = 0.5, step = 0.01, layout = { 'width' : '420px' } ),\n",
    "               style = ipywidgets.Dropdown( description = 'Style', value = 'Euclidean', options = [ 'Chebyshev', 'Euclidean', 'Geometric', 'Manhattan' ], layout = { 'width' : '340px' } ),\n",
    "               order = ipywidgets.IntSlider( description = 'Order', value = 4, min = 2, max = 64, step = 1, layout = { 'width' : '420px' } ) ) :\n",
    "\n",
    "    \"\"\" Diversity Model.    \n",
    "        \n",
    "        Arguments :\n",
    "            noise : float - incident signal deviation.\n",
    "            style : str - in ( 'Chebyshev', 'Euclidean', 'Geometric', 'Manhattan' ).\n",
    "            order : int.\n",
    "    \"\"\"\n",
    "\n",
    "    _, axes = matplotlib.pyplot.subplots( 1, 2, sharex = False, sharey = False, figsize = ( 18, 9 ) )\n",
    "\n",
    "    # Diversity\n",
    "    \n",
    "    diversitymodel = DiversityModel( style, order )\n",
    "    length = 1024\n",
    "    n = numpy.linspace( 0.0, length - 1, length )\n",
    "    x = numpy.concatenate( ( [ numpy.polyval( numpy.random.rand( 2 ), n ) ], [ numpy.polyval( numpy.random.rand( 3 ), n ) + numpy.random.rand( 1 )[ 0 ] - 0.5 ] ) )\n",
    "    x = ( x.T / x.std( 1 ) ).T\n",
    "    q = numpy.random.rand( x.shape[ 0 ], x.shape[ 1 ] ) - 0.5\n",
    "    x += ( q.T * noise / q.std( 1 ) ).T\n",
    "    d = diversitymodel.model( x )\n",
    "    p = numpy.polyfit( diversitymodel.s[ 0, : ], diversitymodel.s[ 1, : ], 2 )\n",
    "    y = numpy.polyval( p, x[ 0, : ] )\n",
    "    axes[ 0 ].plot( n, d, color = [ 0.2, 0.2, 0.8 ], linewidth = 2.0 )\n",
    "    label( axes[ 0 ], r'$Diversity$', r'$n$', r'$d_{n}$' )\n",
    "    \n",
    "    # Model\n",
    "    \n",
    "    plot = [ ]\n",
    "    ii = numpy.argsort( x[ 0, : ] )\n",
    "    plot.append( axes[ 1 ].plot( x[ 0, ii ], x[ 1, ii ], linestyle = 'None', marker = 'o', markeredgecolor = 'None', markeredgewidth = 2.0, markerfacecolor = [ 0.2, 0.2, 0.8 ], markersize = 4.0 )[ 0 ] )\n",
    "    plot.append( axes[ 1 ].plot( x[ 0, ii ], y[ ii ], linestyle = 'None', marker = 'o', markeredgecolor = 'None', markeredgewidth = 2.0, markerfacecolor = [ 0.8, 0.2, 0.2 ], markersize = 4.0 )[ 0 ] )\n",
    "    plot.append( axes[ 1 ].plot( diversitymodel.s[ 0, : ], diversitymodel.s[ 1, : ], linestyle = 'None', marker = 'o', markeredgecolor = [ 0.8, 0.2, 0.2 ], markeredgewidth = 2.0, markerfacecolor = 'None', markersize = 8.0 )[ 0 ] )\n",
    "    axes[ 1 ].legend( plot, ( r'$x_{n}$', r'$y_{2,n}$', r'$s_{N-1}$' ), loc = 'upper right' )\n",
    "    label( axes[ 1 ], r'$Model$', r'$x_{0,n}$', r'$x_{1,n}$' )\n",
    "    matplotlib.pyplot.show( )\n",
    "    "
   ]
  },
  {
   "cell_type": "code",
   "execution_count": 19,
   "metadata": {},
   "outputs": [
    {
     "data": {
      "application/vnd.jupyter.widget-view+json": {
       "model_id": "a1676d8b9242416aafa88ae3773cec9f",
       "version_major": 2,
       "version_minor": 0
      },
      "text/plain": [
       "interactive(children=(FloatSlider(value=0.05, description='Noise', layout=Layout(width='420px'), max=0.5, step…"
      ]
     },
     "metadata": {},
     "output_type": "display_data"
    }
   ],
   "source": [
    "@ipywidgets.interact( )\n",
    "def interface( noise = ipywidgets.FloatSlider( description = 'Noise', value = 0.05, min = 0.0, max = 0.5, step = 0.01, layout = { 'width' : '420px' } ) ) :\n",
    "\n",
    "    \"\"\" Principal Component Model.    \n",
    "        \n",
    "        Arguments :\n",
    "            noise : float - incident signal deviation.\n",
    "    \"\"\"\n",
    "        \n",
    "    length, valid = 1024, False\n",
    "    while ( not valid ) :\n",
    "        principalcomponentmodel = PrincipalComponentModel( )\n",
    "        x = numpy.random.rand( 3, length ) - 0.5\n",
    "        for _ in range( 0, 2 ) :\n",
    "            jj = [ int( numpy.random.rand( ) * length * 0.5 ) ]\n",
    "            jj += [ jj[ 0 ] + int( numpy.random.rand( ) * ( length - jj[ 0 ] - 1 ) ) + 1 ]\n",
    "            jj = range( jj[ 0 ], jj[ 1 ] )\n",
    "            x[ 0, jj ] += ( numpy.random.rand( ) - 0.5 ) * numpy.linspace( 0, len( jj ) - 1, len( jj ) ) * 10.0\n",
    "            x[ 2, jj ] += ( numpy.random.rand( ) - 0.5 ) * x[ 0, jj ] + ( numpy.random.rand( ) - 0.5 ) * 10.0\n",
    "        x = ( x.T / x.std( 1 ) ).T\n",
    "        q = numpy.random.rand( x.shape[ 0 ], x.shape[ 1 ] ) - 0.5\n",
    "        x += ( q.T * noise / q.std( 1 ) ).T\n",
    "        x = ( x.T * ( numpy.random.rand( 3 ) + 1.0 ) + numpy.random.rand( 3 ) ).T\n",
    "        y = principalcomponentmodel.model( x )\n",
    "        valid = ( ( numpy.argsort( principalcomponentmodel.eigenvalue ) == numpy.array( [ 1, 2, 0 ] ) ) ).all( )\n",
    "    widget = [ ipywidgets.Dropdown( description = 'mean', value = str( principalcomponentmodel.mean[ 0 ] ), options = [ str( x ) for x in principalcomponentmodel.mean ], layout = { 'width' : '340px' } ),\n",
    "               ipywidgets.Dropdown( description = 'eigenvalue', value = str( principalcomponentmodel.eigenvalue[ 0 ] ), options = [ str( x ) for x in principalcomponentmodel.eigenvalue ], layout = { 'width' : '340px' } ) ]\n",
    "    display( ipywidgets.VBox( children = widget, layout = ipywidgets.Layout( display = 'flex', flex_flow = 'row' ) ) )    \n",
    "    widget = [ ipywidgets.Dropdown( description = 'deviation', value = str( principalcomponentmodel.deviation[ 0 ] ), options = [ str( x ) for x in principalcomponentmodel.deviation ], layout = { 'width' : '340px' } ), \n",
    "               ipywidgets.Dropdown( description = 'eigenvector', value = '  '.join( [ f'{x:1.5f}' for x in principalcomponentmodel.eigenvector[ 0, : ] ] ), options = [ '  '.join( [ f'{x:1.5f}' for x in principalcomponentmodel.eigenvector[ ii, : ] ] ) for ii in range( 0, 3 ) ], layout = { 'width' : '340px' } ) ]\n",
    "    display( ipywidgets.VBox( children = widget, layout = ipywidgets.Layout( display = 'flex', flex_flow = 'row' ) ) )\n",
    "    _, axes = matplotlib.pyplot.subplots( 1, 2, sharex = False, sharey = False, figsize = ( 18, 9 ) )\n",
    "    \n",
    "    # Incident\n",
    "    \n",
    "    axes[ 0 ].plot( [ min( x[ 0, : ] ), max( x[ 0, : ] ) ], [ principalcomponentmodel.mean[ 2 ], principalcomponentmodel.mean[ 2 ] ], color = [ 0.0, 0.0, 0.0 ], linewidth = 2.0 )\n",
    "    axes[ 0 ].plot( [ principalcomponentmodel.mean[ 0 ], principalcomponentmodel.mean[ 0 ] ], [ min( x[ 2, : ] ), max( x[ 2, : ] ) ], color = [ 0.0, 0.0, 0.0 ], linewidth = 2.0 )\n",
    "    axes[ 0 ].plot( x[ 0, : ], x[ 2, : ], linestyle = 'None', marker = 'o', markeredgecolor = 'None', markeredgewidth = 2.0, markerfacecolor = [ 0.2, 0.2, 0.8 ], markersize = 4.0 )\n",
    "    axes[ 0 ].plot( [ principalcomponentmodel.mean[ 0 ], principalcomponentmodel.mean[ 0 ] + principalcomponentmodel.eigenvector[ 0, 0 ] ], [ principalcomponentmodel.mean[ 2 ], principalcomponentmodel.mean[ 2 ] + principalcomponentmodel.eigenvector[ 0, 2 ] ], color = [ 0.8, 0.2, 0.2 ], linewidth = 2.0 )\n",
    "    axes[ 0 ].plot( principalcomponentmodel.mean[ 0 ], principalcomponentmodel.mean[ 2 ], linestyle = 'None', marker = 'o', markeredgecolor = [ 0.8, 0.2, 0.2 ], markeredgewidth = 2.0, markerfacecolor = [ 1.0, 1.0, 1.0 ], markersize = 8.0 )\n",
    "    axes[ 0 ].plot( principalcomponentmodel.mean[ 0 ] + principalcomponentmodel.eigenvector[ 0, 0 ], principalcomponentmodel.mean[ 2 ] + principalcomponentmodel.eigenvector[ 0, 2 ], linestyle = 'None', marker = 's', markeredgecolor = [ 0.8, 0.2, 0.2 ], markeredgewidth = 2.0, markerfacecolor = [ 1.0, 1.0, 1.0 ], markersize = 8.0 )\n",
    "    label( axes[ 0 ], r'$Incident$', r'$x_{0,n}$', r'$x_{2,n}$' )\n",
    "\n",
    "    # Model\n",
    "    \n",
    "    axes[ 1 ].plot( [ 0.0, 0.0 ], [ min( y[ 1, : ] ) * 2.0, max( y[ 1, : ] ) * 2.0 ], color = [ 0.0, 0.0, 0.0 ], linewidth = 2.0 )\n",
    "    axes[ 1 ].plot( [ min( y[ 0, : ] ), max( y[ 0, : ] ) ], [ 0.0, 0.0 ], color = [ 0.0, 0.0, 0.0 ], linewidth = 2.0 )\n",
    "    axes[ 1 ].plot( [ 0.0, 0.0 ], [ min( y[ 1, : ] ) * 2.0, max( y[ 1, : ] ) * 2.0 ], color = [ 0.0, 0.0, 0.0 ], linewidth = 2.0 )\n",
    "    axes[ 1 ].plot( y[ 0, : ], y[ 1, : ], linestyle = 'None', marker = 'o', markeredgecolor = 'None', markeredgewidth = 2.0, markerfacecolor = [ 0.8, 0.2, 0.2 ], markersize = 4.0 )\n",
    "    label( axes[ 1 ], r'$Model$', r'$y_{0,i}$', r'$y_{1,n}$' )\n",
    "    matplotlib.pyplot.show( )\n",
    "    "
   ]
  },
  {
   "cell_type": "code",
   "execution_count": 20,
   "metadata": {
    "scrolled": false
   },
   "outputs": [
    {
     "data": {
      "application/vnd.jupyter.widget-view+json": {
       "model_id": "bbd16ba415d040b186fc8d7398d46ebe",
       "version_major": 2,
       "version_minor": 0
      },
      "text/plain": [
       "interactive(children=(Dropdown(description='Incident', index=1, layout=Layout(width='340px'), options=('Burnin…"
      ]
     },
     "metadata": {},
     "output_type": "display_data"
    }
   ],
   "source": [
    "@ipywidgets.interact( )\n",
    "def interface( incident = ipywidgets.Dropdown( description = 'Incident', value = 'Drac Isere', options = [ 'Burning Eye', 'Drac Isere', 'Kali', 'Lionfish', 'Porsche', 'Riley' ], layout = { 'width' : '340px' } ),\n",
    "               style = ipywidgets.Dropdown( description = 'Style', value = 'Haar', options = [ 'Coiflet', 'Daubechies', 'Haar', 'Symmlet' ], layout = { 'width' : '340px' } ),\n",
    "               order = ipywidgets.IntSlider( description = 'Order', value = 1, min = 1, max = 29, step = 1, layout = { 'width' : '420px' } ),\n",
    "               count = ipywidgets.IntSlider( description = 'Count', value = 2, min = 1, max = 4, step = 1, layout = { 'width' : '420px' } ),\n",
    "               inverse = ipywidgets.IntSlider( description = 'Inverse', value = False, min = False, max = True, layout = { 'width' : '420px' } ) ) :\n",
    "\n",
    "    \"\"\" Wavelet Transform.\n",
    "       \n",
    "        Arguments :\n",
    "            incident : str - incident image in ( 'Burning Eye', Drac Isere', 'Kali', 'Lionfish', Porsche', 'Riley' ).\n",
    "            style : str - in ( 'Coiflet', 'Daubechies', 'Haar', 'Symmlet' ).\n",
    "            order : int.\n",
    "            count : int.\n",
    "            inverse : bool.\n",
    "    \"\"\"\n",
    "    \n",
    "    _order = { 'Coiflet' : numpy.array( [ 5, 11, 17, 23, 29 ] ),\n",
    "               'Daubechies' : numpy.array( [ 3, 5, 7, 9, 11, 13, 15, 17, 19 ] ),\n",
    "               'Haar' : numpy.array( [ 1 ] ),\n",
    "               'Symmlet' : numpy.array( [ 7, 9, 11, 13, 15, 17, 19 ] ) }\n",
    "    if ( order not in _order[ style ] ) :\n",
    "        Log.write( 'ERROR', f'style = {style} Order = {str( _order[ style ] ).replace( \"[\", \"[ \" ).replace( \"]\", \" ]\" )}' )\n",
    "        return\n",
    "    wavelettransform = WaveletTransform( style, order )\n",
    "    b = wavelettransform.b[ inverse ]\n",
    "    widget = [ ipywidgets.Dropdown( description = 'b,l', value = str( b[ 0 ][ 0 ] ), options = [ str( x ) for x in b[ 0 ] ], layout = { 'width' : '340px' } ),\n",
    "               ipywidgets.Dropdown( description = 'b,h', value = str( b[ 1 ][ 0 ] ), options = [ str( x ) for x in b[ 1 ] ], layout = { 'width' : '340px' } ) ]\n",
    "    display( ipywidgets.VBox( children = widget, layout = ipywidgets.Layout( display = 'flex', flex_flow = 'row' ) ) )\n",
    "    _, axes = matplotlib.pyplot.subplots( 2, 2, sharex = False, sharey = False, figsize = ( 18, 18 ) )\n",
    "\n",
    "    # Coefficients\n",
    "    \n",
    "    plot = [ ]\n",
    "    x = Image.open( incident + '.png' ).convert( 'F' )\n",
    "    cols, rows = x.size\n",
    "    if ( ( rows % ( 2 ** count ) ) or ( cols % ( 2 ** count ) ) ) :\n",
    "        Log.write( 'ERROR', f'Rows = {rows} Columns = {cols} Count = {count}' )\n",
    "        return\n",
    "    x = list( x.getdata( ) )\n",
    "    x = numpy.array( [ x[ ii : ii + cols ] for ii in range( 0, rows * cols, cols ) ], 'float' )\n",
    "    y = wavelettransform.transform( x, count, False )    \n",
    "    if ( inverse ) :\n",
    "        x, y = y, wavelettransform.transform( y, count, True )\n",
    "        u, v = y, x\n",
    "    else :\n",
    "        u, v = x, y\n",
    "    u[ :, : ] = ( u - u.min( ) ) * 255.0 / ( u.max( ) - u.min( ) )\n",
    "    cols, rows = x.shape[ 1 ] // ( 2 ** count ), x.shape[ 0 ] // ( 2 ** count )\n",
    "    q, v[ :, : ] = v[ : rows, : cols ], ( v - v[ rows :, cols : ].min( ) ) * 255.0 / ( v[ rows :, cols : ].max( ) - v[ rows :, cols : ].min( ) )\n",
    "    v[ : rows, : cols ] = ( q - q.min( ) ) * 255.0 / ( q.max( ) - q.min( ) )\n",
    "    n = numpy.linspace( 0, order, order + 1 )\n",
    "    color = matplotlib.pyplot.get_cmap( 'gray' )\n",
    "    axes[ 0, 0 ].plot( n, numpy.zeros( order + 1 ), color = [ 0.0, 0.0, 0.0 ], linewidth = 2.0 )\n",
    "    axes[ 0, 0 ].bar( n, b[ 0 ], color = [ 0.2, 0.2, 0.8 ], width = 0.006 * ( order + 1 ) )\n",
    "    plot.append( axes[ 0, 0 ].plot( n, b[ 0 ], linestyle = 'None', marker = 'o', markeredgecolor = [ 0.2, 0.2, 0.8 ], markeredgewidth = 2.0, markerfacecolor = [ 1.0, 1.0, 1.0 ], markersize = 8.0 )[ 0 ] )\n",
    "    axes[ 0, 0 ].bar( n, b[ 1 ], 0.005 * ( order + 1 ), color = [ 0.8, 0.2, 0.2 ] )\n",
    "    plot.append( axes[ 0, 0 ].plot( n, b[ 1 ], linestyle = 'None', marker = 'o', markeredgecolor = [ 0.8, 0.2, 0.2 ], markeredgewidth = 2.0, markerfacecolor = [ 1.0, 1.0, 1.0 ], markersize = 8.0 )[ 0 ] )\n",
    "    axes[ 0, 0 ].legend( plot, ( r'$\\vec{b_{L,n}}$', r'$\\vec{b_{H,n}}$' ), loc = 'upper right' )    \n",
    "    label( axes[ 0, 0 ], r'$Coefficients$', r'$n$' )\n",
    "    \n",
    "    # Response\n",
    "    \n",
    "    plot = [ ]\n",
    "    h, f = FirFilter( b = b[ 0 ] ).response( )\n",
    "    g, f = FirFilter( b = b[ 1 ] ).response( )    \n",
    "    h = 20.0 * numpy.log10( numpy.maximum( abs( h ), numpy.finfo( float ).eps ) )\n",
    "    g = 20.0 * numpy.log10( numpy.maximum( abs( g ), numpy.finfo( float ).eps ) )    \n",
    "    axes[ 0, 1 ].plot( f, -3.0 * numpy.ones( len( h ) ), color = [ 0.0, 0.0, 0.0 ], linewidth = 2.0 )\n",
    "    axes[ 0, 1 ].plot( [ -0.5, 0.5 ], [ -3.0, -3.0 ], linestyle = 'None', marker = 'o', markeredgecolor = [ 0.8, 0.2, 0.2 ], markeredgewidth = 2.0, markerfacecolor = 'None', markersize = 8.0 )\n",
    "    plot.append( axes[ 0, 1 ].plot( f, h, color = [ 0.2, 0.2, 0.8 ], linewidth = 2.0 )[ 0 ] )\n",
    "    plot.append( axes[ 0, 1 ].plot( f, g, color = [ 0.8, 0.2, 0.2 ], linewidth = 2.0 )[ 0 ] )\n",
    "    axes[ 0, 1 ].legend( plot, ( r'$H_{L,f}$', r'$H_{H,f}$' ), loc = 'upper right' )\n",
    "    label( axes[ 0, 1 ], r'$Response$', r'$f$', r'$H_f\\ dB$' )\n",
    "    \n",
    "    # Incident\n",
    "    \n",
    "    axes[ 1, 0 ].imshow( x, cmap = color )\n",
    "    label( axes[ 1, 0 ], r'$Incident$', r'$col$', r'$row$', False )\n",
    "\n",
    "    # Transform\n",
    "    \n",
    "    axes[ 1, 1 ].imshow( y, cmap = color )\n",
    "    label( axes[ 1, 1 ], r'$Transform$', r'$col$', r'$row$', False )\n",
    "    matplotlib.pyplot.show( )\n",
    "    "
   ]
  }
 ],
 "metadata": {
  "interpreter": {
   "hash": "ad592487fa1b3171a19a96e2180b9f2109de37280faafd2a3d388e90cb6cb929"
  },
  "kernelspec": {
   "display_name": "Python 3.9.6 64-bit ('.venv': venv)",
   "name": "python3"
  },
  "language_info": {
   "codemirror_mode": {
    "name": "ipython",
    "version": 3
   },
   "file_extension": ".py",
   "mimetype": "text/x-python",
   "name": "python",
   "nbconvert_exporter": "python",
   "pygments_lexer": "ipython3",
   "version": "3.9.6"
  }
 },
 "nbformat": 4,
 "nbformat_minor": 2
}
